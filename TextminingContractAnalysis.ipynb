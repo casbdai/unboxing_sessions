{
  "cells": [
    {
      "cell_type": "markdown",
      "metadata": {
        "id": "view-in-github",
        "colab_type": "text"
      },
      "source": [
        "<a href=\"https://colab.research.google.com/github/casbdai/unboxing_sessions/blob/main/TextminingContractAnalysis.ipynb\" target=\"_parent\"><img src=\"https://colab.research.google.com/assets/colab-badge.svg\" alt=\"Open In Colab\"/></a>"
      ]
    },
    {
      "cell_type": "markdown",
      "metadata": {
        "id": "yCyuDv6ElAZf"
      },
      "source": [
        "# Building A Contract Analyzer:\n",
        "\n",
        "A short introduction in data processing for textual data and text classification"
      ]
    },
    {
      "cell_type": "markdown",
      "metadata": {
        "id": "BkZvhqMr_7jp"
      },
      "source": [
        "# Basic Setup\n",
        "\n",
        "\n",
        "Install nltk library for text processing and download some extensions that are required."
      ]
    },
    {
      "cell_type": "code",
      "execution_count": null,
      "metadata": {
        "id": "yQhsMSw0lAZo"
      },
      "outputs": [],
      "source": [
        "!pip install nltk\n",
        "import nltk\n",
        "nltk.download('stopwords')\n",
        "nltk.download('punkt')"
        "nltk.download('punkt_tab')"
      ]
    },
    {
      "cell_type": "code",
      "execution_count": null,
      "metadata": {
        "id": "qjYyB1uE_7js"
      },
      "outputs": [],
      "source": [
        "# we import a series of specific functions from the nltk package for processing the texts.\n",
        "from nltk.corpus import stopwords\n",
        "from nltk.tokenize import RegexpTokenizer\n",
        "from nltk.stem import SnowballStemmer\n",
        "\n",
        "# we import pandas for reading in files\n",
        "import pandas as pd"
      ]
    },
    {
      "cell_type": "markdown",
      "metadata": {
        "id": "c8XRycrYlAZs"
      },
      "source": [
        "## Read in the data"
      ]
    },
    {
      "cell_type": "code",
      "execution_count": null,
      "metadata": {
        "id": "bEDvRaQdlAZm"
      },
      "outputs": [],
      "source": [
        "corpus = pd.read_excel(\"https://raw.githubusercontent.com/casbdai/datasets/main/cuad_data.xlsx\")\n",
        "corpus.head()"
      ]
    },
    {
      "cell_type": "code",
      "source": [
        "corpus.info()"
      ],
      "metadata": {
        "id": "9A4TTUTmfVIq"
      },
      "execution_count": null,
      "outputs": []
    },
    {
      "cell_type": "markdown",
      "metadata": {
        "id": "clREJQkKlAZs"
      },
      "source": [
        "We extract the first document and save it as an object text."
      ]
    },
    {
      "cell_type": "code",
      "execution_count": null,
      "metadata": {
        "id": "sYc54tyNlAZt"
      },
      "outputs": [],
      "source": [
        "text = corpus[\"content\"][0]\n",
        "print(text)"
      ]
    },
    {
      "cell_type": "markdown",
      "metadata": {
        "id": "7JWYdbmQlAZt"
      },
      "source": [
        "## Pre-Processing Textual Data"
      ]
    },
    {
      "cell_type": "markdown",
      "metadata": {
        "id": "ssGwOsb6_7jv"
      },
      "source": [
        "### Convert text to lower case:"
      ]
    },
    {
      "cell_type": "code",
      "execution_count": null,
      "metadata": {
        "id": "N-0nNcOW_7jw"
      },
      "outputs": [],
      "source": [
        "lower_text = text.lower()\n",
        "print (lower_text)"
      ]
    },
    {
      "cell_type": "markdown",
      "metadata": {
        "id": "JkSpTRuC_7j0"
      },
      "source": [
        "### Tokenize text\n",
        "\n",
        "Break down text into tokens, i.e, breaking the sentences into single words for analysis."
      ]
    },
    {
      "cell_type": "code",
      "execution_count": null,
      "metadata": {
        "id": "dX9pJ-0x_7j1"
      },
      "outputs": [],
      "source": [
        "word_tokens = nltk.word_tokenize(lower_text)\n",
        "print(word_tokens)"
      ]
    },
    {
      "cell_type": "markdown",
      "metadata": {
        "id": "fSE97tGG_7j3"
      },
      "source": [
        "We need a better tokenizer also \"punctuation\" and \"numbers\" are retained as tokens. Also, very short words are translated into tokens.\n"
      ]
    },
    {
      "cell_type": "code",
      "execution_count": null,
      "metadata": {
        "id": "F_SjwHcM_7j4"
      },
      "outputs": [],
      "source": [
        "better_tokenizer = RegexpTokenizer(r'[a-zA-Z]{3,}')\n",
        "# [a-zA-Z] means that only letters are retained as tokens\n",
        "# {3,} means that only tokens with at least three characters are retained"
      ]
    },
    {
      "cell_type": "code",
      "execution_count": null,
      "metadata": {
        "id": "rWDHnw5wlAZv"
      },
      "outputs": [],
      "source": [
        "word_tokens = better_tokenizer.tokenize(lower_text)\n",
        "print(word_tokens)"
      ]
    },
    {
      "cell_type": "markdown",
      "metadata": {
        "id": "EUvyYiX6_7j6"
      },
      "source": [
        "## Remove stop words\n",
        "\n",
        "Remove irrelevant words using nltk stop words like is,the,a etc from the sentences as they don’t carry any information."
      ]
    },
    {
      "cell_type": "code",
      "execution_count": null,
      "metadata": {
        "id": "nIymk1QOlAZw"
      },
      "outputs": [],
      "source": [
        "stopword = stopwords.words('english')\n",
        "print(stopword)"
      ]
    },
    {
      "cell_type": "markdown",
      "metadata": {
        "id": "yZOlPzevlAZw"
      },
      "source": [
        "For getting rid of stopwords, we must compare each token against the words in the stop words list. With can be easily done in a list comprehension."
      ]
    },
    {
      "cell_type": "markdown",
      "metadata": {
        "id": "ixyraaB6lAZx"
      },
      "source": [
        "Reformulating the for loop as a list comprehension. List comprehensions are considered to be very understandable and are thus used very frequently by pythonistas."
      ]
    },
    {
      "cell_type": "code",
      "execution_count": null,
      "metadata": {
        "id": "2_kUc5Ge_7j7"
      },
      "outputs": [],
      "source": [
        "clean_tokens = [word for word in word_tokens if word not in stopword]\n",
        "print (clean_tokens)"
      ]
    },
    {
      "cell_type": "markdown",
      "metadata": {
        "id": "YWv-4wbB_7j9"
      },
      "source": [
        "## Stemming\n",
        "\n",
        "Often we want to map the different forms of the same word to the same root word, e.g. \"walks\", \"walking\", \"walked\" should all be the same as \"walk\"."
      ]
    },
    {
      "cell_type": "code",
      "source": [
        "print(clean_tokens)"
      ],
      "metadata": {
        "id": "Gc8scBbupZte"
      },
      "execution_count": null,
      "outputs": []
    },
    {
      "cell_type": "code",
      "execution_count": null,
      "metadata": {
        "id": "CNYExNQ0_7kA"
      },
      "outputs": [],
      "source": [
        "snowball_stemmer = SnowballStemmer('english')\n",
        "stemmed_token = [snowball_stemmer.stem(word) for word in clean_tokens]\n",
        "print(stemmed_token)"
      ]
    },
    {
      "cell_type": "markdown",
      "metadata": {
        "id": "M6VoToo9lAZ1"
      },
      "source": [
        "# Lab Session 1: Building A Contract Analyzer"
      ]
    },
    {
      "cell_type": "markdown",
      "source": [
        "## Import Model Functions"
      ],
      "metadata": {
        "id": "3MmXcMOv8lL1"
      }
    },
    {
      "cell_type": "code",
      "source": [
        "from sklearn.feature_extraction.text import CountVectorizer\n",
        "from sklearn.model_selection import train_test_split\n",
        "from sklearn.naive_bayes import MultinomialNB\n",
        "from sklearn.metrics import classification_report, accuracy_score"
      ],
      "metadata": {
        "id": "Uk_IHsle8kT4"
      },
      "execution_count": null,
      "outputs": []
    },
    {
      "cell_type": "markdown",
      "source": [
        "## Preprocessing in Sklearn\n",
        "\n",
        "Sklearn can do the precesssing for us with the functions CountVectorizer or TfIDF Vectorizer; But it provides no stemming for us."
      ],
      "metadata": {
        "id": "dincxGri8xVH"
      }
    },
    {
      "cell_type": "code",
      "source": [
        "# Defining a CountVectorizer with our preprocessing Steps\n",
        "vectorizer = CountVectorizer(lowercase=True, stop_words=\"english\", token_pattern=r'[a-zA-Z]{3,}',  min_df=5)\n",
        "\n",
        "# Loooking at the TDM Matrix\n",
        "X = vectorizer.fit_transform(corpus[\"content\"])\n",
        "TDM = pd.DataFrame(X.toarray(), columns=vectorizer.get_feature_names_out())\n",
        "TDM"
      ],
      "metadata": {
        "id": "SNgAL1VBpHeh"
      },
      "execution_count": null,
      "outputs": []
    },
    {
      "cell_type": "markdown",
      "metadata": {
        "id": "hxhUrrW3fJxD"
      },
      "source": [
        "## Preprocess Train and Test sets"
      ]
    },
    {
      "cell_type": "code",
      "source": [
        "X = corpus[\"content\"]\n",
        "X"
      ],
      "metadata": {
        "id": "QqzOoWP3Lc8f"
      },
      "execution_count": null,
      "outputs": []
    },
    {
      "cell_type": "code",
      "source": [
        "X_vectorized = vectorizer.fit_transform(X)"
      ],
      "metadata": {
        "id": "j6i7t3CwMXZP"
      },
      "execution_count": null,
      "outputs": []
    },
    {
      "cell_type": "code",
      "source": [
        "y = corpus[\"Third Party Beneficiary\"]\n",
        "y"
      ],
      "metadata": {
        "id": "y55hCCWrLjvc"
      },
      "execution_count": null,
      "outputs": []
    },
    {
      "cell_type": "code",
      "source": [
        "classifier = MultinomialNB()\n",
        "classifier.fit(X_vectorized, y)"
      ],
      "metadata": {
        "id": "ihp_YpQjL0VF"
      },
      "execution_count": null,
      "outputs": []
    },
    {
      "cell_type": "code",
      "source": [
        "classifier.predict(X_vectorized)"
      ],
      "metadata": {
        "id": "uekMeeZhL2uC"
      },
      "execution_count": null,
      "outputs": []
    },
    {
      "cell_type": "markdown",
      "source": [
        "# Lab Session 2: Evaluating our Contract Analyzer"
      ],
      "metadata": {
        "id": "P5757z77M_AK"
      }
    },
    {
      "cell_type": "markdown",
      "source": [
        "## Pre-Process the Data"
      ],
      "metadata": {
        "id": "obvi11-0NTJB"
      }
    },
    {
      "cell_type": "code",
      "execution_count": null,
      "metadata": {
        "id": "NQi3LWINfJxE"
      },
      "outputs": [],
      "source": [
        "X_train, X_test, y_train, y_test = train_test_split(X, y, test_size=0.3, random_state = 1)"
      ]
    },
    {
      "cell_type": "markdown",
      "metadata": {
        "id": "9Az8gpklfJxF"
      },
      "source": [
        "*Using* our vectorizer to convert the text to a numeric representation"
      ]
    },
    {
      "cell_type": "code",
      "execution_count": null,
      "metadata": {
        "id": "GDuKrOM3fJxG"
      },
      "outputs": [],
      "source": [
        "X_train_vectorized = vectorizer.fit_transform(X_train)\n",
        "X_test_vectorized = vectorizer.transform(X_test)"
      ]
    },
    {
      "cell_type": "markdown",
      "metadata": {
        "id": "Xvtv9919fJxH"
      },
      "source": [
        "## Train the model"
      ]
    },
    {
      "cell_type": "code",
      "execution_count": null,
      "metadata": {
        "id": "hXrE4jJRfJxI"
      },
      "outputs": [],
      "source": [
        "classifier = MultinomialNB()\n",
        "classifier.fit(X_train_vectorized, y_train)"
      ]
    },
    {
      "cell_type": "markdown",
      "metadata": {
        "id": "4shx7DMafJxJ"
      },
      "source": [
        "## Evaluate Predictions"
      ]
    },
    {
      "cell_type": "code",
      "execution_count": null,
      "metadata": {
        "id": "B3tjr-l3fJxK"
      },
      "outputs": [],
      "source": [
        "predictions = classifier.predict(X_test_vectorized)\n",
        "accuracy_score(y_test, predictions)"
      ]
    }
  ],
  "metadata": {
    "colab": {
      "provenance": [],
      "include_colab_link": true
    },
    "kernelspec": {
      "display_name": "venv",
      "language": "python",
      "name": "python3"
    },
    "language_info": {
      "codemirror_mode": {
        "name": "ipython",
        "version": 3
      },
      "file_extension": ".py",
      "mimetype": "text/x-python",
      "name": "python",
      "nbconvert_exporter": "python",
      "pygments_lexer": "ipython3",
      "version": "3.9.10"
    },
    "vscode": {
      "interpreter": {
        "hash": "9cfc3c7994f631dfc6a65b56363e87144dd9fa5c38ebff28a3247fb8dab8888e"
      }
    }
  },
  "nbformat": 4,
  "nbformat_minor": 0
}
