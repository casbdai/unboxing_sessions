{
  "cells": [
    {
      "cell_type": "markdown",
      "metadata": {
        "id": "view-in-github",
        "colab_type": "text"
      },
      "source": [
        "<a href=\"https://colab.research.google.com/github/casbdai/unboxing_sessions/blob/main/TextminingContractAnalysis.ipynb\" target=\"_parent\"><img src=\"https://colab.research.google.com/assets/colab-badge.svg\" alt=\"Open In Colab\"/></a>"
      ]
    },
    {
      "cell_type": "markdown",
      "metadata": {
        "id": "yCyuDv6ElAZf"
      },
      "source": [
        "# Building A Contract Analyzer:\n",
        "\n",
        "A short introduction in data processing for textual data and text classification"
      ]
    },
    {
      "cell_type": "markdown",
      "metadata": {
        "id": "BkZvhqMr_7jp"
      },
      "source": [
        "# Basic Setup\n",
        "\n",
        "\n",
        "Install nltk library for text processing and download some extensions that are required. Also, we install the wordcloud library for plotting our results as wordcloud. TextBlob is a library for sentiment analysis."
      ]
    },
    {
      "cell_type": "code",
      "execution_count": 1,
      "metadata": {
        "id": "yQhsMSw0lAZo",
        "colab": {
          "base_uri": "https://localhost:8080/"
        },
        "outputId": "01edd8a9-7724-4e77-a3c5-26cc11f9bfb7"
      },
      "outputs": [
        {
          "output_type": "stream",
          "name": "stdout",
          "text": [
            "Requirement already satisfied: nltk in /usr/local/lib/python3.10/dist-packages (3.8.1)\n",
            "Requirement already satisfied: click in /usr/local/lib/python3.10/dist-packages (from nltk) (8.1.7)\n",
            "Requirement already satisfied: joblib in /usr/local/lib/python3.10/dist-packages (from nltk) (1.4.2)\n",
            "Requirement already satisfied: regex>=2021.8.3 in /usr/local/lib/python3.10/dist-packages (from nltk) (2024.5.15)\n",
            "Requirement already satisfied: tqdm in /usr/local/lib/python3.10/dist-packages (from nltk) (4.66.5)\n"
          ]
        },
        {
          "output_type": "stream",
          "name": "stderr",
          "text": [
            "[nltk_data] Downloading package stopwords to /root/nltk_data...\n",
            "[nltk_data]   Package stopwords is already up-to-date!\n"
          ]
        },
        {
          "output_type": "execute_result",
          "data": {
            "text/plain": [
              "True"
            ]
          },
          "metadata": {},
          "execution_count": 1
        }
      ],
      "source": [
        "!pip install nltk\n",
        "import nltk\n",
        "nltk.download('stopwords')"
      ]
    },
    {
      "cell_type": "code",
      "execution_count": 2,
      "metadata": {
        "id": "qjYyB1uE_7js"
      },
      "outputs": [],
      "source": [
        "# we import a series of specific functions from the nltk package for processing the texts.\n",
        "from nltk.corpus import stopwords\n",
        "from nltk.tokenize import RegexpTokenizer\n",
        "from nltk.stem import SnowballStemmer\n",
        "\n",
        "# we import pandas for reading in files\n",
        "import pandas as pd"
      ]
    },
    {
      "cell_type": "markdown",
      "metadata": {
        "id": "c8XRycrYlAZs"
      },
      "source": [
        "## Read in the data"
      ]
    },
    {
      "cell_type": "code",
      "execution_count": 3,
      "metadata": {
        "id": "bEDvRaQdlAZm",
        "colab": {
          "base_uri": "https://localhost:8080/",
          "height": 322
        },
        "outputId": "a60a22f8-11f2-414f-92c7-2cab227f488d"
      },
      "outputs": [
        {
          "output_type": "execute_result",
          "data": {
            "text/plain": [
              "                                            Contract  \\\n",
              "0  2ThemartComInc_19990826_10-12G_EX-10.10_670028...   \n",
              "1   ABILITYINC_06_15_2020-EX-4.25-SERVICES AGREEMENT   \n",
              "2  ACCELERATEDTECHNOLOGIESHOLDINGCORP_04_24_2003-...   \n",
              "3  ACCURAYINC_09_01_2010-EX-10.31-DISTRIBUTOR AGR...   \n",
              "4  ADAMSGOLFINC_03_21_2005-EX-10.17-ENDORSEMENT A...   \n",
              "\n",
              "                                             content  Audit Rights  \\\n",
              "0  CO-BRANDING AND ADVERTISING AGREEMENT  THIS CO...             1   \n",
              "1  EXHIBIT 4.25 INFORMATION IN THIS EXHIBIT IDENT...             0   \n",
              "2  EXHIBIT 10.13                               JO...             1   \n",
              "3  Exhibit 10.31    PURSUANT TO 17 C.F.R. § 240.2...             1   \n",
              "4  REDACTED COPY  CONFIDENTIAL TREATMENT REQUESTE...             0   \n",
              "\n",
              "   Covenant not to Sue  Document Name  Governing Law  Insurance  \\\n",
              "0                    0              1              1          0   \n",
              "1                    0              1              1          0   \n",
              "2                    0              1              1          0   \n",
              "3                    0              1              1          0   \n",
              "4                    0              1              1          0   \n",
              "\n",
              "   IP Ownership Assignment  Joint IP Ownership  Liquidated Damages  ...  \\\n",
              "0                        0                   1                   0  ...   \n",
              "1                        1                   0                   0  ...   \n",
              "2                        0                   0                   0  ...   \n",
              "3                        0                   0                   0  ...   \n",
              "4                        0                   0                   0  ...   \n",
              "\n",
              "   Post-termination Services  Price Restrictions  Revenue-Profit Sharing  \\\n",
              "0                          1                   0                       1   \n",
              "1                          0                   0                       0   \n",
              "2                          1                   0                       1   \n",
              "3                          1                   0                       0   \n",
              "4                          0                   0                       0   \n",
              "\n",
              "   ROFR-ROFO-ROFN  Source Code Escrow  Termination for Convenience  \\\n",
              "0               0                   0                            0   \n",
              "1               0                   0                            1   \n",
              "2               0                   0                            0   \n",
              "3               0                   0                            0   \n",
              "4               0                   0                            0   \n",
              "\n",
              "   Third Party Beneficiary  Unlimited/All-You-Can-Eat License  \\\n",
              "0                        0                                  0   \n",
              "1                        0                                  0   \n",
              "2                        0                                  0   \n",
              "3                        0                                  0   \n",
              "4                        0                                  0   \n",
              "\n",
              "   Volume Restriction  Warranty Duration  \n",
              "0                   0                  0  \n",
              "1                   0                  0  \n",
              "2                   0                  0  \n",
              "3                   0                  1  \n",
              "4                   1                  0  \n",
              "\n",
              "[5 rows x 24 columns]"
            ],
            "text/html": [
              "\n",
              "  <div id=\"df-f4742622-8525-419a-a084-5102faf18548\" class=\"colab-df-container\">\n",
              "    <div>\n",
              "<style scoped>\n",
              "    .dataframe tbody tr th:only-of-type {\n",
              "        vertical-align: middle;\n",
              "    }\n",
              "\n",
              "    .dataframe tbody tr th {\n",
              "        vertical-align: top;\n",
              "    }\n",
              "\n",
              "    .dataframe thead th {\n",
              "        text-align: right;\n",
              "    }\n",
              "</style>\n",
              "<table border=\"1\" class=\"dataframe\">\n",
              "  <thead>\n",
              "    <tr style=\"text-align: right;\">\n",
              "      <th></th>\n",
              "      <th>Contract</th>\n",
              "      <th>content</th>\n",
              "      <th>Audit Rights</th>\n",
              "      <th>Covenant not to Sue</th>\n",
              "      <th>Document Name</th>\n",
              "      <th>Governing Law</th>\n",
              "      <th>Insurance</th>\n",
              "      <th>IP Ownership Assignment</th>\n",
              "      <th>Joint IP Ownership</th>\n",
              "      <th>Liquidated Damages</th>\n",
              "      <th>...</th>\n",
              "      <th>Post-termination Services</th>\n",
              "      <th>Price Restrictions</th>\n",
              "      <th>Revenue-Profit Sharing</th>\n",
              "      <th>ROFR-ROFO-ROFN</th>\n",
              "      <th>Source Code Escrow</th>\n",
              "      <th>Termination for Convenience</th>\n",
              "      <th>Third Party Beneficiary</th>\n",
              "      <th>Unlimited/All-You-Can-Eat License</th>\n",
              "      <th>Volume Restriction</th>\n",
              "      <th>Warranty Duration</th>\n",
              "    </tr>\n",
              "  </thead>\n",
              "  <tbody>\n",
              "    <tr>\n",
              "      <th>0</th>\n",
              "      <td>2ThemartComInc_19990826_10-12G_EX-10.10_670028...</td>\n",
              "      <td>CO-BRANDING AND ADVERTISING AGREEMENT  THIS CO...</td>\n",
              "      <td>1</td>\n",
              "      <td>0</td>\n",
              "      <td>1</td>\n",
              "      <td>1</td>\n",
              "      <td>0</td>\n",
              "      <td>0</td>\n",
              "      <td>1</td>\n",
              "      <td>0</td>\n",
              "      <td>...</td>\n",
              "      <td>1</td>\n",
              "      <td>0</td>\n",
              "      <td>1</td>\n",
              "      <td>0</td>\n",
              "      <td>0</td>\n",
              "      <td>0</td>\n",
              "      <td>0</td>\n",
              "      <td>0</td>\n",
              "      <td>0</td>\n",
              "      <td>0</td>\n",
              "    </tr>\n",
              "    <tr>\n",
              "      <th>1</th>\n",
              "      <td>ABILITYINC_06_15_2020-EX-4.25-SERVICES AGREEMENT</td>\n",
              "      <td>EXHIBIT 4.25 INFORMATION IN THIS EXHIBIT IDENT...</td>\n",
              "      <td>0</td>\n",
              "      <td>0</td>\n",
              "      <td>1</td>\n",
              "      <td>1</td>\n",
              "      <td>0</td>\n",
              "      <td>1</td>\n",
              "      <td>0</td>\n",
              "      <td>0</td>\n",
              "      <td>...</td>\n",
              "      <td>0</td>\n",
              "      <td>0</td>\n",
              "      <td>0</td>\n",
              "      <td>0</td>\n",
              "      <td>0</td>\n",
              "      <td>1</td>\n",
              "      <td>0</td>\n",
              "      <td>0</td>\n",
              "      <td>0</td>\n",
              "      <td>0</td>\n",
              "    </tr>\n",
              "    <tr>\n",
              "      <th>2</th>\n",
              "      <td>ACCELERATEDTECHNOLOGIESHOLDINGCORP_04_24_2003-...</td>\n",
              "      <td>EXHIBIT 10.13                               JO...</td>\n",
              "      <td>1</td>\n",
              "      <td>0</td>\n",
              "      <td>1</td>\n",
              "      <td>1</td>\n",
              "      <td>0</td>\n",
              "      <td>0</td>\n",
              "      <td>0</td>\n",
              "      <td>0</td>\n",
              "      <td>...</td>\n",
              "      <td>1</td>\n",
              "      <td>0</td>\n",
              "      <td>1</td>\n",
              "      <td>0</td>\n",
              "      <td>0</td>\n",
              "      <td>0</td>\n",
              "      <td>0</td>\n",
              "      <td>0</td>\n",
              "      <td>0</td>\n",
              "      <td>0</td>\n",
              "    </tr>\n",
              "    <tr>\n",
              "      <th>3</th>\n",
              "      <td>ACCURAYINC_09_01_2010-EX-10.31-DISTRIBUTOR AGR...</td>\n",
              "      <td>Exhibit 10.31    PURSUANT TO 17 C.F.R. § 240.2...</td>\n",
              "      <td>1</td>\n",
              "      <td>0</td>\n",
              "      <td>1</td>\n",
              "      <td>1</td>\n",
              "      <td>0</td>\n",
              "      <td>0</td>\n",
              "      <td>0</td>\n",
              "      <td>0</td>\n",
              "      <td>...</td>\n",
              "      <td>1</td>\n",
              "      <td>0</td>\n",
              "      <td>0</td>\n",
              "      <td>0</td>\n",
              "      <td>0</td>\n",
              "      <td>0</td>\n",
              "      <td>0</td>\n",
              "      <td>0</td>\n",
              "      <td>0</td>\n",
              "      <td>1</td>\n",
              "    </tr>\n",
              "    <tr>\n",
              "      <th>4</th>\n",
              "      <td>ADAMSGOLFINC_03_21_2005-EX-10.17-ENDORSEMENT A...</td>\n",
              "      <td>REDACTED COPY  CONFIDENTIAL TREATMENT REQUESTE...</td>\n",
              "      <td>0</td>\n",
              "      <td>0</td>\n",
              "      <td>1</td>\n",
              "      <td>1</td>\n",
              "      <td>0</td>\n",
              "      <td>0</td>\n",
              "      <td>0</td>\n",
              "      <td>0</td>\n",
              "      <td>...</td>\n",
              "      <td>0</td>\n",
              "      <td>0</td>\n",
              "      <td>0</td>\n",
              "      <td>0</td>\n",
              "      <td>0</td>\n",
              "      <td>0</td>\n",
              "      <td>0</td>\n",
              "      <td>0</td>\n",
              "      <td>1</td>\n",
              "      <td>0</td>\n",
              "    </tr>\n",
              "  </tbody>\n",
              "</table>\n",
              "<p>5 rows × 24 columns</p>\n",
              "</div>\n",
              "    <div class=\"colab-df-buttons\">\n",
              "\n",
              "  <div class=\"colab-df-container\">\n",
              "    <button class=\"colab-df-convert\" onclick=\"convertToInteractive('df-f4742622-8525-419a-a084-5102faf18548')\"\n",
              "            title=\"Convert this dataframe to an interactive table.\"\n",
              "            style=\"display:none;\">\n",
              "\n",
              "  <svg xmlns=\"http://www.w3.org/2000/svg\" height=\"24px\" viewBox=\"0 -960 960 960\">\n",
              "    <path d=\"M120-120v-720h720v720H120Zm60-500h600v-160H180v160Zm220 220h160v-160H400v160Zm0 220h160v-160H400v160ZM180-400h160v-160H180v160Zm440 0h160v-160H620v160ZM180-180h160v-160H180v160Zm440 0h160v-160H620v160Z\"/>\n",
              "  </svg>\n",
              "    </button>\n",
              "\n",
              "  <style>\n",
              "    .colab-df-container {\n",
              "      display:flex;\n",
              "      gap: 12px;\n",
              "    }\n",
              "\n",
              "    .colab-df-convert {\n",
              "      background-color: #E8F0FE;\n",
              "      border: none;\n",
              "      border-radius: 50%;\n",
              "      cursor: pointer;\n",
              "      display: none;\n",
              "      fill: #1967D2;\n",
              "      height: 32px;\n",
              "      padding: 0 0 0 0;\n",
              "      width: 32px;\n",
              "    }\n",
              "\n",
              "    .colab-df-convert:hover {\n",
              "      background-color: #E2EBFA;\n",
              "      box-shadow: 0px 1px 2px rgba(60, 64, 67, 0.3), 0px 1px 3px 1px rgba(60, 64, 67, 0.15);\n",
              "      fill: #174EA6;\n",
              "    }\n",
              "\n",
              "    .colab-df-buttons div {\n",
              "      margin-bottom: 4px;\n",
              "    }\n",
              "\n",
              "    [theme=dark] .colab-df-convert {\n",
              "      background-color: #3B4455;\n",
              "      fill: #D2E3FC;\n",
              "    }\n",
              "\n",
              "    [theme=dark] .colab-df-convert:hover {\n",
              "      background-color: #434B5C;\n",
              "      box-shadow: 0px 1px 3px 1px rgba(0, 0, 0, 0.15);\n",
              "      filter: drop-shadow(0px 1px 2px rgba(0, 0, 0, 0.3));\n",
              "      fill: #FFFFFF;\n",
              "    }\n",
              "  </style>\n",
              "\n",
              "    <script>\n",
              "      const buttonEl =\n",
              "        document.querySelector('#df-f4742622-8525-419a-a084-5102faf18548 button.colab-df-convert');\n",
              "      buttonEl.style.display =\n",
              "        google.colab.kernel.accessAllowed ? 'block' : 'none';\n",
              "\n",
              "      async function convertToInteractive(key) {\n",
              "        const element = document.querySelector('#df-f4742622-8525-419a-a084-5102faf18548');\n",
              "        const dataTable =\n",
              "          await google.colab.kernel.invokeFunction('convertToInteractive',\n",
              "                                                    [key], {});\n",
              "        if (!dataTable) return;\n",
              "\n",
              "        const docLinkHtml = 'Like what you see? Visit the ' +\n",
              "          '<a target=\"_blank\" href=https://colab.research.google.com/notebooks/data_table.ipynb>data table notebook</a>'\n",
              "          + ' to learn more about interactive tables.';\n",
              "        element.innerHTML = '';\n",
              "        dataTable['output_type'] = 'display_data';\n",
              "        await google.colab.output.renderOutput(dataTable, element);\n",
              "        const docLink = document.createElement('div');\n",
              "        docLink.innerHTML = docLinkHtml;\n",
              "        element.appendChild(docLink);\n",
              "      }\n",
              "    </script>\n",
              "  </div>\n",
              "\n",
              "\n",
              "<div id=\"df-73899a71-dfcf-4002-929c-004ca77745f5\">\n",
              "  <button class=\"colab-df-quickchart\" onclick=\"quickchart('df-73899a71-dfcf-4002-929c-004ca77745f5')\"\n",
              "            title=\"Suggest charts\"\n",
              "            style=\"display:none;\">\n",
              "\n",
              "<svg xmlns=\"http://www.w3.org/2000/svg\" height=\"24px\"viewBox=\"0 0 24 24\"\n",
              "     width=\"24px\">\n",
              "    <g>\n",
              "        <path d=\"M19 3H5c-1.1 0-2 .9-2 2v14c0 1.1.9 2 2 2h14c1.1 0 2-.9 2-2V5c0-1.1-.9-2-2-2zM9 17H7v-7h2v7zm4 0h-2V7h2v10zm4 0h-2v-4h2v4z\"/>\n",
              "    </g>\n",
              "</svg>\n",
              "  </button>\n",
              "\n",
              "<style>\n",
              "  .colab-df-quickchart {\n",
              "      --bg-color: #E8F0FE;\n",
              "      --fill-color: #1967D2;\n",
              "      --hover-bg-color: #E2EBFA;\n",
              "      --hover-fill-color: #174EA6;\n",
              "      --disabled-fill-color: #AAA;\n",
              "      --disabled-bg-color: #DDD;\n",
              "  }\n",
              "\n",
              "  [theme=dark] .colab-df-quickchart {\n",
              "      --bg-color: #3B4455;\n",
              "      --fill-color: #D2E3FC;\n",
              "      --hover-bg-color: #434B5C;\n",
              "      --hover-fill-color: #FFFFFF;\n",
              "      --disabled-bg-color: #3B4455;\n",
              "      --disabled-fill-color: #666;\n",
              "  }\n",
              "\n",
              "  .colab-df-quickchart {\n",
              "    background-color: var(--bg-color);\n",
              "    border: none;\n",
              "    border-radius: 50%;\n",
              "    cursor: pointer;\n",
              "    display: none;\n",
              "    fill: var(--fill-color);\n",
              "    height: 32px;\n",
              "    padding: 0;\n",
              "    width: 32px;\n",
              "  }\n",
              "\n",
              "  .colab-df-quickchart:hover {\n",
              "    background-color: var(--hover-bg-color);\n",
              "    box-shadow: 0 1px 2px rgba(60, 64, 67, 0.3), 0 1px 3px 1px rgba(60, 64, 67, 0.15);\n",
              "    fill: var(--button-hover-fill-color);\n",
              "  }\n",
              "\n",
              "  .colab-df-quickchart-complete:disabled,\n",
              "  .colab-df-quickchart-complete:disabled:hover {\n",
              "    background-color: var(--disabled-bg-color);\n",
              "    fill: var(--disabled-fill-color);\n",
              "    box-shadow: none;\n",
              "  }\n",
              "\n",
              "  .colab-df-spinner {\n",
              "    border: 2px solid var(--fill-color);\n",
              "    border-color: transparent;\n",
              "    border-bottom-color: var(--fill-color);\n",
              "    animation:\n",
              "      spin 1s steps(1) infinite;\n",
              "  }\n",
              "\n",
              "  @keyframes spin {\n",
              "    0% {\n",
              "      border-color: transparent;\n",
              "      border-bottom-color: var(--fill-color);\n",
              "      border-left-color: var(--fill-color);\n",
              "    }\n",
              "    20% {\n",
              "      border-color: transparent;\n",
              "      border-left-color: var(--fill-color);\n",
              "      border-top-color: var(--fill-color);\n",
              "    }\n",
              "    30% {\n",
              "      border-color: transparent;\n",
              "      border-left-color: var(--fill-color);\n",
              "      border-top-color: var(--fill-color);\n",
              "      border-right-color: var(--fill-color);\n",
              "    }\n",
              "    40% {\n",
              "      border-color: transparent;\n",
              "      border-right-color: var(--fill-color);\n",
              "      border-top-color: var(--fill-color);\n",
              "    }\n",
              "    60% {\n",
              "      border-color: transparent;\n",
              "      border-right-color: var(--fill-color);\n",
              "    }\n",
              "    80% {\n",
              "      border-color: transparent;\n",
              "      border-right-color: var(--fill-color);\n",
              "      border-bottom-color: var(--fill-color);\n",
              "    }\n",
              "    90% {\n",
              "      border-color: transparent;\n",
              "      border-bottom-color: var(--fill-color);\n",
              "    }\n",
              "  }\n",
              "</style>\n",
              "\n",
              "  <script>\n",
              "    async function quickchart(key) {\n",
              "      const quickchartButtonEl =\n",
              "        document.querySelector('#' + key + ' button');\n",
              "      quickchartButtonEl.disabled = true;  // To prevent multiple clicks.\n",
              "      quickchartButtonEl.classList.add('colab-df-spinner');\n",
              "      try {\n",
              "        const charts = await google.colab.kernel.invokeFunction(\n",
              "            'suggestCharts', [key], {});\n",
              "      } catch (error) {\n",
              "        console.error('Error during call to suggestCharts:', error);\n",
              "      }\n",
              "      quickchartButtonEl.classList.remove('colab-df-spinner');\n",
              "      quickchartButtonEl.classList.add('colab-df-quickchart-complete');\n",
              "    }\n",
              "    (() => {\n",
              "      let quickchartButtonEl =\n",
              "        document.querySelector('#df-73899a71-dfcf-4002-929c-004ca77745f5 button');\n",
              "      quickchartButtonEl.style.display =\n",
              "        google.colab.kernel.accessAllowed ? 'block' : 'none';\n",
              "    })();\n",
              "  </script>\n",
              "</div>\n",
              "\n",
              "    </div>\n",
              "  </div>\n"
            ],
            "application/vnd.google.colaboratory.intrinsic+json": {
              "type": "dataframe",
              "variable_name": "corpus"
            }
          },
          "metadata": {},
          "execution_count": 3
        }
      ],
      "source": [
        "corpus = pd.read_excel(\"https://raw.githubusercontent.com/casbdai/datasets/main/cuad_data.xlsx\")\n",
        "corpus.head()"
      ]
    },
    {
      "cell_type": "code",
      "source": [
        "corpus.info()"
      ],
      "metadata": {
        "id": "9A4TTUTmfVIq",
        "outputId": "c07f9d68-88b4-496e-80c5-7902491da9e4",
        "colab": {
          "base_uri": "https://localhost:8080/"
        }
      },
      "execution_count": 4,
      "outputs": [
        {
          "output_type": "stream",
          "name": "stdout",
          "text": [
            "<class 'pandas.core.frame.DataFrame'>\n",
            "RangeIndex: 498 entries, 0 to 497\n",
            "Data columns (total 24 columns):\n",
            " #   Column                             Non-Null Count  Dtype \n",
            "---  ------                             --------------  ----- \n",
            " 0   Contract                           498 non-null    object\n",
            " 1   content                            498 non-null    object\n",
            " 2   Audit Rights                       498 non-null    int64 \n",
            " 3   Covenant not to Sue                498 non-null    int64 \n",
            " 4   Document Name                      498 non-null    int64 \n",
            " 5   Governing Law                      498 non-null    int64 \n",
            " 6   Insurance                          498 non-null    int64 \n",
            " 7   IP Ownership Assignment            498 non-null    int64 \n",
            " 8   Joint IP Ownership                 498 non-null    int64 \n",
            " 9   Liquidated Damages                 498 non-null    int64 \n",
            " 10  Minimum Commitment                 498 non-null    int64 \n",
            " 11  Most Favored Nation                498 non-null    int64 \n",
            " 12  No-Solicit of Employees            498 non-null    int64 \n",
            " 13  Non-Disparagement                  498 non-null    int64 \n",
            " 14  Post-termination Services          498 non-null    int64 \n",
            " 15  Price Restrictions                 498 non-null    int64 \n",
            " 16  Revenue-Profit Sharing             498 non-null    int64 \n",
            " 17  ROFR-ROFO-ROFN                     498 non-null    int64 \n",
            " 18  Source Code Escrow                 498 non-null    int64 \n",
            " 19  Termination for Convenience        498 non-null    int64 \n",
            " 20  Third Party Beneficiary            498 non-null    int64 \n",
            " 21  Unlimited/All-You-Can-Eat License  498 non-null    int64 \n",
            " 22  Volume Restriction                 498 non-null    int64 \n",
            " 23  Warranty Duration                  498 non-null    int64 \n",
            "dtypes: int64(22), object(2)\n",
            "memory usage: 93.5+ KB\n"
          ]
        }
      ]
    },
    {
      "cell_type": "markdown",
      "metadata": {
        "id": "clREJQkKlAZs"
      },
      "source": [
        "We extract the first document and save it as an object text."
      ]
    },
    {
      "cell_type": "code",
      "execution_count": 5,
      "metadata": {
        "id": "sYc54tyNlAZt",
        "colab": {
          "base_uri": "https://localhost:8080/"
        },
        "outputId": "6f3b799f-6c89-4de9-a088-ac14ad7c201a"
      },
      "outputs": [
        {
          "output_type": "stream",
          "name": "stdout",
          "text": [
            "CO-BRANDING AND ADVERTISING AGREEMENT  THIS CO-BRANDING AND ADVERTISING AGREEMENT (the \"Agreement\") is made as of June 21, 1999 (the \"Effective Date\") by and between I-ESCROW, INC., with its principal place of business at 1730 S. Amphlett Blvd., Suite 233, San Mateo, California 94402 (\"i-Escrow\"), and 2THEMART.COM, INC. having its principal place of business at 18301 Von Karman Avenue, 7th Floor, Irvine, California 92612 (\"2TheMart\").  1. DEFINITIONS.  (a) \"CONTENT\" means all content or information, in any medium, provided by a party to the other party for use in conjunction with the performance of its obligations hereunder, including without limitation any text, music, sound, photographs, video, graphics, data or software. Content provided by 2TheMart is referred to herein as \"2TheMart Content\" and Content provided by i-Escrow is referred to herein as \"i-Escrow Content.\"  (b) \"CO-BRANDED SITE\" means the web-site accessible through Domain Name, for the Services implemented by i-Escrow. The homepage of this web-site will visibly display both 2TheMart Marks and i-Escrow Marks.  (c) \"CUSTOMERS\" means all users who access Co-Branded Site.  (d) \"DOMAIN NAME\" means www.iescrow.com/2TheMart.  (e) \"ESCROW SERVICES\" means services for auction sellers and high bidders whereby an agent holds a buyer's money in trust until the buyer approves the applicable item that was physically delivered, at which time the agent releases the buyer's money to seller, after subtracting the escrow fees.  (f) \"INFORMATION TRANSFER MECHANISM\" means the mechanism by which 2TheMart transfers to i-Escrow information to populate the applicable i-Escrow transaction and user registration forms.  (g) \"LAUNCH DATE\" means the first date on which the Co-Branded Site is pointed to in all references to i-Escrow from 2TheMart auction site, and the Information Transfer Mechanism is publicly deployed (post-beta).  (h) \"MARKS\" means all domain names, trademarks and logos designated by a party for the other party's use in conjunction with such other party's performance under this Agreement.  Marks designated by 2TheMart for i-Escrow's use are referred to herein as \"2TheMart Marks\" and Marks designated by i-Escrow for 2TheMart' use are referred to herein as \"i-Escrow Marks.\"  (i) \"SERVICES\" means i-Escrow's implementation and performance of the Escrow Services as of the Effective Date, as modified over time.  (j) \"SHADOW SITE\" means the site where Co-Branded Site is made available for 2TheMart's testing of the Information Transfer Mechanism prior to being made publicly available.  (k) \"TRANSACTION\" means a transaction utilizing the Services that actually closes and that was initiated by a Transaction Inquiry from a Customer.  (l) \"TRANSACTION INQUIRY\" means a Customer's submission of i-Escrow's standard New Transaction Inquiry form (or its successor) on or through the Co-Branded Pages.  Currently this means entry of a description and price of merchandise by a user (buyer or seller) who agrees to abide by the terms and conditions of the Services, together with email address of the other party, regardless of whether or not any Transaction is completed.  Source: 2THEMART COM INC, 10-12G, 8/26/1999      2. DEVELOPMENT AND IMPLEMENTATION.  2.1 OVERVIEW.  As set forth herein, 2TheMart will promote Services to its auction users (buyers and sellers), and i-Escrow shall develop Co-Branded Site, and develop the Information Transfer Mechanism working with 2TheMart to make Services available seamlessly to Customers. Unless otherwise specified, each party shall be responsible for all development, hosting and other costs associated with the pages resident on their servers and all emails to users they send.  2.2 INITIAL INFORMATION TRANSFER MECHANISM DEVELOPMENT. The parties shall negotiate in good faith to determine the initial operation of the Information Transfer Mechanism and to describe such operation and development fees, in a statement of work (\"SOW\").  Each party shall make available sufficient and qualified engineers to negotiate the SOW.  No SOW shall be binding on the parties unless mutually approved by both parties.  In the event that the parties are unable to agree to an SOW within 2 months following the Effective Date, either party may, in its sole discretion, terminate this Agreement by providing written notice.  Once approved, the parties shall use commercially reasonable efforts to diligently implement their respective obligations under the SOW.  Upon completion of its duties under the SOW, a party shall notify the other party and provide the other party with the opportunity to test and evaluate its work. i-Escrow shall make available the Shadow Site for such testing in a timely manner. Each party shall reasonably cooperate with the other party in effectuating their respective duties under the SOW.  The Information Transfer Mechanism shall not go live until its operation has been approved (\"Approval Date\") by both parties, such approval not to be unreasonably withheld.  2.3 LAUNCH TIMING.  Each party shall use good faith and reasonable efforts to expeditiously develop the Co-Branded Pages and the Information Transfer Mechanism.  In the event that, after using such efforts, the Launch Date has not occurred within 4 months following the Effective Date, either party may terminate this Agreement by providing written notice.  If  only one party has used good faith and reasonable development efforts, only that party may exercise the foregoing right to terminate.  2.4 RESTRICTIONS ON COMMUNICATIONS.  i-Escrow may place banner advertising on the Co-Branded Site upon prior written approval of 2TheMart, which shall be at the discretion of 2TheMart.  All advertising revenue arising from the banner ads shall be solely i-Escrow's.  i-Escrow shall not run banner advertisements on the Co-Branded Site for any of 2TheMart's competitors. 2TheMart shall provide in writing, a list of companies they would like to exclude, including every time they wish to change this list.  2.5 SERVICE PERFORMANCE OF INFORMATION TRANSFER MECHANISM.  The parties each shall in good faith work to provide reasonable service levels with respect to the operation of the portions of the Information Transfer Mechanism in their control.  Source: 2THEMART COM INC, 10-12G, 8/26/1999      2.6 PROGRAM REVIEW MEETINGS.  The parties shall meet, at least once per month either in person, or by telephone, to coordinate the implementation of this agreement over time.  3. PROMOTION.  After Launch Date, 2TheMart will widely promote the Services:  (a) To every seller and high bidder through means including, but not limited to, end of auction emails containing links, such that, it shall be possible for the buyer or seller to initiate a Transaction Inquiry with i-Escrow, without having to re-enter all their personal or transaction related information.  (b)  By adding links to Co-Branded Site in FAQ section of 2TheMart auctions.  (c) By adding links to Co-Branded Site on the seller listing pages of 2TheMart auctions.  (d) By displaying a text or graphic link to a page containing information about Services on all auction item pages and bidding pages to educate bidders about i-Escrow. 2TheMart may use the \"Escrow Services Description\" attached in Exhibit A for creating such a page.  5. PAYMENT.  5.1 ADVERTISING FEES.  After the Launch Date, i-Escrow shall pay 2TheMart advertising fees based on the number of Transaction Inquiries. This advertising fees shall consist of a per Transaction Inquiry amount calculated by multiplying 0.025% by the amount of the average Transaction from all Customers in the preceding quarter. The formula for arriving at the per Transaction Inquiry amount may be revised from time to time during the term of this Agreement to reflect present market conditions (\"the Adjusted Rate\"), but only by mutual  consent of the parties after good faith discussions. The Adjusted Rate shall be added as an addendum to this Agreement.  5.2 REPORTING.  Within two (2) weeks following the end of each calendar quarter, i-Escrow shall provide to 2TheMart a report, describing for each quarter: the number of new registrations through the Co-Branded Pages; the number of Transaction Inquiries from Customers; the total number of Transactions from such inquiries; the total dollar value of the Transactions.  5.3 AUDIT RIGHTS. i-Escrow shall keep for one (1) year proper records and books of account relating to the computation of advertising payments owed to 2TheMart (including, as appropriate, the computation of the size of average Transaction).  Once every twelve (12) months, 2TheMart through a CPA may inspect and audit such records to verify reports. Any such inspection will be conducted in a manner that does not unreasonably interfere with i-Escrow's business activities and with no less than fifteen (15) days notice. i-Escrow shall within two (2) weeks make any overdue payments disclosed by the audit. Such inspection shall be at 2TheMart's expense; however, if the audit reveals overdue payments in excess of ten percent (10%) of the payments owed to date, i-Escrow shall immediately pay all cost of such audit.  6. RIGHTS AND STANDARDS.  Source: 2THEMART COM INC, 10-12G, 8/26/1999      6.1 CONTENT. 2TheMart hereby grants to i-Escrow a worldwide, non-exclusive right to use, reproduce, distribute, publicly perform, publicly display and digitally perform the 2TheMart Content soley with respect to  and in conjunction with the Co-Branded Site all with the prior written consent of 2TheMart, for the term of this Agreement.  i-Escrow hereby grants to 2TheMart a worldwide, non-exclusive right to use, reproduce, distribute, publicly perform, publicly display and digitally perform the i-Escrow Content on or in conjunction with 2TheMart auctions.  6.2 CONTENT OWNERSHIP.  Except as otherwise provided in this Agreement, as between 2TheMart and i-Escrow: (a) 2TheMart and its suppliers retain all rights, title and interest in and to all intellectual property rights embodied in or associated with the 2TheMart Content, and b) i-Escrow and its suppliers retain all rights, title and interest in and to all intellectual property rights embodied in or associated with the i-Escrow Content and Co-Branded Site.  There are no implied licenses under this Agreement, and any rights not expressly granted are reserved. Neither party shall exceed the scope of the rights granted hereunder.  6.3 TRADEMARKS.  Subject to the terms and conditions of this Agreement: (a) i-Escrow hereby grants to 2TheMart a non-exclusive, nontransferable right to use the i-Escrow Marks (including without limitation the Domain Name) in links to and advertisements and promotions for the Co-Branded Pages or the Services; and (b) 2TheMart hereby grants to i-Escrow a non-exclusive, nontransferable right to use 2TheMart Marks (including without limitation the Domain Name) on the Co-Branded Pages, and for the performance of  Services.  6.4 TRADEMARK RESTRICTIONS.  The Mark owner may terminate the foregoing rights if, in its reasonable discretion, the other party's use of the Marks tarnishes, blurs or dilutes the quality associated with the Marks or the associated goodwill and such problem is not cured within ten (10) days of notice of breach; alternatively, instead of terminating the right in total, the  owner may specify that certain pages of the other party's web-site may not contain the Marks. Title to and ownership of the owner's Marks shall remain with the owner.  The receiving party shall use the Marks exactly in the form provided and in conformance with any trademark usage policies.  The other party shall not take any action inconsistent with the owner's ownership of the Marks, and any benefits accruing from use of such Marks shall automatically vest in the owner.  The other party shall not form any combination marks with the other party's Marks. Notwithstanding the foregoing, to the extent that the Domain Name is deemed a combination mark, neither party shall use the Domain Name for any purpose except as expressly provided herein or attempt to register the Domain Name, and the parties will jointly cooperate on any enforcement action of infringement of the Domain Name.  6.5 LIMITS ON SUBLICENSING.  All rights (under any applicable intellectual property right) granted herein are not sublicenseable,  Source: 2THEMART COM INC, 10-12G, 8/26/1999      transferable or assignable.  Notwithstanding the foregoing, either party may use a third party web host, but all actions or failures to act of the web host that would be a breach of this Agreement, were the actions or failures to act taken by the applicable party, shall be deemed a breach of this Agreement.  In addition, 2TheMart may grant sublicenses to companies that 2TheMart has a business relationship with to the extent that 2TheMart Content is visible from such company's web-site through a link or other means.  6.6 CONTENT STANDARDS. 2TheMart shall not provide any 2TheMart Content, and i-Escrow shall not provide any i-Escrow Content, that: (a) infringes any third party's copyright, patent, trademark, trade secret or other proprietary rights or rights of publicity or privacy; (b) violates any law, statute, ordinance or regulation (including without limitation the laws and regulations governing export control, unfair competition, antidiscrimination or false advertising); (c) is defamatory, trade libelous, unlawfully threatening or unlawfully harassing; (d) is obscene, harmful to minors or child pornographic; (e) contains any viruses, Trojan horses, worms, time bombs, cancelbots or other computer programming routines that are intended to damage, detrimentally interfere with, surreptitiously intercept or expropriate any system, data or personal information; and (f) is materially false, misleading or inaccurate.  6.7  SERVICE STANDARDS. i-Escrow will comply with all laws and regulations and act as an Independent Escrow Agent as per the guidelines of California Escrow Law (California Financial Code Section17000 et seq., or its successor).  Should any of the terms, conditions or provisions of this Agreement conflict with the California Escrow Law, its rules or regulations, which govern i-Escrow's business practices, the California Escrow Law shall prevail. Notwithstanding the foregoing, at any time that i-Escrow reasonably believes such a conflict exists, i-Escrow will give 2TheMart written notice of such conflict and the parties will use their best efforts to resolve such conflict.  7. DISCLAIMER OF WARRANTIES.  EACH PARTY PROVIDES ALL MATERIALS AND SERVICES TO THE OTHER PARTY \"AS IS.\"  EACH PARTY DISCLAIMS ALL WARRANTIES AND CONDITIONS, EXPRESS, IMPLIED OR STATUTORY, INCLUDING WITHOUT LIMITATION THE IMPLIED WARRANTIES OF TITLE, NON-  INFRINGEMENT, MERCHANTABILITY ANDFITNESS FOR A PARTICULAR PURPOSE.  Each party acknowledges that it has not entered into this Agreement in reliance upon any warranty or representation except those specifically set forth herein.  8. TERM AND TERMINATION.  8.1 TERM.  The term of this Agreement shall continue for one (1) year following the Launch Date, unless earlier terminated as provided herein. This Agreement may be renewed for any number of successive one (1) year terms by mutual written agreement of the parties prior to the conclusion of the term of this Agreement.  A party wishing to renew this Agreement shall give the other party notice thereof no less than thirty (30) days before the expiration of the term then in effect.  In the event that either party does not give such notice, the term of this Agreement shall be automatically renewed for another one (1) year.  Source: 2THEMART COM INC, 10-12G, 8/26/1999      8.2 TERMINATION FOR BREACH.  In addition to other remedies that may be available to it, by providing written notice, a party may immediately terminate this Agreement: (a) if the other party materially breaches this Agreement and fails to cure that breach within sixty (60) days after receiving written notice of the breach, or (b) as provided in Sections 2.2  [INITIAL INFORMATION TRANSFER MECHANISM DEVELOPMENT], 2.4  [RESTRICTIONS ON COMMUNICATIONS], or 12.4.  8.3 TERMINATION FOR CHANGE IN COMPANY STRUCTURE.  If a majority of the equity securities of either 2TheMart or i-Escrow, Inc. (except that i-Escrow may sell all or a majority of its equity securities or voting interests to i-Escrow.com, and i-Escrow.com may sell all or a majority of its equity securities or voting interests to i-Escrow's existing shareholders, without triggering the foregoing) are acquired by another company during the term of this Agreement either company may terminate this Agreement, without liability, by giving a thirty (30) days written notice to the other party.  8.4 TERMINATION FOR BANKRUPTCY. Either party may terminate or suspend this Agreement effective immediately and without liability upon written notice to the other party if any one of the following events occurs:  (a) the other party files a voluntary petition in bankruptcy or otherwise seeks protection under any law for the protection of debtors;  (b) a proceeding is instituted against the other party under any provision of any bankruptcy laws which is not dismissed within ninety (90) days;  (c) the other party is adjudged  bankrupt;  (d) a court assumes jurisdiction of all or a substantial portion of the assets of the other party under a reorganization law;  (e) a trustee or receiver is appointed by a court for all or a substantial portion of the assets of the other party;  (f) the other party becomes insolvent, ceases or suspends all or substantially all of its business; or  (g) the other party makes an assignment of the majority of its assets for the benefit of its creditors.  8.5 EFFECTS OF TERMINATION.  Upon expiration or termination of this Agreement for any reason: (a) all rights granted herein shall terminate, (b) i-Escrow shall pay all amounts owed to 2TheMart within six (6) weeks of termination, and (c) each party shall remove the other party's content and Marks from their servers.  Notwithstanding the foregoing, unless this Agreement was terminated for a material breach, all provisions of this Agreement shall survive to the extent necessary for i-Escrow to complete any Customer transactions which are pending at the time of expiration or termination.  Sections 1, 7,  8.5  [EFFECTS OF TERMINATION], 9, 10, 11 and 12 shall survive expiration or termination of this Agreement.  9. INDEMNITY.  Each party (the \"Indemnifying Party\") shall indemnify the other party (the \"Indemnified Party\") against any and all claims, losses, costs and expenses, including reasonable attorneys' fees, which the Indemnified Party may incur as a result of claims in any form by third parties arising from the Indemnifying Party's acts, omissions or misrepresentations to the extent that the Indemnified Party is deemed a principal of the Indemnifying Party.  In addition, 2TheMart shall indemnify i-Escrow against any and all claims, losses, costs and expenses, including reasonable attorneys' fees, which i-Escrow may incur as a result of claims in any form by third parties arising from 2TheMart Content.  In addition, i-Escrow shall indemnify 2TheMart against any and all claims, losses, costs and expenses, including reasonable attorneys' fees, which 2TheMart may incur as a result of claims in any form by third parties arising from i-Escrow  Source: 2THEMART COM INC, 10-12G, 8/26/1999      Content and or the Services provided to Customers.  The foregoing obligations are conditioned on the Indemnified Party: (i) giving the Indemnifying Party notice of the relevant claim, (ii) cooperating with the Indemnifying Party, at the Indemnifying Party's expense, in the defense of such claim, and (iii) giving the Indemnifying Party the right to control the defense and settlement of any such claim, except that the Indemnifying Party shall not enter into any settlement that affects the Indemnified Party's rights or interest without the Indemnified Party's prior written approval. The Indemnified Party shall have the right to participate in the defense at its expense.  10. LIMITATION ON LIABILITY.  EXCEPT IN THE EVENT OF A BREACH OF SECTION 11, NEITHER PARTY SHALL BE LIABLE FOR SPECIAL, INCIDENTAL OR CONSEQUENTIAL DAMAGES OR LOST PROFITS (HOWEVER ARISING, INCLUDING NEGLIGENCE) ARISING OUT OF OR IN CONNECTION WITH THIS AGREEMENT, EVEN IF THE PARTIES ARE AWARE OF THE POSSIBILITY OF SUCH DAMAGES.  11. CONFIDENTIAL INFORMATION.  A party's \"Confidential Information\" is defined as any confidential or proprietary information of a party which is disclosed to the other party in a writing marked confidential or, if disclosed orally, is identified as confidential at the time of disclosure and is subsequently reduced to a writing marked confidential and delivered to the  other party within ten (10) days of disclosure.  Each party shall hold the other party's Confidential Information in confidence and shall not disclose such Confidential Information to third parties nor use the other party's Confidential Information for any purpose other than as required to perform under this Agreement. Such restrictions shall not apply to Confidential Information which (a) is already known by the recipient, (b) becomes, through no act or fault of the recipient, publicly known, (c) is received by recipient from a third party without a restriction on disclosure or use, or (d) is independently developed by recipient without reference to the Confidential Information.  The restriction on disclosure shall not apply to Confidential Information which is required to be disclosed by a court or government agency. Upon expiration or termination of this Agreement, within fourteen (14) days of the other party's request, each party will return all Confidential Information and other deliverables to the requesting party.  12. GENERAL PROVISIONS.  12.1 GOVERNING LAW.  This Agreement will be governed and construed in accordance with the laws of the State of California without giving effect to conflict of laws principles.  Both parties submit to personal jurisdiction in California and further agree that any cause of action arising under this Agreement shall be brought in a court in Orange County, California.  12.2 SEVERABILITY; HEADINGS.  If any provision herein is held to be invalid or unenforceable for any reason, the remaining provisions will continue in full force without being impaired or invalidated in any way.  The parties agree to replace any invalid provision with a valid provision that most closely approximates the intent and economic effect of the invalid provision.  Headings are for reference purposes only and in no way define, limit, construe or describe the scope or extent of such section.  12.3 PUBLICITY.  Prior to the release of any press releases or other similar promotional materials related to this Agreement, the releasing party shall submit a written request for approval to the other party with a copy of the materials to be released, which  Source: 2THEMART COM INC, 10-12G, 8/26/1999      request shall be made no less than three (3) business days prior to the requested release date.  A party shall not unreasonably withhold or delay the granting of its approval of such materials, and such approval shall be provided to the other party within one (1) business day of receipt  12.4 FORCE MAJEURE.  Except as otherwise provided, if performance hereunder (other than payment) is prevented, restricted or interfered with by any act or condition whatsoever beyond the reasonable control of a party (a \"force majeure event\"), the party so affected, upon giving prompt notice to the other party, shall be excused from such performance to the extent of such prevention, restriction or interference.  However, if a force majeure event interferes with the operation of this Agreement for sixty (60) days or more, either party can terminate this Agreement, without penalty.  Notwithstanding the foregoing, the occurrence of any force majeure event shall not limit either party's obligations under Section 9 with respect to any third party claim as to which the other party seeks indemnification.  12.5 INDEPENDENT CONTRACTORS.  The parties are independent contractors, and no agency, partnership, joint venture, employee- employer or franchisor-franchisee relationship is  intended or created by this Agreement.  Neither party shall make any warranties or representations on behalf of the other party.  12.6 NOTICE.  Any notices hereunder shall be given to the appropriate party at the address specified below or at such other address as the party shall specify in writing.  Notice shall be deemed given: upon personal delivery; if sent by fax, upon confirmation of receipt; or if sent by a reputable overnight courier with tracking capabilities, one (1) day after the date of mailing: To i-Escrow:            i-Escrow, Inc.                         1730 South Amphlett Blvd., #215                         San Mateo, CA 94402                         Fax no. (650) 638-7890                         Attention:  President  With copy to:           Fred M. Greguras, Esq.                         Legal Counsel of i-Escrow                         Fenwick & West LLP                         Two Palo Alto Square                         Palo Alto, CA 94306  To 2TheMart:            Dominic J. Magliarditi                         President                         18301 Von Karman Avenue,                         7th Floor                         Irvine, CA 92612                         Fax no. (949) 477-1221  11.7 COUNTERPARTS.  This Agreement may be executed in one or more counterparts, each of which shall be deemed an original and all of which shall be taken together and deemed to be one instrument.  12.8 GOOD FAITH.  The parties agree to act in good faith with respect to each provision of this Agreement and any dispute that may arise related hereto.  12.9 ADDITIONAL DOCUMENTS/INFORMATION. The parties agree to sign and/or provide such additional documents and/or information as may reasonably be required to carry out the intent of this Agreement and to effectuate its purposes.  12.10 RIGHTS AND REMEDIES CUMULATIVE. The rights and remedies provided herein will be cumulative and not exclusive of any other rights or remedies provided by law or otherwise.  12.11 NONWAIVER.   No failure or forbearance by either party to exercise any right or insist upon or enforce performance of any obligation hereunder shall be deemed a waiver or relinquishment to any extent of that or any other right or obligation, in that or any other instance; rather, the  Source: 2THEMART COM INC, 10-12G, 8/26/1999      same shall be and shall remain in full force and effect. Any waiver of any right of a party or any obligation of the other party hereunder must be made in a writing signed by the arty waiving such right or obligation.  12.12 ENTIRE AGREEMENT.  This Agreement contains the entire understanding of the parties hereto with respect to the transactions and matters contemplated hereby, supersedes all previous Agreements between i-Escrow and 2TheMart concerning the subject matter (except for the Confidential Agreement Dated January 4 1999, which shall survive this Agreement).  No amendments or supplements to this Agreement will be effective for any purpose except by a written Agreement signed by the parties.  No party hereto has relied on any statement, representation or promise of any party or with any other officer, agent, employee or attorney for the other party in executing this Agreement except as expressly stated herein.  2THEMART.COM, INC.:                         I-ESCROW, INC.:  By:/s/Dominic J. Magliarditi                By:/s/Sanjay Bajaj Name: Dominic J. Magliarditi                Name: Sanjay Bajaj Title: President                            Title: VP Business Development Date: 6/21/99                               Date: 6/11/99          EXHIBIT A  ESCROW SERVICES DESCRIPTION  Successful completion of a transaction involves exchange of merchandise with payment. The buyer has to be satisfied he/she received what they thought they were getting and the seller has to be sure he/she gets paid. i-Escrow holds payment from the buyer in trust until the seller sends the merchandise to the buyer. Once the buyer accepts the merchandise, i-Escrow forwards the payment to the seller by writing a check.  A typical escrow transaction: When an auction ends, your end of auction email contains links to i-Escrow. Once you have signed up with i-Escrow   you go through the following steps to complete your transaction. 1.   Start a transaction by entering the description and price of the merchandise along with email address of the other party. 2.   The other party receives an email from i-Escrow requesting an acknowledgement of the terms of the transaction. 3.   Once the transaction is acknowledged by the other party, the buyer pays i-Escrow the agreed upon price, by credit card or other means. 4.   i-Escrow informs the seller that payment has been received, requesting them to ship the merchandise directly to the buyer. 5.   The seller provides i-Escrow with the tracking number of the shipment. 6.   The buyer receives and accepts the merchandise. 7.   i-Escrow sends the check to the seller.  For more information about I-Escrow, visit their web-site at www.iescrow.com  Source: 2THEMART COM INC, 10-12G, 8/26/1999\n"
          ]
        }
      ],
      "source": [
        "text = corpus[\"content\"][0]\n",
        "print(text)"
      ]
    },
    {
      "cell_type": "markdown",
      "metadata": {
        "id": "7JWYdbmQlAZt"
      },
      "source": [
        "## Pre-Processing Textual Data"
      ]
    },
    {
      "cell_type": "markdown",
      "metadata": {
        "id": "ssGwOsb6_7jv"
      },
      "source": [
        "### Convert text to lower case:"
      ]
    },
    {
      "cell_type": "code",
      "execution_count": 6,
      "metadata": {
        "id": "N-0nNcOW_7jw",
        "colab": {
          "base_uri": "https://localhost:8080/"
        },
        "outputId": "d4964136-46da-4b88-f699-5213de380222"
      },
      "outputs": [
        {
          "output_type": "stream",
          "name": "stdout",
          "text": [
            "co-branding and advertising agreement  this co-branding and advertising agreement (the \"agreement\") is made as of june 21, 1999 (the \"effective date\") by and between i-escrow, inc., with its principal place of business at 1730 s. amphlett blvd., suite 233, san mateo, california 94402 (\"i-escrow\"), and 2themart.com, inc. having its principal place of business at 18301 von karman avenue, 7th floor, irvine, california 92612 (\"2themart\").  1. definitions.  (a) \"content\" means all content or information, in any medium, provided by a party to the other party for use in conjunction with the performance of its obligations hereunder, including without limitation any text, music, sound, photographs, video, graphics, data or software. content provided by 2themart is referred to herein as \"2themart content\" and content provided by i-escrow is referred to herein as \"i-escrow content.\"  (b) \"co-branded site\" means the web-site accessible through domain name, for the services implemented by i-escrow. the homepage of this web-site will visibly display both 2themart marks and i-escrow marks.  (c) \"customers\" means all users who access co-branded site.  (d) \"domain name\" means www.iescrow.com/2themart.  (e) \"escrow services\" means services for auction sellers and high bidders whereby an agent holds a buyer's money in trust until the buyer approves the applicable item that was physically delivered, at which time the agent releases the buyer's money to seller, after subtracting the escrow fees.  (f) \"information transfer mechanism\" means the mechanism by which 2themart transfers to i-escrow information to populate the applicable i-escrow transaction and user registration forms.  (g) \"launch date\" means the first date on which the co-branded site is pointed to in all references to i-escrow from 2themart auction site, and the information transfer mechanism is publicly deployed (post-beta).  (h) \"marks\" means all domain names, trademarks and logos designated by a party for the other party's use in conjunction with such other party's performance under this agreement.  marks designated by 2themart for i-escrow's use are referred to herein as \"2themart marks\" and marks designated by i-escrow for 2themart' use are referred to herein as \"i-escrow marks.\"  (i) \"services\" means i-escrow's implementation and performance of the escrow services as of the effective date, as modified over time.  (j) \"shadow site\" means the site where co-branded site is made available for 2themart's testing of the information transfer mechanism prior to being made publicly available.  (k) \"transaction\" means a transaction utilizing the services that actually closes and that was initiated by a transaction inquiry from a customer.  (l) \"transaction inquiry\" means a customer's submission of i-escrow's standard new transaction inquiry form (or its successor) on or through the co-branded pages.  currently this means entry of a description and price of merchandise by a user (buyer or seller) who agrees to abide by the terms and conditions of the services, together with email address of the other party, regardless of whether or not any transaction is completed.  source: 2themart com inc, 10-12g, 8/26/1999      2. development and implementation.  2.1 overview.  as set forth herein, 2themart will promote services to its auction users (buyers and sellers), and i-escrow shall develop co-branded site, and develop the information transfer mechanism working with 2themart to make services available seamlessly to customers. unless otherwise specified, each party shall be responsible for all development, hosting and other costs associated with the pages resident on their servers and all emails to users they send.  2.2 initial information transfer mechanism development. the parties shall negotiate in good faith to determine the initial operation of the information transfer mechanism and to describe such operation and development fees, in a statement of work (\"sow\").  each party shall make available sufficient and qualified engineers to negotiate the sow.  no sow shall be binding on the parties unless mutually approved by both parties.  in the event that the parties are unable to agree to an sow within 2 months following the effective date, either party may, in its sole discretion, terminate this agreement by providing written notice.  once approved, the parties shall use commercially reasonable efforts to diligently implement their respective obligations under the sow.  upon completion of its duties under the sow, a party shall notify the other party and provide the other party with the opportunity to test and evaluate its work. i-escrow shall make available the shadow site for such testing in a timely manner. each party shall reasonably cooperate with the other party in effectuating their respective duties under the sow.  the information transfer mechanism shall not go live until its operation has been approved (\"approval date\") by both parties, such approval not to be unreasonably withheld.  2.3 launch timing.  each party shall use good faith and reasonable efforts to expeditiously develop the co-branded pages and the information transfer mechanism.  in the event that, after using such efforts, the launch date has not occurred within 4 months following the effective date, either party may terminate this agreement by providing written notice.  if  only one party has used good faith and reasonable development efforts, only that party may exercise the foregoing right to terminate.  2.4 restrictions on communications.  i-escrow may place banner advertising on the co-branded site upon prior written approval of 2themart, which shall be at the discretion of 2themart.  all advertising revenue arising from the banner ads shall be solely i-escrow's.  i-escrow shall not run banner advertisements on the co-branded site for any of 2themart's competitors. 2themart shall provide in writing, a list of companies they would like to exclude, including every time they wish to change this list.  2.5 service performance of information transfer mechanism.  the parties each shall in good faith work to provide reasonable service levels with respect to the operation of the portions of the information transfer mechanism in their control.  source: 2themart com inc, 10-12g, 8/26/1999      2.6 program review meetings.  the parties shall meet, at least once per month either in person, or by telephone, to coordinate the implementation of this agreement over time.  3. promotion.  after launch date, 2themart will widely promote the services:  (a) to every seller and high bidder through means including, but not limited to, end of auction emails containing links, such that, it shall be possible for the buyer or seller to initiate a transaction inquiry with i-escrow, without having to re-enter all their personal or transaction related information.  (b)  by adding links to co-branded site in faq section of 2themart auctions.  (c) by adding links to co-branded site on the seller listing pages of 2themart auctions.  (d) by displaying a text or graphic link to a page containing information about services on all auction item pages and bidding pages to educate bidders about i-escrow. 2themart may use the \"escrow services description\" attached in exhibit a for creating such a page.  5. payment.  5.1 advertising fees.  after the launch date, i-escrow shall pay 2themart advertising fees based on the number of transaction inquiries. this advertising fees shall consist of a per transaction inquiry amount calculated by multiplying 0.025% by the amount of the average transaction from all customers in the preceding quarter. the formula for arriving at the per transaction inquiry amount may be revised from time to time during the term of this agreement to reflect present market conditions (\"the adjusted rate\"), but only by mutual  consent of the parties after good faith discussions. the adjusted rate shall be added as an addendum to this agreement.  5.2 reporting.  within two (2) weeks following the end of each calendar quarter, i-escrow shall provide to 2themart a report, describing for each quarter: the number of new registrations through the co-branded pages; the number of transaction inquiries from customers; the total number of transactions from such inquiries; the total dollar value of the transactions.  5.3 audit rights. i-escrow shall keep for one (1) year proper records and books of account relating to the computation of advertising payments owed to 2themart (including, as appropriate, the computation of the size of average transaction).  once every twelve (12) months, 2themart through a cpa may inspect and audit such records to verify reports. any such inspection will be conducted in a manner that does not unreasonably interfere with i-escrow's business activities and with no less than fifteen (15) days notice. i-escrow shall within two (2) weeks make any overdue payments disclosed by the audit. such inspection shall be at 2themart's expense; however, if the audit reveals overdue payments in excess of ten percent (10%) of the payments owed to date, i-escrow shall immediately pay all cost of such audit.  6. rights and standards.  source: 2themart com inc, 10-12g, 8/26/1999      6.1 content. 2themart hereby grants to i-escrow a worldwide, non-exclusive right to use, reproduce, distribute, publicly perform, publicly display and digitally perform the 2themart content soley with respect to  and in conjunction with the co-branded site all with the prior written consent of 2themart, for the term of this agreement.  i-escrow hereby grants to 2themart a worldwide, non-exclusive right to use, reproduce, distribute, publicly perform, publicly display and digitally perform the i-escrow content on or in conjunction with 2themart auctions.  6.2 content ownership.  except as otherwise provided in this agreement, as between 2themart and i-escrow: (a) 2themart and its suppliers retain all rights, title and interest in and to all intellectual property rights embodied in or associated with the 2themart content, and b) i-escrow and its suppliers retain all rights, title and interest in and to all intellectual property rights embodied in or associated with the i-escrow content and co-branded site.  there are no implied licenses under this agreement, and any rights not expressly granted are reserved. neither party shall exceed the scope of the rights granted hereunder.  6.3 trademarks.  subject to the terms and conditions of this agreement: (a) i-escrow hereby grants to 2themart a non-exclusive, nontransferable right to use the i-escrow marks (including without limitation the domain name) in links to and advertisements and promotions for the co-branded pages or the services; and (b) 2themart hereby grants to i-escrow a non-exclusive, nontransferable right to use 2themart marks (including without limitation the domain name) on the co-branded pages, and for the performance of  services.  6.4 trademark restrictions.  the mark owner may terminate the foregoing rights if, in its reasonable discretion, the other party's use of the marks tarnishes, blurs or dilutes the quality associated with the marks or the associated goodwill and such problem is not cured within ten (10) days of notice of breach; alternatively, instead of terminating the right in total, the  owner may specify that certain pages of the other party's web-site may not contain the marks. title to and ownership of the owner's marks shall remain with the owner.  the receiving party shall use the marks exactly in the form provided and in conformance with any trademark usage policies.  the other party shall not take any action inconsistent with the owner's ownership of the marks, and any benefits accruing from use of such marks shall automatically vest in the owner.  the other party shall not form any combination marks with the other party's marks. notwithstanding the foregoing, to the extent that the domain name is deemed a combination mark, neither party shall use the domain name for any purpose except as expressly provided herein or attempt to register the domain name, and the parties will jointly cooperate on any enforcement action of infringement of the domain name.  6.5 limits on sublicensing.  all rights (under any applicable intellectual property right) granted herein are not sublicenseable,  source: 2themart com inc, 10-12g, 8/26/1999      transferable or assignable.  notwithstanding the foregoing, either party may use a third party web host, but all actions or failures to act of the web host that would be a breach of this agreement, were the actions or failures to act taken by the applicable party, shall be deemed a breach of this agreement.  in addition, 2themart may grant sublicenses to companies that 2themart has a business relationship with to the extent that 2themart content is visible from such company's web-site through a link or other means.  6.6 content standards. 2themart shall not provide any 2themart content, and i-escrow shall not provide any i-escrow content, that: (a) infringes any third party's copyright, patent, trademark, trade secret or other proprietary rights or rights of publicity or privacy; (b) violates any law, statute, ordinance or regulation (including without limitation the laws and regulations governing export control, unfair competition, antidiscrimination or false advertising); (c) is defamatory, trade libelous, unlawfully threatening or unlawfully harassing; (d) is obscene, harmful to minors or child pornographic; (e) contains any viruses, trojan horses, worms, time bombs, cancelbots or other computer programming routines that are intended to damage, detrimentally interfere with, surreptitiously intercept or expropriate any system, data or personal information; and (f) is materially false, misleading or inaccurate.  6.7  service standards. i-escrow will comply with all laws and regulations and act as an independent escrow agent as per the guidelines of california escrow law (california financial code section17000 et seq., or its successor).  should any of the terms, conditions or provisions of this agreement conflict with the california escrow law, its rules or regulations, which govern i-escrow's business practices, the california escrow law shall prevail. notwithstanding the foregoing, at any time that i-escrow reasonably believes such a conflict exists, i-escrow will give 2themart written notice of such conflict and the parties will use their best efforts to resolve such conflict.  7. disclaimer of warranties.  each party provides all materials and services to the other party \"as is.\"  each party disclaims all warranties and conditions, express, implied or statutory, including without limitation the implied warranties of title, non-  infringement, merchantability andfitness for a particular purpose.  each party acknowledges that it has not entered into this agreement in reliance upon any warranty or representation except those specifically set forth herein.  8. term and termination.  8.1 term.  the term of this agreement shall continue for one (1) year following the launch date, unless earlier terminated as provided herein. this agreement may be renewed for any number of successive one (1) year terms by mutual written agreement of the parties prior to the conclusion of the term of this agreement.  a party wishing to renew this agreement shall give the other party notice thereof no less than thirty (30) days before the expiration of the term then in effect.  in the event that either party does not give such notice, the term of this agreement shall be automatically renewed for another one (1) year.  source: 2themart com inc, 10-12g, 8/26/1999      8.2 termination for breach.  in addition to other remedies that may be available to it, by providing written notice, a party may immediately terminate this agreement: (a) if the other party materially breaches this agreement and fails to cure that breach within sixty (60) days after receiving written notice of the breach, or (b) as provided in sections 2.2  [initial information transfer mechanism development], 2.4  [restrictions on communications], or 12.4.  8.3 termination for change in company structure.  if a majority of the equity securities of either 2themart or i-escrow, inc. (except that i-escrow may sell all or a majority of its equity securities or voting interests to i-escrow.com, and i-escrow.com may sell all or a majority of its equity securities or voting interests to i-escrow's existing shareholders, without triggering the foregoing) are acquired by another company during the term of this agreement either company may terminate this agreement, without liability, by giving a thirty (30) days written notice to the other party.  8.4 termination for bankruptcy. either party may terminate or suspend this agreement effective immediately and without liability upon written notice to the other party if any one of the following events occurs:  (a) the other party files a voluntary petition in bankruptcy or otherwise seeks protection under any law for the protection of debtors;  (b) a proceeding is instituted against the other party under any provision of any bankruptcy laws which is not dismissed within ninety (90) days;  (c) the other party is adjudged  bankrupt;  (d) a court assumes jurisdiction of all or a substantial portion of the assets of the other party under a reorganization law;  (e) a trustee or receiver is appointed by a court for all or a substantial portion of the assets of the other party;  (f) the other party becomes insolvent, ceases or suspends all or substantially all of its business; or  (g) the other party makes an assignment of the majority of its assets for the benefit of its creditors.  8.5 effects of termination.  upon expiration or termination of this agreement for any reason: (a) all rights granted herein shall terminate, (b) i-escrow shall pay all amounts owed to 2themart within six (6) weeks of termination, and (c) each party shall remove the other party's content and marks from their servers.  notwithstanding the foregoing, unless this agreement was terminated for a material breach, all provisions of this agreement shall survive to the extent necessary for i-escrow to complete any customer transactions which are pending at the time of expiration or termination.  sections 1, 7,  8.5  [effects of termination], 9, 10, 11 and 12 shall survive expiration or termination of this agreement.  9. indemnity.  each party (the \"indemnifying party\") shall indemnify the other party (the \"indemnified party\") against any and all claims, losses, costs and expenses, including reasonable attorneys' fees, which the indemnified party may incur as a result of claims in any form by third parties arising from the indemnifying party's acts, omissions or misrepresentations to the extent that the indemnified party is deemed a principal of the indemnifying party.  in addition, 2themart shall indemnify i-escrow against any and all claims, losses, costs and expenses, including reasonable attorneys' fees, which i-escrow may incur as a result of claims in any form by third parties arising from 2themart content.  in addition, i-escrow shall indemnify 2themart against any and all claims, losses, costs and expenses, including reasonable attorneys' fees, which 2themart may incur as a result of claims in any form by third parties arising from i-escrow  source: 2themart com inc, 10-12g, 8/26/1999      content and or the services provided to customers.  the foregoing obligations are conditioned on the indemnified party: (i) giving the indemnifying party notice of the relevant claim, (ii) cooperating with the indemnifying party, at the indemnifying party's expense, in the defense of such claim, and (iii) giving the indemnifying party the right to control the defense and settlement of any such claim, except that the indemnifying party shall not enter into any settlement that affects the indemnified party's rights or interest without the indemnified party's prior written approval. the indemnified party shall have the right to participate in the defense at its expense.  10. limitation on liability.  except in the event of a breach of section 11, neither party shall be liable for special, incidental or consequential damages or lost profits (however arising, including negligence) arising out of or in connection with this agreement, even if the parties are aware of the possibility of such damages.  11. confidential information.  a party's \"confidential information\" is defined as any confidential or proprietary information of a party which is disclosed to the other party in a writing marked confidential or, if disclosed orally, is identified as confidential at the time of disclosure and is subsequently reduced to a writing marked confidential and delivered to the  other party within ten (10) days of disclosure.  each party shall hold the other party's confidential information in confidence and shall not disclose such confidential information to third parties nor use the other party's confidential information for any purpose other than as required to perform under this agreement. such restrictions shall not apply to confidential information which (a) is already known by the recipient, (b) becomes, through no act or fault of the recipient, publicly known, (c) is received by recipient from a third party without a restriction on disclosure or use, or (d) is independently developed by recipient without reference to the confidential information.  the restriction on disclosure shall not apply to confidential information which is required to be disclosed by a court or government agency. upon expiration or termination of this agreement, within fourteen (14) days of the other party's request, each party will return all confidential information and other deliverables to the requesting party.  12. general provisions.  12.1 governing law.  this agreement will be governed and construed in accordance with the laws of the state of california without giving effect to conflict of laws principles.  both parties submit to personal jurisdiction in california and further agree that any cause of action arising under this agreement shall be brought in a court in orange county, california.  12.2 severability; headings.  if any provision herein is held to be invalid or unenforceable for any reason, the remaining provisions will continue in full force without being impaired or invalidated in any way.  the parties agree to replace any invalid provision with a valid provision that most closely approximates the intent and economic effect of the invalid provision.  headings are for reference purposes only and in no way define, limit, construe or describe the scope or extent of such section.  12.3 publicity.  prior to the release of any press releases or other similar promotional materials related to this agreement, the releasing party shall submit a written request for approval to the other party with a copy of the materials to be released, which  source: 2themart com inc, 10-12g, 8/26/1999      request shall be made no less than three (3) business days prior to the requested release date.  a party shall not unreasonably withhold or delay the granting of its approval of such materials, and such approval shall be provided to the other party within one (1) business day of receipt  12.4 force majeure.  except as otherwise provided, if performance hereunder (other than payment) is prevented, restricted or interfered with by any act or condition whatsoever beyond the reasonable control of a party (a \"force majeure event\"), the party so affected, upon giving prompt notice to the other party, shall be excused from such performance to the extent of such prevention, restriction or interference.  however, if a force majeure event interferes with the operation of this agreement for sixty (60) days or more, either party can terminate this agreement, without penalty.  notwithstanding the foregoing, the occurrence of any force majeure event shall not limit either party's obligations under section 9 with respect to any third party claim as to which the other party seeks indemnification.  12.5 independent contractors.  the parties are independent contractors, and no agency, partnership, joint venture, employee- employer or franchisor-franchisee relationship is  intended or created by this agreement.  neither party shall make any warranties or representations on behalf of the other party.  12.6 notice.  any notices hereunder shall be given to the appropriate party at the address specified below or at such other address as the party shall specify in writing.  notice shall be deemed given: upon personal delivery; if sent by fax, upon confirmation of receipt; or if sent by a reputable overnight courier with tracking capabilities, one (1) day after the date of mailing: to i-escrow:            i-escrow, inc.                         1730 south amphlett blvd., #215                         san mateo, ca 94402                         fax no. (650) 638-7890                         attention:  president  with copy to:           fred m. greguras, esq.                         legal counsel of i-escrow                         fenwick & west llp                         two palo alto square                         palo alto, ca 94306  to 2themart:            dominic j. magliarditi                         president                         18301 von karman avenue,                         7th floor                         irvine, ca 92612                         fax no. (949) 477-1221  11.7 counterparts.  this agreement may be executed in one or more counterparts, each of which shall be deemed an original and all of which shall be taken together and deemed to be one instrument.  12.8 good faith.  the parties agree to act in good faith with respect to each provision of this agreement and any dispute that may arise related hereto.  12.9 additional documents/information. the parties agree to sign and/or provide such additional documents and/or information as may reasonably be required to carry out the intent of this agreement and to effectuate its purposes.  12.10 rights and remedies cumulative. the rights and remedies provided herein will be cumulative and not exclusive of any other rights or remedies provided by law or otherwise.  12.11 nonwaiver.   no failure or forbearance by either party to exercise any right or insist upon or enforce performance of any obligation hereunder shall be deemed a waiver or relinquishment to any extent of that or any other right or obligation, in that or any other instance; rather, the  source: 2themart com inc, 10-12g, 8/26/1999      same shall be and shall remain in full force and effect. any waiver of any right of a party or any obligation of the other party hereunder must be made in a writing signed by the arty waiving such right or obligation.  12.12 entire agreement.  this agreement contains the entire understanding of the parties hereto with respect to the transactions and matters contemplated hereby, supersedes all previous agreements between i-escrow and 2themart concerning the subject matter (except for the confidential agreement dated january 4 1999, which shall survive this agreement).  no amendments or supplements to this agreement will be effective for any purpose except by a written agreement signed by the parties.  no party hereto has relied on any statement, representation or promise of any party or with any other officer, agent, employee or attorney for the other party in executing this agreement except as expressly stated herein.  2themart.com, inc.:                         i-escrow, inc.:  by:/s/dominic j. magliarditi                by:/s/sanjay bajaj name: dominic j. magliarditi                name: sanjay bajaj title: president                            title: vp business development date: 6/21/99                               date: 6/11/99          exhibit a  escrow services description  successful completion of a transaction involves exchange of merchandise with payment. the buyer has to be satisfied he/she received what they thought they were getting and the seller has to be sure he/she gets paid. i-escrow holds payment from the buyer in trust until the seller sends the merchandise to the buyer. once the buyer accepts the merchandise, i-escrow forwards the payment to the seller by writing a check.  a typical escrow transaction: when an auction ends, your end of auction email contains links to i-escrow. once you have signed up with i-escrow   you go through the following steps to complete your transaction. 1.   start a transaction by entering the description and price of the merchandise along with email address of the other party. 2.   the other party receives an email from i-escrow requesting an acknowledgement of the terms of the transaction. 3.   once the transaction is acknowledged by the other party, the buyer pays i-escrow the agreed upon price, by credit card or other means. 4.   i-escrow informs the seller that payment has been received, requesting them to ship the merchandise directly to the buyer. 5.   the seller provides i-escrow with the tracking number of the shipment. 6.   the buyer receives and accepts the merchandise. 7.   i-escrow sends the check to the seller.  for more information about i-escrow, visit their web-site at www.iescrow.com  source: 2themart com inc, 10-12g, 8/26/1999\n"
          ]
        }
      ],
      "source": [
        "lower_text = text.lower()\n",
        "print (lower_text)"
      ]
    },
    {
      "cell_type": "markdown",
      "metadata": {
        "id": "JkSpTRuC_7j0"
      },
      "source": [
        "### Tokenize text\n",
        "\n",
        "Break down text into tokens, i.e, breaking the sentences into single words for analysis."
      ]
    },
    {
      "cell_type": "code",
      "execution_count": 7,
      "metadata": {
        "id": "dX9pJ-0x_7j1",
        "colab": {
          "base_uri": "https://localhost:8080/"
        },
        "outputId": "c6b762c5-f22f-4741-c5d0-307993118ea5"
      },
      "outputs": [
        {
          "output_type": "stream",
          "name": "stdout",
          "text": [
            "['co-branding', 'and', 'advertising', 'agreement', 'this', 'co-branding', 'and', 'advertising', 'agreement', '(', 'the', '``', 'agreement', \"''\", ')', 'is', 'made', 'as', 'of', 'june', '21', ',', '1999', '(', 'the', '``', 'effective', 'date', \"''\", ')', 'by', 'and', 'between', 'i-escrow', ',', 'inc.', ',', 'with', 'its', 'principal', 'place', 'of', 'business', 'at', '1730', 's.', 'amphlett', 'blvd.', ',', 'suite', '233', ',', 'san', 'mateo', ',', 'california', '94402', '(', '``', 'i-escrow', \"''\", ')', ',', 'and', '2themart.com', ',', 'inc.', 'having', 'its', 'principal', 'place', 'of', 'business', 'at', '18301', 'von', 'karman', 'avenue', ',', '7th', 'floor', ',', 'irvine', ',', 'california', '92612', '(', '``', '2themart', \"''\", ')', '.', '1.', 'definitions', '.', '(', 'a', ')', '``', 'content', \"''\", 'means', 'all', 'content', 'or', 'information', ',', 'in', 'any', 'medium', ',', 'provided', 'by', 'a', 'party', 'to', 'the', 'other', 'party', 'for', 'use', 'in', 'conjunction', 'with', 'the', 'performance', 'of', 'its', 'obligations', 'hereunder', ',', 'including', 'without', 'limitation', 'any', 'text', ',', 'music', ',', 'sound', ',', 'photographs', ',', 'video', ',', 'graphics', ',', 'data', 'or', 'software', '.', 'content', 'provided', 'by', '2themart', 'is', 'referred', 'to', 'herein', 'as', '``', '2themart', 'content', \"''\", 'and', 'content', 'provided', 'by', 'i-escrow', 'is', 'referred', 'to', 'herein', 'as', '``', 'i-escrow', 'content', '.', \"''\", '(', 'b', ')', '``', 'co-branded', 'site', \"''\", 'means', 'the', 'web-site', 'accessible', 'through', 'domain', 'name', ',', 'for', 'the', 'services', 'implemented', 'by', 'i-escrow', '.', 'the', 'homepage', 'of', 'this', 'web-site', 'will', 'visibly', 'display', 'both', '2themart', 'marks', 'and', 'i-escrow', 'marks', '.', '(', 'c', ')', '``', 'customers', \"''\", 'means', 'all', 'users', 'who', 'access', 'co-branded', 'site', '.', '(', 'd', ')', '``', 'domain', 'name', \"''\", 'means', 'www.iescrow.com/2themart', '.', '(', 'e', ')', '``', 'escrow', 'services', \"''\", 'means', 'services', 'for', 'auction', 'sellers', 'and', 'high', 'bidders', 'whereby', 'an', 'agent', 'holds', 'a', 'buyer', \"'s\", 'money', 'in', 'trust', 'until', 'the', 'buyer', 'approves', 'the', 'applicable', 'item', 'that', 'was', 'physically', 'delivered', ',', 'at', 'which', 'time', 'the', 'agent', 'releases', 'the', 'buyer', \"'s\", 'money', 'to', 'seller', ',', 'after', 'subtracting', 'the', 'escrow', 'fees', '.', '(', 'f', ')', '``', 'information', 'transfer', 'mechanism', \"''\", 'means', 'the', 'mechanism', 'by', 'which', '2themart', 'transfers', 'to', 'i-escrow', 'information', 'to', 'populate', 'the', 'applicable', 'i-escrow', 'transaction', 'and', 'user', 'registration', 'forms', '.', '(', 'g', ')', '``', 'launch', 'date', \"''\", 'means', 'the', 'first', 'date', 'on', 'which', 'the', 'co-branded', 'site', 'is', 'pointed', 'to', 'in', 'all', 'references', 'to', 'i-escrow', 'from', '2themart', 'auction', 'site', ',', 'and', 'the', 'information', 'transfer', 'mechanism', 'is', 'publicly', 'deployed', '(', 'post-beta', ')', '.', '(', 'h', ')', '``', 'marks', \"''\", 'means', 'all', 'domain', 'names', ',', 'trademarks', 'and', 'logos', 'designated', 'by', 'a', 'party', 'for', 'the', 'other', 'party', \"'s\", 'use', 'in', 'conjunction', 'with', 'such', 'other', 'party', \"'s\", 'performance', 'under', 'this', 'agreement', '.', 'marks', 'designated', 'by', '2themart', 'for', 'i-escrow', \"'s\", 'use', 'are', 'referred', 'to', 'herein', 'as', '``', '2themart', 'marks', \"''\", 'and', 'marks', 'designated', 'by', 'i-escrow', 'for', '2themart', \"'\", 'use', 'are', 'referred', 'to', 'herein', 'as', '``', 'i-escrow', 'marks', '.', \"''\", '(', 'i', ')', '``', 'services', \"''\", 'means', 'i-escrow', \"'s\", 'implementation', 'and', 'performance', 'of', 'the', 'escrow', 'services', 'as', 'of', 'the', 'effective', 'date', ',', 'as', 'modified', 'over', 'time', '.', '(', 'j', ')', '``', 'shadow', 'site', \"''\", 'means', 'the', 'site', 'where', 'co-branded', 'site', 'is', 'made', 'available', 'for', '2themart', \"'s\", 'testing', 'of', 'the', 'information', 'transfer', 'mechanism', 'prior', 'to', 'being', 'made', 'publicly', 'available', '.', '(', 'k', ')', '``', 'transaction', \"''\", 'means', 'a', 'transaction', 'utilizing', 'the', 'services', 'that', 'actually', 'closes', 'and', 'that', 'was', 'initiated', 'by', 'a', 'transaction', 'inquiry', 'from', 'a', 'customer', '.', '(', 'l', ')', '``', 'transaction', 'inquiry', \"''\", 'means', 'a', 'customer', \"'s\", 'submission', 'of', 'i-escrow', \"'s\", 'standard', 'new', 'transaction', 'inquiry', 'form', '(', 'or', 'its', 'successor', ')', 'on', 'or', 'through', 'the', 'co-branded', 'pages', '.', 'currently', 'this', 'means', 'entry', 'of', 'a', 'description', 'and', 'price', 'of', 'merchandise', 'by', 'a', 'user', '(', 'buyer', 'or', 'seller', ')', 'who', 'agrees', 'to', 'abide', 'by', 'the', 'terms', 'and', 'conditions', 'of', 'the', 'services', ',', 'together', 'with', 'email', 'address', 'of', 'the', 'other', 'party', ',', 'regardless', 'of', 'whether', 'or', 'not', 'any', 'transaction', 'is', 'completed', '.', 'source', ':', '2themart', 'com', 'inc', ',', '10-12g', ',', '8/26/1999', '2.', 'development', 'and', 'implementation', '.', '2.1', 'overview', '.', 'as', 'set', 'forth', 'herein', ',', '2themart', 'will', 'promote', 'services', 'to', 'its', 'auction', 'users', '(', 'buyers', 'and', 'sellers', ')', ',', 'and', 'i-escrow', 'shall', 'develop', 'co-branded', 'site', ',', 'and', 'develop', 'the', 'information', 'transfer', 'mechanism', 'working', 'with', '2themart', 'to', 'make', 'services', 'available', 'seamlessly', 'to', 'customers', '.', 'unless', 'otherwise', 'specified', ',', 'each', 'party', 'shall', 'be', 'responsible', 'for', 'all', 'development', ',', 'hosting', 'and', 'other', 'costs', 'associated', 'with', 'the', 'pages', 'resident', 'on', 'their', 'servers', 'and', 'all', 'emails', 'to', 'users', 'they', 'send', '.', '2.2', 'initial', 'information', 'transfer', 'mechanism', 'development', '.', 'the', 'parties', 'shall', 'negotiate', 'in', 'good', 'faith', 'to', 'determine', 'the', 'initial', 'operation', 'of', 'the', 'information', 'transfer', 'mechanism', 'and', 'to', 'describe', 'such', 'operation', 'and', 'development', 'fees', ',', 'in', 'a', 'statement', 'of', 'work', '(', '``', 'sow', \"''\", ')', '.', 'each', 'party', 'shall', 'make', 'available', 'sufficient', 'and', 'qualified', 'engineers', 'to', 'negotiate', 'the', 'sow', '.', 'no', 'sow', 'shall', 'be', 'binding', 'on', 'the', 'parties', 'unless', 'mutually', 'approved', 'by', 'both', 'parties', '.', 'in', 'the', 'event', 'that', 'the', 'parties', 'are', 'unable', 'to', 'agree', 'to', 'an', 'sow', 'within', '2', 'months', 'following', 'the', 'effective', 'date', ',', 'either', 'party', 'may', ',', 'in', 'its', 'sole', 'discretion', ',', 'terminate', 'this', 'agreement', 'by', 'providing', 'written', 'notice', '.', 'once', 'approved', ',', 'the', 'parties', 'shall', 'use', 'commercially', 'reasonable', 'efforts', 'to', 'diligently', 'implement', 'their', 'respective', 'obligations', 'under', 'the', 'sow', '.', 'upon', 'completion', 'of', 'its', 'duties', 'under', 'the', 'sow', ',', 'a', 'party', 'shall', 'notify', 'the', 'other', 'party', 'and', 'provide', 'the', 'other', 'party', 'with', 'the', 'opportunity', 'to', 'test', 'and', 'evaluate', 'its', 'work', '.', 'i-escrow', 'shall', 'make', 'available', 'the', 'shadow', 'site', 'for', 'such', 'testing', 'in', 'a', 'timely', 'manner', '.', 'each', 'party', 'shall', 'reasonably', 'cooperate', 'with', 'the', 'other', 'party', 'in', 'effectuating', 'their', 'respective', 'duties', 'under', 'the', 'sow', '.', 'the', 'information', 'transfer', 'mechanism', 'shall', 'not', 'go', 'live', 'until', 'its', 'operation', 'has', 'been', 'approved', '(', '``', 'approval', 'date', \"''\", ')', 'by', 'both', 'parties', ',', 'such', 'approval', 'not', 'to', 'be', 'unreasonably', 'withheld', '.', '2.3', 'launch', 'timing', '.', 'each', 'party', 'shall', 'use', 'good', 'faith', 'and', 'reasonable', 'efforts', 'to', 'expeditiously', 'develop', 'the', 'co-branded', 'pages', 'and', 'the', 'information', 'transfer', 'mechanism', '.', 'in', 'the', 'event', 'that', ',', 'after', 'using', 'such', 'efforts', ',', 'the', 'launch', 'date', 'has', 'not', 'occurred', 'within', '4', 'months', 'following', 'the', 'effective', 'date', ',', 'either', 'party', 'may', 'terminate', 'this', 'agreement', 'by', 'providing', 'written', 'notice', '.', 'if', 'only', 'one', 'party', 'has', 'used', 'good', 'faith', 'and', 'reasonable', 'development', 'efforts', ',', 'only', 'that', 'party', 'may', 'exercise', 'the', 'foregoing', 'right', 'to', 'terminate', '.', '2.4', 'restrictions', 'on', 'communications', '.', 'i-escrow', 'may', 'place', 'banner', 'advertising', 'on', 'the', 'co-branded', 'site', 'upon', 'prior', 'written', 'approval', 'of', '2themart', ',', 'which', 'shall', 'be', 'at', 'the', 'discretion', 'of', '2themart', '.', 'all', 'advertising', 'revenue', 'arising', 'from', 'the', 'banner', 'ads', 'shall', 'be', 'solely', 'i-escrow', \"'s\", '.', 'i-escrow', 'shall', 'not', 'run', 'banner', 'advertisements', 'on', 'the', 'co-branded', 'site', 'for', 'any', 'of', '2themart', \"'s\", 'competitors', '.', '2themart', 'shall', 'provide', 'in', 'writing', ',', 'a', 'list', 'of', 'companies', 'they', 'would', 'like', 'to', 'exclude', ',', 'including', 'every', 'time', 'they', 'wish', 'to', 'change', 'this', 'list', '.', '2.5', 'service', 'performance', 'of', 'information', 'transfer', 'mechanism', '.', 'the', 'parties', 'each', 'shall', 'in', 'good', 'faith', 'work', 'to', 'provide', 'reasonable', 'service', 'levels', 'with', 'respect', 'to', 'the', 'operation', 'of', 'the', 'portions', 'of', 'the', 'information', 'transfer', 'mechanism', 'in', 'their', 'control', '.', 'source', ':', '2themart', 'com', 'inc', ',', '10-12g', ',', '8/26/1999', '2.6', 'program', 'review', 'meetings', '.', 'the', 'parties', 'shall', 'meet', ',', 'at', 'least', 'once', 'per', 'month', 'either', 'in', 'person', ',', 'or', 'by', 'telephone', ',', 'to', 'coordinate', 'the', 'implementation', 'of', 'this', 'agreement', 'over', 'time', '.', '3.', 'promotion', '.', 'after', 'launch', 'date', ',', '2themart', 'will', 'widely', 'promote', 'the', 'services', ':', '(', 'a', ')', 'to', 'every', 'seller', 'and', 'high', 'bidder', 'through', 'means', 'including', ',', 'but', 'not', 'limited', 'to', ',', 'end', 'of', 'auction', 'emails', 'containing', 'links', ',', 'such', 'that', ',', 'it', 'shall', 'be', 'possible', 'for', 'the', 'buyer', 'or', 'seller', 'to', 'initiate', 'a', 'transaction', 'inquiry', 'with', 'i-escrow', ',', 'without', 'having', 'to', 're-enter', 'all', 'their', 'personal', 'or', 'transaction', 'related', 'information', '.', '(', 'b', ')', 'by', 'adding', 'links', 'to', 'co-branded', 'site', 'in', 'faq', 'section', 'of', '2themart', 'auctions', '.', '(', 'c', ')', 'by', 'adding', 'links', 'to', 'co-branded', 'site', 'on', 'the', 'seller', 'listing', 'pages', 'of', '2themart', 'auctions', '.', '(', 'd', ')', 'by', 'displaying', 'a', 'text', 'or', 'graphic', 'link', 'to', 'a', 'page', 'containing', 'information', 'about', 'services', 'on', 'all', 'auction', 'item', 'pages', 'and', 'bidding', 'pages', 'to', 'educate', 'bidders', 'about', 'i-escrow', '.', '2themart', 'may', 'use', 'the', '``', 'escrow', 'services', 'description', \"''\", 'attached', 'in', 'exhibit', 'a', 'for', 'creating', 'such', 'a', 'page', '.', '5.', 'payment', '.', '5.1', 'advertising', 'fees', '.', 'after', 'the', 'launch', 'date', ',', 'i-escrow', 'shall', 'pay', '2themart', 'advertising', 'fees', 'based', 'on', 'the', 'number', 'of', 'transaction', 'inquiries', '.', 'this', 'advertising', 'fees', 'shall', 'consist', 'of', 'a', 'per', 'transaction', 'inquiry', 'amount', 'calculated', 'by', 'multiplying', '0.025', '%', 'by', 'the', 'amount', 'of', 'the', 'average', 'transaction', 'from', 'all', 'customers', 'in', 'the', 'preceding', 'quarter', '.', 'the', 'formula', 'for', 'arriving', 'at', 'the', 'per', 'transaction', 'inquiry', 'amount', 'may', 'be', 'revised', 'from', 'time', 'to', 'time', 'during', 'the', 'term', 'of', 'this', 'agreement', 'to', 'reflect', 'present', 'market', 'conditions', '(', '``', 'the', 'adjusted', 'rate', \"''\", ')', ',', 'but', 'only', 'by', 'mutual', 'consent', 'of', 'the', 'parties', 'after', 'good', 'faith', 'discussions', '.', 'the', 'adjusted', 'rate', 'shall', 'be', 'added', 'as', 'an', 'addendum', 'to', 'this', 'agreement', '.', '5.2', 'reporting', '.', 'within', 'two', '(', '2', ')', 'weeks', 'following', 'the', 'end', 'of', 'each', 'calendar', 'quarter', ',', 'i-escrow', 'shall', 'provide', 'to', '2themart', 'a', 'report', ',', 'describing', 'for', 'each', 'quarter', ':', 'the', 'number', 'of', 'new', 'registrations', 'through', 'the', 'co-branded', 'pages', ';', 'the', 'number', 'of', 'transaction', 'inquiries', 'from', 'customers', ';', 'the', 'total', 'number', 'of', 'transactions', 'from', 'such', 'inquiries', ';', 'the', 'total', 'dollar', 'value', 'of', 'the', 'transactions', '.', '5.3', 'audit', 'rights', '.', 'i-escrow', 'shall', 'keep', 'for', 'one', '(', '1', ')', 'year', 'proper', 'records', 'and', 'books', 'of', 'account', 'relating', 'to', 'the', 'computation', 'of', 'advertising', 'payments', 'owed', 'to', '2themart', '(', 'including', ',', 'as', 'appropriate', ',', 'the', 'computation', 'of', 'the', 'size', 'of', 'average', 'transaction', ')', '.', 'once', 'every', 'twelve', '(', '12', ')', 'months', ',', '2themart', 'through', 'a', 'cpa', 'may', 'inspect', 'and', 'audit', 'such', 'records', 'to', 'verify', 'reports', '.', 'any', 'such', 'inspection', 'will', 'be', 'conducted', 'in', 'a', 'manner', 'that', 'does', 'not', 'unreasonably', 'interfere', 'with', 'i-escrow', \"'s\", 'business', 'activities', 'and', 'with', 'no', 'less', 'than', 'fifteen', '(', '15', ')', 'days', 'notice', '.', 'i-escrow', 'shall', 'within', 'two', '(', '2', ')', 'weeks', 'make', 'any', 'overdue', 'payments', 'disclosed', 'by', 'the', 'audit', '.', 'such', 'inspection', 'shall', 'be', 'at', '2themart', \"'s\", 'expense', ';', 'however', ',', 'if', 'the', 'audit', 'reveals', 'overdue', 'payments', 'in', 'excess', 'of', 'ten', 'percent', '(', '10', '%', ')', 'of', 'the', 'payments', 'owed', 'to', 'date', ',', 'i-escrow', 'shall', 'immediately', 'pay', 'all', 'cost', 'of', 'such', 'audit', '.', '6.', 'rights', 'and', 'standards', '.', 'source', ':', '2themart', 'com', 'inc', ',', '10-12g', ',', '8/26/1999', '6.1', 'content', '.', '2themart', 'hereby', 'grants', 'to', 'i-escrow', 'a', 'worldwide', ',', 'non-exclusive', 'right', 'to', 'use', ',', 'reproduce', ',', 'distribute', ',', 'publicly', 'perform', ',', 'publicly', 'display', 'and', 'digitally', 'perform', 'the', '2themart', 'content', 'soley', 'with', 'respect', 'to', 'and', 'in', 'conjunction', 'with', 'the', 'co-branded', 'site', 'all', 'with', 'the', 'prior', 'written', 'consent', 'of', '2themart', ',', 'for', 'the', 'term', 'of', 'this', 'agreement', '.', 'i-escrow', 'hereby', 'grants', 'to', '2themart', 'a', 'worldwide', ',', 'non-exclusive', 'right', 'to', 'use', ',', 'reproduce', ',', 'distribute', ',', 'publicly', 'perform', ',', 'publicly', 'display', 'and', 'digitally', 'perform', 'the', 'i-escrow', 'content', 'on', 'or', 'in', 'conjunction', 'with', '2themart', 'auctions', '.', '6.2', 'content', 'ownership', '.', 'except', 'as', 'otherwise', 'provided', 'in', 'this', 'agreement', ',', 'as', 'between', '2themart', 'and', 'i-escrow', ':', '(', 'a', ')', '2themart', 'and', 'its', 'suppliers', 'retain', 'all', 'rights', ',', 'title', 'and', 'interest', 'in', 'and', 'to', 'all', 'intellectual', 'property', 'rights', 'embodied', 'in', 'or', 'associated', 'with', 'the', '2themart', 'content', ',', 'and', 'b', ')', 'i-escrow', 'and', 'its', 'suppliers', 'retain', 'all', 'rights', ',', 'title', 'and', 'interest', 'in', 'and', 'to', 'all', 'intellectual', 'property', 'rights', 'embodied', 'in', 'or', 'associated', 'with', 'the', 'i-escrow', 'content', 'and', 'co-branded', 'site', '.', 'there', 'are', 'no', 'implied', 'licenses', 'under', 'this', 'agreement', ',', 'and', 'any', 'rights', 'not', 'expressly', 'granted', 'are', 'reserved', '.', 'neither', 'party', 'shall', 'exceed', 'the', 'scope', 'of', 'the', 'rights', 'granted', 'hereunder', '.', '6.3', 'trademarks', '.', 'subject', 'to', 'the', 'terms', 'and', 'conditions', 'of', 'this', 'agreement', ':', '(', 'a', ')', 'i-escrow', 'hereby', 'grants', 'to', '2themart', 'a', 'non-exclusive', ',', 'nontransferable', 'right', 'to', 'use', 'the', 'i-escrow', 'marks', '(', 'including', 'without', 'limitation', 'the', 'domain', 'name', ')', 'in', 'links', 'to', 'and', 'advertisements', 'and', 'promotions', 'for', 'the', 'co-branded', 'pages', 'or', 'the', 'services', ';', 'and', '(', 'b', ')', '2themart', 'hereby', 'grants', 'to', 'i-escrow', 'a', 'non-exclusive', ',', 'nontransferable', 'right', 'to', 'use', '2themart', 'marks', '(', 'including', 'without', 'limitation', 'the', 'domain', 'name', ')', 'on', 'the', 'co-branded', 'pages', ',', 'and', 'for', 'the', 'performance', 'of', 'services', '.', '6.4', 'trademark', 'restrictions', '.', 'the', 'mark', 'owner', 'may', 'terminate', 'the', 'foregoing', 'rights', 'if', ',', 'in', 'its', 'reasonable', 'discretion', ',', 'the', 'other', 'party', \"'s\", 'use', 'of', 'the', 'marks', 'tarnishes', ',', 'blurs', 'or', 'dilutes', 'the', 'quality', 'associated', 'with', 'the', 'marks', 'or', 'the', 'associated', 'goodwill', 'and', 'such', 'problem', 'is', 'not', 'cured', 'within', 'ten', '(', '10', ')', 'days', 'of', 'notice', 'of', 'breach', ';', 'alternatively', ',', 'instead', 'of', 'terminating', 'the', 'right', 'in', 'total', ',', 'the', 'owner', 'may', 'specify', 'that', 'certain', 'pages', 'of', 'the', 'other', 'party', \"'s\", 'web-site', 'may', 'not', 'contain', 'the', 'marks', '.', 'title', 'to', 'and', 'ownership', 'of', 'the', 'owner', \"'s\", 'marks', 'shall', 'remain', 'with', 'the', 'owner', '.', 'the', 'receiving', 'party', 'shall', 'use', 'the', 'marks', 'exactly', 'in', 'the', 'form', 'provided', 'and', 'in', 'conformance', 'with', 'any', 'trademark', 'usage', 'policies', '.', 'the', 'other', 'party', 'shall', 'not', 'take', 'any', 'action', 'inconsistent', 'with', 'the', 'owner', \"'s\", 'ownership', 'of', 'the', 'marks', ',', 'and', 'any', 'benefits', 'accruing', 'from', 'use', 'of', 'such', 'marks', 'shall', 'automatically', 'vest', 'in', 'the', 'owner', '.', 'the', 'other', 'party', 'shall', 'not', 'form', 'any', 'combination', 'marks', 'with', 'the', 'other', 'party', \"'s\", 'marks', '.', 'notwithstanding', 'the', 'foregoing', ',', 'to', 'the', 'extent', 'that', 'the', 'domain', 'name', 'is', 'deemed', 'a', 'combination', 'mark', ',', 'neither', 'party', 'shall', 'use', 'the', 'domain', 'name', 'for', 'any', 'purpose', 'except', 'as', 'expressly', 'provided', 'herein', 'or', 'attempt', 'to', 'register', 'the', 'domain', 'name', ',', 'and', 'the', 'parties', 'will', 'jointly', 'cooperate', 'on', 'any', 'enforcement', 'action', 'of', 'infringement', 'of', 'the', 'domain', 'name', '.', '6.5', 'limits', 'on', 'sublicensing', '.', 'all', 'rights', '(', 'under', 'any', 'applicable', 'intellectual', 'property', 'right', ')', 'granted', 'herein', 'are', 'not', 'sublicenseable', ',', 'source', ':', '2themart', 'com', 'inc', ',', '10-12g', ',', '8/26/1999', 'transferable', 'or', 'assignable', '.', 'notwithstanding', 'the', 'foregoing', ',', 'either', 'party', 'may', 'use', 'a', 'third', 'party', 'web', 'host', ',', 'but', 'all', 'actions', 'or', 'failures', 'to', 'act', 'of', 'the', 'web', 'host', 'that', 'would', 'be', 'a', 'breach', 'of', 'this', 'agreement', ',', 'were', 'the', 'actions', 'or', 'failures', 'to', 'act', 'taken', 'by', 'the', 'applicable', 'party', ',', 'shall', 'be', 'deemed', 'a', 'breach', 'of', 'this', 'agreement', '.', 'in', 'addition', ',', '2themart', 'may', 'grant', 'sublicenses', 'to', 'companies', 'that', '2themart', 'has', 'a', 'business', 'relationship', 'with', 'to', 'the', 'extent', 'that', '2themart', 'content', 'is', 'visible', 'from', 'such', 'company', \"'s\", 'web-site', 'through', 'a', 'link', 'or', 'other', 'means', '.', '6.6', 'content', 'standards', '.', '2themart', 'shall', 'not', 'provide', 'any', '2themart', 'content', ',', 'and', 'i-escrow', 'shall', 'not', 'provide', 'any', 'i-escrow', 'content', ',', 'that', ':', '(', 'a', ')', 'infringes', 'any', 'third', 'party', \"'s\", 'copyright', ',', 'patent', ',', 'trademark', ',', 'trade', 'secret', 'or', 'other', 'proprietary', 'rights', 'or', 'rights', 'of', 'publicity', 'or', 'privacy', ';', '(', 'b', ')', 'violates', 'any', 'law', ',', 'statute', ',', 'ordinance', 'or', 'regulation', '(', 'including', 'without', 'limitation', 'the', 'laws', 'and', 'regulations', 'governing', 'export', 'control', ',', 'unfair', 'competition', ',', 'antidiscrimination', 'or', 'false', 'advertising', ')', ';', '(', 'c', ')', 'is', 'defamatory', ',', 'trade', 'libelous', ',', 'unlawfully', 'threatening', 'or', 'unlawfully', 'harassing', ';', '(', 'd', ')', 'is', 'obscene', ',', 'harmful', 'to', 'minors', 'or', 'child', 'pornographic', ';', '(', 'e', ')', 'contains', 'any', 'viruses', ',', 'trojan', 'horses', ',', 'worms', ',', 'time', 'bombs', ',', 'cancelbots', 'or', 'other', 'computer', 'programming', 'routines', 'that', 'are', 'intended', 'to', 'damage', ',', 'detrimentally', 'interfere', 'with', ',', 'surreptitiously', 'intercept', 'or', 'expropriate', 'any', 'system', ',', 'data', 'or', 'personal', 'information', ';', 'and', '(', 'f', ')', 'is', 'materially', 'false', ',', 'misleading', 'or', 'inaccurate', '.', '6.7', 'service', 'standards', '.', 'i-escrow', 'will', 'comply', 'with', 'all', 'laws', 'and', 'regulations', 'and', 'act', 'as', 'an', 'independent', 'escrow', 'agent', 'as', 'per', 'the', 'guidelines', 'of', 'california', 'escrow', 'law', '(', 'california', 'financial', 'code', 'section17000', 'et', 'seq.', ',', 'or', 'its', 'successor', ')', '.', 'should', 'any', 'of', 'the', 'terms', ',', 'conditions', 'or', 'provisions', 'of', 'this', 'agreement', 'conflict', 'with', 'the', 'california', 'escrow', 'law', ',', 'its', 'rules', 'or', 'regulations', ',', 'which', 'govern', 'i-escrow', \"'s\", 'business', 'practices', ',', 'the', 'california', 'escrow', 'law', 'shall', 'prevail', '.', 'notwithstanding', 'the', 'foregoing', ',', 'at', 'any', 'time', 'that', 'i-escrow', 'reasonably', 'believes', 'such', 'a', 'conflict', 'exists', ',', 'i-escrow', 'will', 'give', '2themart', 'written', 'notice', 'of', 'such', 'conflict', 'and', 'the', 'parties', 'will', 'use', 'their', 'best', 'efforts', 'to', 'resolve', 'such', 'conflict', '.', '7.', 'disclaimer', 'of', 'warranties', '.', 'each', 'party', 'provides', 'all', 'materials', 'and', 'services', 'to', 'the', 'other', 'party', '``', 'as', 'is', '.', \"''\", 'each', 'party', 'disclaims', 'all', 'warranties', 'and', 'conditions', ',', 'express', ',', 'implied', 'or', 'statutory', ',', 'including', 'without', 'limitation', 'the', 'implied', 'warranties', 'of', 'title', ',', 'non-', 'infringement', ',', 'merchantability', 'andfitness', 'for', 'a', 'particular', 'purpose', '.', 'each', 'party', 'acknowledges', 'that', 'it', 'has', 'not', 'entered', 'into', 'this', 'agreement', 'in', 'reliance', 'upon', 'any', 'warranty', 'or', 'representation', 'except', 'those', 'specifically', 'set', 'forth', 'herein', '.', '8.', 'term', 'and', 'termination', '.', '8.1', 'term', '.', 'the', 'term', 'of', 'this', 'agreement', 'shall', 'continue', 'for', 'one', '(', '1', ')', 'year', 'following', 'the', 'launch', 'date', ',', 'unless', 'earlier', 'terminated', 'as', 'provided', 'herein', '.', 'this', 'agreement', 'may', 'be', 'renewed', 'for', 'any', 'number', 'of', 'successive', 'one', '(', '1', ')', 'year', 'terms', 'by', 'mutual', 'written', 'agreement', 'of', 'the', 'parties', 'prior', 'to', 'the', 'conclusion', 'of', 'the', 'term', 'of', 'this', 'agreement', '.', 'a', 'party', 'wishing', 'to', 'renew', 'this', 'agreement', 'shall', 'give', 'the', 'other', 'party', 'notice', 'thereof', 'no', 'less', 'than', 'thirty', '(', '30', ')', 'days', 'before', 'the', 'expiration', 'of', 'the', 'term', 'then', 'in', 'effect', '.', 'in', 'the', 'event', 'that', 'either', 'party', 'does', 'not', 'give', 'such', 'notice', ',', 'the', 'term', 'of', 'this', 'agreement', 'shall', 'be', 'automatically', 'renewed', 'for', 'another', 'one', '(', '1', ')', 'year', '.', 'source', ':', '2themart', 'com', 'inc', ',', '10-12g', ',', '8/26/1999', '8.2', 'termination', 'for', 'breach', '.', 'in', 'addition', 'to', 'other', 'remedies', 'that', 'may', 'be', 'available', 'to', 'it', ',', 'by', 'providing', 'written', 'notice', ',', 'a', 'party', 'may', 'immediately', 'terminate', 'this', 'agreement', ':', '(', 'a', ')', 'if', 'the', 'other', 'party', 'materially', 'breaches', 'this', 'agreement', 'and', 'fails', 'to', 'cure', 'that', 'breach', 'within', 'sixty', '(', '60', ')', 'days', 'after', 'receiving', 'written', 'notice', 'of', 'the', 'breach', ',', 'or', '(', 'b', ')', 'as', 'provided', 'in', 'sections', '2.2', '[', 'initial', 'information', 'transfer', 'mechanism', 'development', ']', ',', '2.4', '[', 'restrictions', 'on', 'communications', ']', ',', 'or', '12.4', '.', '8.3', 'termination', 'for', 'change', 'in', 'company', 'structure', '.', 'if', 'a', 'majority', 'of', 'the', 'equity', 'securities', 'of', 'either', '2themart', 'or', 'i-escrow', ',', 'inc.', '(', 'except', 'that', 'i-escrow', 'may', 'sell', 'all', 'or', 'a', 'majority', 'of', 'its', 'equity', 'securities', 'or', 'voting', 'interests', 'to', 'i-escrow.com', ',', 'and', 'i-escrow.com', 'may', 'sell', 'all', 'or', 'a', 'majority', 'of', 'its', 'equity', 'securities', 'or', 'voting', 'interests', 'to', 'i-escrow', \"'s\", 'existing', 'shareholders', ',', 'without', 'triggering', 'the', 'foregoing', ')', 'are', 'acquired', 'by', 'another', 'company', 'during', 'the', 'term', 'of', 'this', 'agreement', 'either', 'company', 'may', 'terminate', 'this', 'agreement', ',', 'without', 'liability', ',', 'by', 'giving', 'a', 'thirty', '(', '30', ')', 'days', 'written', 'notice', 'to', 'the', 'other', 'party', '.', '8.4', 'termination', 'for', 'bankruptcy', '.', 'either', 'party', 'may', 'terminate', 'or', 'suspend', 'this', 'agreement', 'effective', 'immediately', 'and', 'without', 'liability', 'upon', 'written', 'notice', 'to', 'the', 'other', 'party', 'if', 'any', 'one', 'of', 'the', 'following', 'events', 'occurs', ':', '(', 'a', ')', 'the', 'other', 'party', 'files', 'a', 'voluntary', 'petition', 'in', 'bankruptcy', 'or', 'otherwise', 'seeks', 'protection', 'under', 'any', 'law', 'for', 'the', 'protection', 'of', 'debtors', ';', '(', 'b', ')', 'a', 'proceeding', 'is', 'instituted', 'against', 'the', 'other', 'party', 'under', 'any', 'provision', 'of', 'any', 'bankruptcy', 'laws', 'which', 'is', 'not', 'dismissed', 'within', 'ninety', '(', '90', ')', 'days', ';', '(', 'c', ')', 'the', 'other', 'party', 'is', 'adjudged', 'bankrupt', ';', '(', 'd', ')', 'a', 'court', 'assumes', 'jurisdiction', 'of', 'all', 'or', 'a', 'substantial', 'portion', 'of', 'the', 'assets', 'of', 'the', 'other', 'party', 'under', 'a', 'reorganization', 'law', ';', '(', 'e', ')', 'a', 'trustee', 'or', 'receiver', 'is', 'appointed', 'by', 'a', 'court', 'for', 'all', 'or', 'a', 'substantial', 'portion', 'of', 'the', 'assets', 'of', 'the', 'other', 'party', ';', '(', 'f', ')', 'the', 'other', 'party', 'becomes', 'insolvent', ',', 'ceases', 'or', 'suspends', 'all', 'or', 'substantially', 'all', 'of', 'its', 'business', ';', 'or', '(', 'g', ')', 'the', 'other', 'party', 'makes', 'an', 'assignment', 'of', 'the', 'majority', 'of', 'its', 'assets', 'for', 'the', 'benefit', 'of', 'its', 'creditors', '.', '8.5', 'effects', 'of', 'termination', '.', 'upon', 'expiration', 'or', 'termination', 'of', 'this', 'agreement', 'for', 'any', 'reason', ':', '(', 'a', ')', 'all', 'rights', 'granted', 'herein', 'shall', 'terminate', ',', '(', 'b', ')', 'i-escrow', 'shall', 'pay', 'all', 'amounts', 'owed', 'to', '2themart', 'within', 'six', '(', '6', ')', 'weeks', 'of', 'termination', ',', 'and', '(', 'c', ')', 'each', 'party', 'shall', 'remove', 'the', 'other', 'party', \"'s\", 'content', 'and', 'marks', 'from', 'their', 'servers', '.', 'notwithstanding', 'the', 'foregoing', ',', 'unless', 'this', 'agreement', 'was', 'terminated', 'for', 'a', 'material', 'breach', ',', 'all', 'provisions', 'of', 'this', 'agreement', 'shall', 'survive', 'to', 'the', 'extent', 'necessary', 'for', 'i-escrow', 'to', 'complete', 'any', 'customer', 'transactions', 'which', 'are', 'pending', 'at', 'the', 'time', 'of', 'expiration', 'or', 'termination', '.', 'sections', '1', ',', '7', ',', '8.5', '[', 'effects', 'of', 'termination', ']', ',', '9', ',', '10', ',', '11', 'and', '12', 'shall', 'survive', 'expiration', 'or', 'termination', 'of', 'this', 'agreement', '.', '9.', 'indemnity', '.', 'each', 'party', '(', 'the', '``', 'indemnifying', 'party', \"''\", ')', 'shall', 'indemnify', 'the', 'other', 'party', '(', 'the', '``', 'indemnified', 'party', \"''\", ')', 'against', 'any', 'and', 'all', 'claims', ',', 'losses', ',', 'costs', 'and', 'expenses', ',', 'including', 'reasonable', 'attorneys', \"'\", 'fees', ',', 'which', 'the', 'indemnified', 'party', 'may', 'incur', 'as', 'a', 'result', 'of', 'claims', 'in', 'any', 'form', 'by', 'third', 'parties', 'arising', 'from', 'the', 'indemnifying', 'party', \"'s\", 'acts', ',', 'omissions', 'or', 'misrepresentations', 'to', 'the', 'extent', 'that', 'the', 'indemnified', 'party', 'is', 'deemed', 'a', 'principal', 'of', 'the', 'indemnifying', 'party', '.', 'in', 'addition', ',', '2themart', 'shall', 'indemnify', 'i-escrow', 'against', 'any', 'and', 'all', 'claims', ',', 'losses', ',', 'costs', 'and', 'expenses', ',', 'including', 'reasonable', 'attorneys', \"'\", 'fees', ',', 'which', 'i-escrow', 'may', 'incur', 'as', 'a', 'result', 'of', 'claims', 'in', 'any', 'form', 'by', 'third', 'parties', 'arising', 'from', '2themart', 'content', '.', 'in', 'addition', ',', 'i-escrow', 'shall', 'indemnify', '2themart', 'against', 'any', 'and', 'all', 'claims', ',', 'losses', ',', 'costs', 'and', 'expenses', ',', 'including', 'reasonable', 'attorneys', \"'\", 'fees', ',', 'which', '2themart', 'may', 'incur', 'as', 'a', 'result', 'of', 'claims', 'in', 'any', 'form', 'by', 'third', 'parties', 'arising', 'from', 'i-escrow', 'source', ':', '2themart', 'com', 'inc', ',', '10-12g', ',', '8/26/1999', 'content', 'and', 'or', 'the', 'services', 'provided', 'to', 'customers', '.', 'the', 'foregoing', 'obligations', 'are', 'conditioned', 'on', 'the', 'indemnified', 'party', ':', '(', 'i', ')', 'giving', 'the', 'indemnifying', 'party', 'notice', 'of', 'the', 'relevant', 'claim', ',', '(', 'ii', ')', 'cooperating', 'with', 'the', 'indemnifying', 'party', ',', 'at', 'the', 'indemnifying', 'party', \"'s\", 'expense', ',', 'in', 'the', 'defense', 'of', 'such', 'claim', ',', 'and', '(', 'iii', ')', 'giving', 'the', 'indemnifying', 'party', 'the', 'right', 'to', 'control', 'the', 'defense', 'and', 'settlement', 'of', 'any', 'such', 'claim', ',', 'except', 'that', 'the', 'indemnifying', 'party', 'shall', 'not', 'enter', 'into', 'any', 'settlement', 'that', 'affects', 'the', 'indemnified', 'party', \"'s\", 'rights', 'or', 'interest', 'without', 'the', 'indemnified', 'party', \"'s\", 'prior', 'written', 'approval', '.', 'the', 'indemnified', 'party', 'shall', 'have', 'the', 'right', 'to', 'participate', 'in', 'the', 'defense', 'at', 'its', 'expense', '.', '10.', 'limitation', 'on', 'liability', '.', 'except', 'in', 'the', 'event', 'of', 'a', 'breach', 'of', 'section', '11', ',', 'neither', 'party', 'shall', 'be', 'liable', 'for', 'special', ',', 'incidental', 'or', 'consequential', 'damages', 'or', 'lost', 'profits', '(', 'however', 'arising', ',', 'including', 'negligence', ')', 'arising', 'out', 'of', 'or', 'in', 'connection', 'with', 'this', 'agreement', ',', 'even', 'if', 'the', 'parties', 'are', 'aware', 'of', 'the', 'possibility', 'of', 'such', 'damages', '.', '11.', 'confidential', 'information', '.', 'a', 'party', \"'s\", '``', 'confidential', 'information', \"''\", 'is', 'defined', 'as', 'any', 'confidential', 'or', 'proprietary', 'information', 'of', 'a', 'party', 'which', 'is', 'disclosed', 'to', 'the', 'other', 'party', 'in', 'a', 'writing', 'marked', 'confidential', 'or', ',', 'if', 'disclosed', 'orally', ',', 'is', 'identified', 'as', 'confidential', 'at', 'the', 'time', 'of', 'disclosure', 'and', 'is', 'subsequently', 'reduced', 'to', 'a', 'writing', 'marked', 'confidential', 'and', 'delivered', 'to', 'the', 'other', 'party', 'within', 'ten', '(', '10', ')', 'days', 'of', 'disclosure', '.', 'each', 'party', 'shall', 'hold', 'the', 'other', 'party', \"'s\", 'confidential', 'information', 'in', 'confidence', 'and', 'shall', 'not', 'disclose', 'such', 'confidential', 'information', 'to', 'third', 'parties', 'nor', 'use', 'the', 'other', 'party', \"'s\", 'confidential', 'information', 'for', 'any', 'purpose', 'other', 'than', 'as', 'required', 'to', 'perform', 'under', 'this', 'agreement', '.', 'such', 'restrictions', 'shall', 'not', 'apply', 'to', 'confidential', 'information', 'which', '(', 'a', ')', 'is', 'already', 'known', 'by', 'the', 'recipient', ',', '(', 'b', ')', 'becomes', ',', 'through', 'no', 'act', 'or', 'fault', 'of', 'the', 'recipient', ',', 'publicly', 'known', ',', '(', 'c', ')', 'is', 'received', 'by', 'recipient', 'from', 'a', 'third', 'party', 'without', 'a', 'restriction', 'on', 'disclosure', 'or', 'use', ',', 'or', '(', 'd', ')', 'is', 'independently', 'developed', 'by', 'recipient', 'without', 'reference', 'to', 'the', 'confidential', 'information', '.', 'the', 'restriction', 'on', 'disclosure', 'shall', 'not', 'apply', 'to', 'confidential', 'information', 'which', 'is', 'required', 'to', 'be', 'disclosed', 'by', 'a', 'court', 'or', 'government', 'agency', '.', 'upon', 'expiration', 'or', 'termination', 'of', 'this', 'agreement', ',', 'within', 'fourteen', '(', '14', ')', 'days', 'of', 'the', 'other', 'party', \"'s\", 'request', ',', 'each', 'party', 'will', 'return', 'all', 'confidential', 'information', 'and', 'other', 'deliverables', 'to', 'the', 'requesting', 'party', '.', '12.', 'general', 'provisions', '.', '12.1', 'governing', 'law', '.', 'this', 'agreement', 'will', 'be', 'governed', 'and', 'construed', 'in', 'accordance', 'with', 'the', 'laws', 'of', 'the', 'state', 'of', 'california', 'without', 'giving', 'effect', 'to', 'conflict', 'of', 'laws', 'principles', '.', 'both', 'parties', 'submit', 'to', 'personal', 'jurisdiction', 'in', 'california', 'and', 'further', 'agree', 'that', 'any', 'cause', 'of', 'action', 'arising', 'under', 'this', 'agreement', 'shall', 'be', 'brought', 'in', 'a', 'court', 'in', 'orange', 'county', ',', 'california', '.', '12.2', 'severability', ';', 'headings', '.', 'if', 'any', 'provision', 'herein', 'is', 'held', 'to', 'be', 'invalid', 'or', 'unenforceable', 'for', 'any', 'reason', ',', 'the', 'remaining', 'provisions', 'will', 'continue', 'in', 'full', 'force', 'without', 'being', 'impaired', 'or', 'invalidated', 'in', 'any', 'way', '.', 'the', 'parties', 'agree', 'to', 'replace', 'any', 'invalid', 'provision', 'with', 'a', 'valid', 'provision', 'that', 'most', 'closely', 'approximates', 'the', 'intent', 'and', 'economic', 'effect', 'of', 'the', 'invalid', 'provision', '.', 'headings', 'are', 'for', 'reference', 'purposes', 'only', 'and', 'in', 'no', 'way', 'define', ',', 'limit', ',', 'construe', 'or', 'describe', 'the', 'scope', 'or', 'extent', 'of', 'such', 'section', '.', '12.3', 'publicity', '.', 'prior', 'to', 'the', 'release', 'of', 'any', 'press', 'releases', 'or', 'other', 'similar', 'promotional', 'materials', 'related', 'to', 'this', 'agreement', ',', 'the', 'releasing', 'party', 'shall', 'submit', 'a', 'written', 'request', 'for', 'approval', 'to', 'the', 'other', 'party', 'with', 'a', 'copy', 'of', 'the', 'materials', 'to', 'be', 'released', ',', 'which', 'source', ':', '2themart', 'com', 'inc', ',', '10-12g', ',', '8/26/1999', 'request', 'shall', 'be', 'made', 'no', 'less', 'than', 'three', '(', '3', ')', 'business', 'days', 'prior', 'to', 'the', 'requested', 'release', 'date', '.', 'a', 'party', 'shall', 'not', 'unreasonably', 'withhold', 'or', 'delay', 'the', 'granting', 'of', 'its', 'approval', 'of', 'such', 'materials', ',', 'and', 'such', 'approval', 'shall', 'be', 'provided', 'to', 'the', 'other', 'party', 'within', 'one', '(', '1', ')', 'business', 'day', 'of', 'receipt', '12.4', 'force', 'majeure', '.', 'except', 'as', 'otherwise', 'provided', ',', 'if', 'performance', 'hereunder', '(', 'other', 'than', 'payment', ')', 'is', 'prevented', ',', 'restricted', 'or', 'interfered', 'with', 'by', 'any', 'act', 'or', 'condition', 'whatsoever', 'beyond', 'the', 'reasonable', 'control', 'of', 'a', 'party', '(', 'a', '``', 'force', 'majeure', 'event', \"''\", ')', ',', 'the', 'party', 'so', 'affected', ',', 'upon', 'giving', 'prompt', 'notice', 'to', 'the', 'other', 'party', ',', 'shall', 'be', 'excused', 'from', 'such', 'performance', 'to', 'the', 'extent', 'of', 'such', 'prevention', ',', 'restriction', 'or', 'interference', '.', 'however', ',', 'if', 'a', 'force', 'majeure', 'event', 'interferes', 'with', 'the', 'operation', 'of', 'this', 'agreement', 'for', 'sixty', '(', '60', ')', 'days', 'or', 'more', ',', 'either', 'party', 'can', 'terminate', 'this', 'agreement', ',', 'without', 'penalty', '.', 'notwithstanding', 'the', 'foregoing', ',', 'the', 'occurrence', 'of', 'any', 'force', 'majeure', 'event', 'shall', 'not', 'limit', 'either', 'party', \"'s\", 'obligations', 'under', 'section', '9', 'with', 'respect', 'to', 'any', 'third', 'party', 'claim', 'as', 'to', 'which', 'the', 'other', 'party', 'seeks', 'indemnification', '.', '12.5', 'independent', 'contractors', '.', 'the', 'parties', 'are', 'independent', 'contractors', ',', 'and', 'no', 'agency', ',', 'partnership', ',', 'joint', 'venture', ',', 'employee-', 'employer', 'or', 'franchisor-franchisee', 'relationship', 'is', 'intended', 'or', 'created', 'by', 'this', 'agreement', '.', 'neither', 'party', 'shall', 'make', 'any', 'warranties', 'or', 'representations', 'on', 'behalf', 'of', 'the', 'other', 'party', '.', '12.6', 'notice', '.', 'any', 'notices', 'hereunder', 'shall', 'be', 'given', 'to', 'the', 'appropriate', 'party', 'at', 'the', 'address', 'specified', 'below', 'or', 'at', 'such', 'other', 'address', 'as', 'the', 'party', 'shall', 'specify', 'in', 'writing', '.', 'notice', 'shall', 'be', 'deemed', 'given', ':', 'upon', 'personal', 'delivery', ';', 'if', 'sent', 'by', 'fax', ',', 'upon', 'confirmation', 'of', 'receipt', ';', 'or', 'if', 'sent', 'by', 'a', 'reputable', 'overnight', 'courier', 'with', 'tracking', 'capabilities', ',', 'one', '(', '1', ')', 'day', 'after', 'the', 'date', 'of', 'mailing', ':', 'to', 'i-escrow', ':', 'i-escrow', ',', 'inc.', '1730', 'south', 'amphlett', 'blvd.', ',', '#', '215', 'san', 'mateo', ',', 'ca', '94402', 'fax', 'no', '.', '(', '650', ')', '638-7890', 'attention', ':', 'president', 'with', 'copy', 'to', ':', 'fred', 'm.', 'greguras', ',', 'esq', '.', 'legal', 'counsel', 'of', 'i-escrow', 'fenwick', '&', 'west', 'llp', 'two', 'palo', 'alto', 'square', 'palo', 'alto', ',', 'ca', '94306', 'to', '2themart', ':', 'dominic', 'j.', 'magliarditi', 'president', '18301', 'von', 'karman', 'avenue', ',', '7th', 'floor', 'irvine', ',', 'ca', '92612', 'fax', 'no', '.', '(', '949', ')', '477-1221', '11.7', 'counterparts', '.', 'this', 'agreement', 'may', 'be', 'executed', 'in', 'one', 'or', 'more', 'counterparts', ',', 'each', 'of', 'which', 'shall', 'be', 'deemed', 'an', 'original', 'and', 'all', 'of', 'which', 'shall', 'be', 'taken', 'together', 'and', 'deemed', 'to', 'be', 'one', 'instrument', '.', '12.8', 'good', 'faith', '.', 'the', 'parties', 'agree', 'to', 'act', 'in', 'good', 'faith', 'with', 'respect', 'to', 'each', 'provision', 'of', 'this', 'agreement', 'and', 'any', 'dispute', 'that', 'may', 'arise', 'related', 'hereto', '.', '12.9', 'additional', 'documents/information', '.', 'the', 'parties', 'agree', 'to', 'sign', 'and/or', 'provide', 'such', 'additional', 'documents', 'and/or', 'information', 'as', 'may', 'reasonably', 'be', 'required', 'to', 'carry', 'out', 'the', 'intent', 'of', 'this', 'agreement', 'and', 'to', 'effectuate', 'its', 'purposes', '.', '12.10', 'rights', 'and', 'remedies', 'cumulative', '.', 'the', 'rights', 'and', 'remedies', 'provided', 'herein', 'will', 'be', 'cumulative', 'and', 'not', 'exclusive', 'of', 'any', 'other', 'rights', 'or', 'remedies', 'provided', 'by', 'law', 'or', 'otherwise', '.', '12.11', 'nonwaiver', '.', 'no', 'failure', 'or', 'forbearance', 'by', 'either', 'party', 'to', 'exercise', 'any', 'right', 'or', 'insist', 'upon', 'or', 'enforce', 'performance', 'of', 'any', 'obligation', 'hereunder', 'shall', 'be', 'deemed', 'a', 'waiver', 'or', 'relinquishment', 'to', 'any', 'extent', 'of', 'that', 'or', 'any', 'other', 'right', 'or', 'obligation', ',', 'in', 'that', 'or', 'any', 'other', 'instance', ';', 'rather', ',', 'the', 'source', ':', '2themart', 'com', 'inc', ',', '10-12g', ',', '8/26/1999', 'same', 'shall', 'be', 'and', 'shall', 'remain', 'in', 'full', 'force', 'and', 'effect', '.', 'any', 'waiver', 'of', 'any', 'right', 'of', 'a', 'party', 'or', 'any', 'obligation', 'of', 'the', 'other', 'party', 'hereunder', 'must', 'be', 'made', 'in', 'a', 'writing', 'signed', 'by', 'the', 'arty', 'waiving', 'such', 'right', 'or', 'obligation', '.', '12.12', 'entire', 'agreement', '.', 'this', 'agreement', 'contains', 'the', 'entire', 'understanding', 'of', 'the', 'parties', 'hereto', 'with', 'respect', 'to', 'the', 'transactions', 'and', 'matters', 'contemplated', 'hereby', ',', 'supersedes', 'all', 'previous', 'agreements', 'between', 'i-escrow', 'and', '2themart', 'concerning', 'the', 'subject', 'matter', '(', 'except', 'for', 'the', 'confidential', 'agreement', 'dated', 'january', '4', '1999', ',', 'which', 'shall', 'survive', 'this', 'agreement', ')', '.', 'no', 'amendments', 'or', 'supplements', 'to', 'this', 'agreement', 'will', 'be', 'effective', 'for', 'any', 'purpose', 'except', 'by', 'a', 'written', 'agreement', 'signed', 'by', 'the', 'parties', '.', 'no', 'party', 'hereto', 'has', 'relied', 'on', 'any', 'statement', ',', 'representation', 'or', 'promise', 'of', 'any', 'party', 'or', 'with', 'any', 'other', 'officer', ',', 'agent', ',', 'employee', 'or', 'attorney', 'for', 'the', 'other', 'party', 'in', 'executing', 'this', 'agreement', 'except', 'as', 'expressly', 'stated', 'herein', '.', '2themart.com', ',', 'inc.', ':', 'i-escrow', ',', 'inc.', ':', 'by', ':', '/s/dominic', 'j.', 'magliarditi', 'by', ':', '/s/sanjay', 'bajaj', 'name', ':', 'dominic', 'j.', 'magliarditi', 'name', ':', 'sanjay', 'bajaj', 'title', ':', 'president', 'title', ':', 'vp', 'business', 'development', 'date', ':', '6/21/99', 'date', ':', '6/11/99', 'exhibit', 'a', 'escrow', 'services', 'description', 'successful', 'completion', 'of', 'a', 'transaction', 'involves', 'exchange', 'of', 'merchandise', 'with', 'payment', '.', 'the', 'buyer', 'has', 'to', 'be', 'satisfied', 'he/she', 'received', 'what', 'they', 'thought', 'they', 'were', 'getting', 'and', 'the', 'seller', 'has', 'to', 'be', 'sure', 'he/she', 'gets', 'paid', '.', 'i-escrow', 'holds', 'payment', 'from', 'the', 'buyer', 'in', 'trust', 'until', 'the', 'seller', 'sends', 'the', 'merchandise', 'to', 'the', 'buyer', '.', 'once', 'the', 'buyer', 'accepts', 'the', 'merchandise', ',', 'i-escrow', 'forwards', 'the', 'payment', 'to', 'the', 'seller', 'by', 'writing', 'a', 'check', '.', 'a', 'typical', 'escrow', 'transaction', ':', 'when', 'an', 'auction', 'ends', ',', 'your', 'end', 'of', 'auction', 'email', 'contains', 'links', 'to', 'i-escrow', '.', 'once', 'you', 'have', 'signed', 'up', 'with', 'i-escrow', 'you', 'go', 'through', 'the', 'following', 'steps', 'to', 'complete', 'your', 'transaction', '.', '1.', 'start', 'a', 'transaction', 'by', 'entering', 'the', 'description', 'and', 'price', 'of', 'the', 'merchandise', 'along', 'with', 'email', 'address', 'of', 'the', 'other', 'party', '.', '2.', 'the', 'other', 'party', 'receives', 'an', 'email', 'from', 'i-escrow', 'requesting', 'an', 'acknowledgement', 'of', 'the', 'terms', 'of', 'the', 'transaction', '.', '3.', 'once', 'the', 'transaction', 'is', 'acknowledged', 'by', 'the', 'other', 'party', ',', 'the', 'buyer', 'pays', 'i-escrow', 'the', 'agreed', 'upon', 'price', ',', 'by', 'credit', 'card', 'or', 'other', 'means', '.', '4.', 'i-escrow', 'informs', 'the', 'seller', 'that', 'payment', 'has', 'been', 'received', ',', 'requesting', 'them', 'to', 'ship', 'the', 'merchandise', 'directly', 'to', 'the', 'buyer', '.', '5.', 'the', 'seller', 'provides', 'i-escrow', 'with', 'the', 'tracking', 'number', 'of', 'the', 'shipment', '.', '6.', 'the', 'buyer', 'receives', 'and', 'accepts', 'the', 'merchandise', '.', '7.', 'i-escrow', 'sends', 'the', 'check', 'to', 'the', 'seller', '.', 'for', 'more', 'information', 'about', 'i-escrow', ',', 'visit', 'their', 'web-site', 'at', 'www.iescrow.com', 'source', ':', '2themart', 'com', 'inc', ',', '10-12g', ',', '8/26/1999']\n"
          ]
        }
      ],
      "source": [
        "word_tokens = nltk.word_tokenize(lower_text)\n",
        "print(word_tokens)"
      ]
    },
    {
      "cell_type": "markdown",
      "metadata": {
        "id": "fSE97tGG_7j3"
      },
      "source": [
        "We need a better tokenizer also \"punctuation\" and \"numbers\" are retained as tokens. Also, very short words are translated into tokens.\n"
      ]
    },
    {
      "cell_type": "code",
      "execution_count": 8,
      "metadata": {
        "id": "F_SjwHcM_7j4"
      },
      "outputs": [],
      "source": [
        "better_tokenizer = RegexpTokenizer(r'[a-zA-Z]{3,}')\n",
        "# [a-zA-Z] means that only letters are retained as tokens\n",
        "# {3,} means that only tokens with at least three characters are retained"
      ]
    },
    {
      "cell_type": "code",
      "execution_count": 9,
      "metadata": {
        "id": "rWDHnw5wlAZv",
        "colab": {
          "base_uri": "https://localhost:8080/"
        },
        "outputId": "cb1c8eea-947f-45cf-8171-58a983fc003b"
      },
      "outputs": [
        {
          "output_type": "stream",
          "name": "stdout",
          "text": [
            "['branding', 'and', 'advertising', 'agreement', 'this', 'branding', 'and', 'advertising', 'agreement', 'the', 'agreement', 'made', 'june', 'the', 'effective', 'date', 'and', 'between', 'escrow', 'inc', 'with', 'its', 'principal', 'place', 'business', 'amphlett', 'blvd', 'suite', 'san', 'mateo', 'california', 'escrow', 'and', 'themart', 'com', 'inc', 'having', 'its', 'principal', 'place', 'business', 'von', 'karman', 'avenue', 'floor', 'irvine', 'california', 'themart', 'definitions', 'content', 'means', 'all', 'content', 'information', 'any', 'medium', 'provided', 'party', 'the', 'other', 'party', 'for', 'use', 'conjunction', 'with', 'the', 'performance', 'its', 'obligations', 'hereunder', 'including', 'without', 'limitation', 'any', 'text', 'music', 'sound', 'photographs', 'video', 'graphics', 'data', 'software', 'content', 'provided', 'themart', 'referred', 'herein', 'themart', 'content', 'and', 'content', 'provided', 'escrow', 'referred', 'herein', 'escrow', 'content', 'branded', 'site', 'means', 'the', 'web', 'site', 'accessible', 'through', 'domain', 'name', 'for', 'the', 'services', 'implemented', 'escrow', 'the', 'homepage', 'this', 'web', 'site', 'will', 'visibly', 'display', 'both', 'themart', 'marks', 'and', 'escrow', 'marks', 'customers', 'means', 'all', 'users', 'who', 'access', 'branded', 'site', 'domain', 'name', 'means', 'www', 'iescrow', 'com', 'themart', 'escrow', 'services', 'means', 'services', 'for', 'auction', 'sellers', 'and', 'high', 'bidders', 'whereby', 'agent', 'holds', 'buyer', 'money', 'trust', 'until', 'the', 'buyer', 'approves', 'the', 'applicable', 'item', 'that', 'was', 'physically', 'delivered', 'which', 'time', 'the', 'agent', 'releases', 'the', 'buyer', 'money', 'seller', 'after', 'subtracting', 'the', 'escrow', 'fees', 'information', 'transfer', 'mechanism', 'means', 'the', 'mechanism', 'which', 'themart', 'transfers', 'escrow', 'information', 'populate', 'the', 'applicable', 'escrow', 'transaction', 'and', 'user', 'registration', 'forms', 'launch', 'date', 'means', 'the', 'first', 'date', 'which', 'the', 'branded', 'site', 'pointed', 'all', 'references', 'escrow', 'from', 'themart', 'auction', 'site', 'and', 'the', 'information', 'transfer', 'mechanism', 'publicly', 'deployed', 'post', 'beta', 'marks', 'means', 'all', 'domain', 'names', 'trademarks', 'and', 'logos', 'designated', 'party', 'for', 'the', 'other', 'party', 'use', 'conjunction', 'with', 'such', 'other', 'party', 'performance', 'under', 'this', 'agreement', 'marks', 'designated', 'themart', 'for', 'escrow', 'use', 'are', 'referred', 'herein', 'themart', 'marks', 'and', 'marks', 'designated', 'escrow', 'for', 'themart', 'use', 'are', 'referred', 'herein', 'escrow', 'marks', 'services', 'means', 'escrow', 'implementation', 'and', 'performance', 'the', 'escrow', 'services', 'the', 'effective', 'date', 'modified', 'over', 'time', 'shadow', 'site', 'means', 'the', 'site', 'where', 'branded', 'site', 'made', 'available', 'for', 'themart', 'testing', 'the', 'information', 'transfer', 'mechanism', 'prior', 'being', 'made', 'publicly', 'available', 'transaction', 'means', 'transaction', 'utilizing', 'the', 'services', 'that', 'actually', 'closes', 'and', 'that', 'was', 'initiated', 'transaction', 'inquiry', 'from', 'customer', 'transaction', 'inquiry', 'means', 'customer', 'submission', 'escrow', 'standard', 'new', 'transaction', 'inquiry', 'form', 'its', 'successor', 'through', 'the', 'branded', 'pages', 'currently', 'this', 'means', 'entry', 'description', 'and', 'price', 'merchandise', 'user', 'buyer', 'seller', 'who', 'agrees', 'abide', 'the', 'terms', 'and', 'conditions', 'the', 'services', 'together', 'with', 'email', 'address', 'the', 'other', 'party', 'regardless', 'whether', 'not', 'any', 'transaction', 'completed', 'source', 'themart', 'com', 'inc', 'development', 'and', 'implementation', 'overview', 'set', 'forth', 'herein', 'themart', 'will', 'promote', 'services', 'its', 'auction', 'users', 'buyers', 'and', 'sellers', 'and', 'escrow', 'shall', 'develop', 'branded', 'site', 'and', 'develop', 'the', 'information', 'transfer', 'mechanism', 'working', 'with', 'themart', 'make', 'services', 'available', 'seamlessly', 'customers', 'unless', 'otherwise', 'specified', 'each', 'party', 'shall', 'responsible', 'for', 'all', 'development', 'hosting', 'and', 'other', 'costs', 'associated', 'with', 'the', 'pages', 'resident', 'their', 'servers', 'and', 'all', 'emails', 'users', 'they', 'send', 'initial', 'information', 'transfer', 'mechanism', 'development', 'the', 'parties', 'shall', 'negotiate', 'good', 'faith', 'determine', 'the', 'initial', 'operation', 'the', 'information', 'transfer', 'mechanism', 'and', 'describe', 'such', 'operation', 'and', 'development', 'fees', 'statement', 'work', 'sow', 'each', 'party', 'shall', 'make', 'available', 'sufficient', 'and', 'qualified', 'engineers', 'negotiate', 'the', 'sow', 'sow', 'shall', 'binding', 'the', 'parties', 'unless', 'mutually', 'approved', 'both', 'parties', 'the', 'event', 'that', 'the', 'parties', 'are', 'unable', 'agree', 'sow', 'within', 'months', 'following', 'the', 'effective', 'date', 'either', 'party', 'may', 'its', 'sole', 'discretion', 'terminate', 'this', 'agreement', 'providing', 'written', 'notice', 'once', 'approved', 'the', 'parties', 'shall', 'use', 'commercially', 'reasonable', 'efforts', 'diligently', 'implement', 'their', 'respective', 'obligations', 'under', 'the', 'sow', 'upon', 'completion', 'its', 'duties', 'under', 'the', 'sow', 'party', 'shall', 'notify', 'the', 'other', 'party', 'and', 'provide', 'the', 'other', 'party', 'with', 'the', 'opportunity', 'test', 'and', 'evaluate', 'its', 'work', 'escrow', 'shall', 'make', 'available', 'the', 'shadow', 'site', 'for', 'such', 'testing', 'timely', 'manner', 'each', 'party', 'shall', 'reasonably', 'cooperate', 'with', 'the', 'other', 'party', 'effectuating', 'their', 'respective', 'duties', 'under', 'the', 'sow', 'the', 'information', 'transfer', 'mechanism', 'shall', 'not', 'live', 'until', 'its', 'operation', 'has', 'been', 'approved', 'approval', 'date', 'both', 'parties', 'such', 'approval', 'not', 'unreasonably', 'withheld', 'launch', 'timing', 'each', 'party', 'shall', 'use', 'good', 'faith', 'and', 'reasonable', 'efforts', 'expeditiously', 'develop', 'the', 'branded', 'pages', 'and', 'the', 'information', 'transfer', 'mechanism', 'the', 'event', 'that', 'after', 'using', 'such', 'efforts', 'the', 'launch', 'date', 'has', 'not', 'occurred', 'within', 'months', 'following', 'the', 'effective', 'date', 'either', 'party', 'may', 'terminate', 'this', 'agreement', 'providing', 'written', 'notice', 'only', 'one', 'party', 'has', 'used', 'good', 'faith', 'and', 'reasonable', 'development', 'efforts', 'only', 'that', 'party', 'may', 'exercise', 'the', 'foregoing', 'right', 'terminate', 'restrictions', 'communications', 'escrow', 'may', 'place', 'banner', 'advertising', 'the', 'branded', 'site', 'upon', 'prior', 'written', 'approval', 'themart', 'which', 'shall', 'the', 'discretion', 'themart', 'all', 'advertising', 'revenue', 'arising', 'from', 'the', 'banner', 'ads', 'shall', 'solely', 'escrow', 'escrow', 'shall', 'not', 'run', 'banner', 'advertisements', 'the', 'branded', 'site', 'for', 'any', 'themart', 'competitors', 'themart', 'shall', 'provide', 'writing', 'list', 'companies', 'they', 'would', 'like', 'exclude', 'including', 'every', 'time', 'they', 'wish', 'change', 'this', 'list', 'service', 'performance', 'information', 'transfer', 'mechanism', 'the', 'parties', 'each', 'shall', 'good', 'faith', 'work', 'provide', 'reasonable', 'service', 'levels', 'with', 'respect', 'the', 'operation', 'the', 'portions', 'the', 'information', 'transfer', 'mechanism', 'their', 'control', 'source', 'themart', 'com', 'inc', 'program', 'review', 'meetings', 'the', 'parties', 'shall', 'meet', 'least', 'once', 'per', 'month', 'either', 'person', 'telephone', 'coordinate', 'the', 'implementation', 'this', 'agreement', 'over', 'time', 'promotion', 'after', 'launch', 'date', 'themart', 'will', 'widely', 'promote', 'the', 'services', 'every', 'seller', 'and', 'high', 'bidder', 'through', 'means', 'including', 'but', 'not', 'limited', 'end', 'auction', 'emails', 'containing', 'links', 'such', 'that', 'shall', 'possible', 'for', 'the', 'buyer', 'seller', 'initiate', 'transaction', 'inquiry', 'with', 'escrow', 'without', 'having', 'enter', 'all', 'their', 'personal', 'transaction', 'related', 'information', 'adding', 'links', 'branded', 'site', 'faq', 'section', 'themart', 'auctions', 'adding', 'links', 'branded', 'site', 'the', 'seller', 'listing', 'pages', 'themart', 'auctions', 'displaying', 'text', 'graphic', 'link', 'page', 'containing', 'information', 'about', 'services', 'all', 'auction', 'item', 'pages', 'and', 'bidding', 'pages', 'educate', 'bidders', 'about', 'escrow', 'themart', 'may', 'use', 'the', 'escrow', 'services', 'description', 'attached', 'exhibit', 'for', 'creating', 'such', 'page', 'payment', 'advertising', 'fees', 'after', 'the', 'launch', 'date', 'escrow', 'shall', 'pay', 'themart', 'advertising', 'fees', 'based', 'the', 'number', 'transaction', 'inquiries', 'this', 'advertising', 'fees', 'shall', 'consist', 'per', 'transaction', 'inquiry', 'amount', 'calculated', 'multiplying', 'the', 'amount', 'the', 'average', 'transaction', 'from', 'all', 'customers', 'the', 'preceding', 'quarter', 'the', 'formula', 'for', 'arriving', 'the', 'per', 'transaction', 'inquiry', 'amount', 'may', 'revised', 'from', 'time', 'time', 'during', 'the', 'term', 'this', 'agreement', 'reflect', 'present', 'market', 'conditions', 'the', 'adjusted', 'rate', 'but', 'only', 'mutual', 'consent', 'the', 'parties', 'after', 'good', 'faith', 'discussions', 'the', 'adjusted', 'rate', 'shall', 'added', 'addendum', 'this', 'agreement', 'reporting', 'within', 'two', 'weeks', 'following', 'the', 'end', 'each', 'calendar', 'quarter', 'escrow', 'shall', 'provide', 'themart', 'report', 'describing', 'for', 'each', 'quarter', 'the', 'number', 'new', 'registrations', 'through', 'the', 'branded', 'pages', 'the', 'number', 'transaction', 'inquiries', 'from', 'customers', 'the', 'total', 'number', 'transactions', 'from', 'such', 'inquiries', 'the', 'total', 'dollar', 'value', 'the', 'transactions', 'audit', 'rights', 'escrow', 'shall', 'keep', 'for', 'one', 'year', 'proper', 'records', 'and', 'books', 'account', 'relating', 'the', 'computation', 'advertising', 'payments', 'owed', 'themart', 'including', 'appropriate', 'the', 'computation', 'the', 'size', 'average', 'transaction', 'once', 'every', 'twelve', 'months', 'themart', 'through', 'cpa', 'may', 'inspect', 'and', 'audit', 'such', 'records', 'verify', 'reports', 'any', 'such', 'inspection', 'will', 'conducted', 'manner', 'that', 'does', 'not', 'unreasonably', 'interfere', 'with', 'escrow', 'business', 'activities', 'and', 'with', 'less', 'than', 'fifteen', 'days', 'notice', 'escrow', 'shall', 'within', 'two', 'weeks', 'make', 'any', 'overdue', 'payments', 'disclosed', 'the', 'audit', 'such', 'inspection', 'shall', 'themart', 'expense', 'however', 'the', 'audit', 'reveals', 'overdue', 'payments', 'excess', 'ten', 'percent', 'the', 'payments', 'owed', 'date', 'escrow', 'shall', 'immediately', 'pay', 'all', 'cost', 'such', 'audit', 'rights', 'and', 'standards', 'source', 'themart', 'com', 'inc', 'content', 'themart', 'hereby', 'grants', 'escrow', 'worldwide', 'non', 'exclusive', 'right', 'use', 'reproduce', 'distribute', 'publicly', 'perform', 'publicly', 'display', 'and', 'digitally', 'perform', 'the', 'themart', 'content', 'soley', 'with', 'respect', 'and', 'conjunction', 'with', 'the', 'branded', 'site', 'all', 'with', 'the', 'prior', 'written', 'consent', 'themart', 'for', 'the', 'term', 'this', 'agreement', 'escrow', 'hereby', 'grants', 'themart', 'worldwide', 'non', 'exclusive', 'right', 'use', 'reproduce', 'distribute', 'publicly', 'perform', 'publicly', 'display', 'and', 'digitally', 'perform', 'the', 'escrow', 'content', 'conjunction', 'with', 'themart', 'auctions', 'content', 'ownership', 'except', 'otherwise', 'provided', 'this', 'agreement', 'between', 'themart', 'and', 'escrow', 'themart', 'and', 'its', 'suppliers', 'retain', 'all', 'rights', 'title', 'and', 'interest', 'and', 'all', 'intellectual', 'property', 'rights', 'embodied', 'associated', 'with', 'the', 'themart', 'content', 'and', 'escrow', 'and', 'its', 'suppliers', 'retain', 'all', 'rights', 'title', 'and', 'interest', 'and', 'all', 'intellectual', 'property', 'rights', 'embodied', 'associated', 'with', 'the', 'escrow', 'content', 'and', 'branded', 'site', 'there', 'are', 'implied', 'licenses', 'under', 'this', 'agreement', 'and', 'any', 'rights', 'not', 'expressly', 'granted', 'are', 'reserved', 'neither', 'party', 'shall', 'exceed', 'the', 'scope', 'the', 'rights', 'granted', 'hereunder', 'trademarks', 'subject', 'the', 'terms', 'and', 'conditions', 'this', 'agreement', 'escrow', 'hereby', 'grants', 'themart', 'non', 'exclusive', 'nontransferable', 'right', 'use', 'the', 'escrow', 'marks', 'including', 'without', 'limitation', 'the', 'domain', 'name', 'links', 'and', 'advertisements', 'and', 'promotions', 'for', 'the', 'branded', 'pages', 'the', 'services', 'and', 'themart', 'hereby', 'grants', 'escrow', 'non', 'exclusive', 'nontransferable', 'right', 'use', 'themart', 'marks', 'including', 'without', 'limitation', 'the', 'domain', 'name', 'the', 'branded', 'pages', 'and', 'for', 'the', 'performance', 'services', 'trademark', 'restrictions', 'the', 'mark', 'owner', 'may', 'terminate', 'the', 'foregoing', 'rights', 'its', 'reasonable', 'discretion', 'the', 'other', 'party', 'use', 'the', 'marks', 'tarnishes', 'blurs', 'dilutes', 'the', 'quality', 'associated', 'with', 'the', 'marks', 'the', 'associated', 'goodwill', 'and', 'such', 'problem', 'not', 'cured', 'within', 'ten', 'days', 'notice', 'breach', 'alternatively', 'instead', 'terminating', 'the', 'right', 'total', 'the', 'owner', 'may', 'specify', 'that', 'certain', 'pages', 'the', 'other', 'party', 'web', 'site', 'may', 'not', 'contain', 'the', 'marks', 'title', 'and', 'ownership', 'the', 'owner', 'marks', 'shall', 'remain', 'with', 'the', 'owner', 'the', 'receiving', 'party', 'shall', 'use', 'the', 'marks', 'exactly', 'the', 'form', 'provided', 'and', 'conformance', 'with', 'any', 'trademark', 'usage', 'policies', 'the', 'other', 'party', 'shall', 'not', 'take', 'any', 'action', 'inconsistent', 'with', 'the', 'owner', 'ownership', 'the', 'marks', 'and', 'any', 'benefits', 'accruing', 'from', 'use', 'such', 'marks', 'shall', 'automatically', 'vest', 'the', 'owner', 'the', 'other', 'party', 'shall', 'not', 'form', 'any', 'combination', 'marks', 'with', 'the', 'other', 'party', 'marks', 'notwithstanding', 'the', 'foregoing', 'the', 'extent', 'that', 'the', 'domain', 'name', 'deemed', 'combination', 'mark', 'neither', 'party', 'shall', 'use', 'the', 'domain', 'name', 'for', 'any', 'purpose', 'except', 'expressly', 'provided', 'herein', 'attempt', 'register', 'the', 'domain', 'name', 'and', 'the', 'parties', 'will', 'jointly', 'cooperate', 'any', 'enforcement', 'action', 'infringement', 'the', 'domain', 'name', 'limits', 'sublicensing', 'all', 'rights', 'under', 'any', 'applicable', 'intellectual', 'property', 'right', 'granted', 'herein', 'are', 'not', 'sublicenseable', 'source', 'themart', 'com', 'inc', 'transferable', 'assignable', 'notwithstanding', 'the', 'foregoing', 'either', 'party', 'may', 'use', 'third', 'party', 'web', 'host', 'but', 'all', 'actions', 'failures', 'act', 'the', 'web', 'host', 'that', 'would', 'breach', 'this', 'agreement', 'were', 'the', 'actions', 'failures', 'act', 'taken', 'the', 'applicable', 'party', 'shall', 'deemed', 'breach', 'this', 'agreement', 'addition', 'themart', 'may', 'grant', 'sublicenses', 'companies', 'that', 'themart', 'has', 'business', 'relationship', 'with', 'the', 'extent', 'that', 'themart', 'content', 'visible', 'from', 'such', 'company', 'web', 'site', 'through', 'link', 'other', 'means', 'content', 'standards', 'themart', 'shall', 'not', 'provide', 'any', 'themart', 'content', 'and', 'escrow', 'shall', 'not', 'provide', 'any', 'escrow', 'content', 'that', 'infringes', 'any', 'third', 'party', 'copyright', 'patent', 'trademark', 'trade', 'secret', 'other', 'proprietary', 'rights', 'rights', 'publicity', 'privacy', 'violates', 'any', 'law', 'statute', 'ordinance', 'regulation', 'including', 'without', 'limitation', 'the', 'laws', 'and', 'regulations', 'governing', 'export', 'control', 'unfair', 'competition', 'antidiscrimination', 'false', 'advertising', 'defamatory', 'trade', 'libelous', 'unlawfully', 'threatening', 'unlawfully', 'harassing', 'obscene', 'harmful', 'minors', 'child', 'pornographic', 'contains', 'any', 'viruses', 'trojan', 'horses', 'worms', 'time', 'bombs', 'cancelbots', 'other', 'computer', 'programming', 'routines', 'that', 'are', 'intended', 'damage', 'detrimentally', 'interfere', 'with', 'surreptitiously', 'intercept', 'expropriate', 'any', 'system', 'data', 'personal', 'information', 'and', 'materially', 'false', 'misleading', 'inaccurate', 'service', 'standards', 'escrow', 'will', 'comply', 'with', 'all', 'laws', 'and', 'regulations', 'and', 'act', 'independent', 'escrow', 'agent', 'per', 'the', 'guidelines', 'california', 'escrow', 'law', 'california', 'financial', 'code', 'section', 'seq', 'its', 'successor', 'should', 'any', 'the', 'terms', 'conditions', 'provisions', 'this', 'agreement', 'conflict', 'with', 'the', 'california', 'escrow', 'law', 'its', 'rules', 'regulations', 'which', 'govern', 'escrow', 'business', 'practices', 'the', 'california', 'escrow', 'law', 'shall', 'prevail', 'notwithstanding', 'the', 'foregoing', 'any', 'time', 'that', 'escrow', 'reasonably', 'believes', 'such', 'conflict', 'exists', 'escrow', 'will', 'give', 'themart', 'written', 'notice', 'such', 'conflict', 'and', 'the', 'parties', 'will', 'use', 'their', 'best', 'efforts', 'resolve', 'such', 'conflict', 'disclaimer', 'warranties', 'each', 'party', 'provides', 'all', 'materials', 'and', 'services', 'the', 'other', 'party', 'each', 'party', 'disclaims', 'all', 'warranties', 'and', 'conditions', 'express', 'implied', 'statutory', 'including', 'without', 'limitation', 'the', 'implied', 'warranties', 'title', 'non', 'infringement', 'merchantability', 'andfitness', 'for', 'particular', 'purpose', 'each', 'party', 'acknowledges', 'that', 'has', 'not', 'entered', 'into', 'this', 'agreement', 'reliance', 'upon', 'any', 'warranty', 'representation', 'except', 'those', 'specifically', 'set', 'forth', 'herein', 'term', 'and', 'termination', 'term', 'the', 'term', 'this', 'agreement', 'shall', 'continue', 'for', 'one', 'year', 'following', 'the', 'launch', 'date', 'unless', 'earlier', 'terminated', 'provided', 'herein', 'this', 'agreement', 'may', 'renewed', 'for', 'any', 'number', 'successive', 'one', 'year', 'terms', 'mutual', 'written', 'agreement', 'the', 'parties', 'prior', 'the', 'conclusion', 'the', 'term', 'this', 'agreement', 'party', 'wishing', 'renew', 'this', 'agreement', 'shall', 'give', 'the', 'other', 'party', 'notice', 'thereof', 'less', 'than', 'thirty', 'days', 'before', 'the', 'expiration', 'the', 'term', 'then', 'effect', 'the', 'event', 'that', 'either', 'party', 'does', 'not', 'give', 'such', 'notice', 'the', 'term', 'this', 'agreement', 'shall', 'automatically', 'renewed', 'for', 'another', 'one', 'year', 'source', 'themart', 'com', 'inc', 'termination', 'for', 'breach', 'addition', 'other', 'remedies', 'that', 'may', 'available', 'providing', 'written', 'notice', 'party', 'may', 'immediately', 'terminate', 'this', 'agreement', 'the', 'other', 'party', 'materially', 'breaches', 'this', 'agreement', 'and', 'fails', 'cure', 'that', 'breach', 'within', 'sixty', 'days', 'after', 'receiving', 'written', 'notice', 'the', 'breach', 'provided', 'sections', 'initial', 'information', 'transfer', 'mechanism', 'development', 'restrictions', 'communications', 'termination', 'for', 'change', 'company', 'structure', 'majority', 'the', 'equity', 'securities', 'either', 'themart', 'escrow', 'inc', 'except', 'that', 'escrow', 'may', 'sell', 'all', 'majority', 'its', 'equity', 'securities', 'voting', 'interests', 'escrow', 'com', 'and', 'escrow', 'com', 'may', 'sell', 'all', 'majority', 'its', 'equity', 'securities', 'voting', 'interests', 'escrow', 'existing', 'shareholders', 'without', 'triggering', 'the', 'foregoing', 'are', 'acquired', 'another', 'company', 'during', 'the', 'term', 'this', 'agreement', 'either', 'company', 'may', 'terminate', 'this', 'agreement', 'without', 'liability', 'giving', 'thirty', 'days', 'written', 'notice', 'the', 'other', 'party', 'termination', 'for', 'bankruptcy', 'either', 'party', 'may', 'terminate', 'suspend', 'this', 'agreement', 'effective', 'immediately', 'and', 'without', 'liability', 'upon', 'written', 'notice', 'the', 'other', 'party', 'any', 'one', 'the', 'following', 'events', 'occurs', 'the', 'other', 'party', 'files', 'voluntary', 'petition', 'bankruptcy', 'otherwise', 'seeks', 'protection', 'under', 'any', 'law', 'for', 'the', 'protection', 'debtors', 'proceeding', 'instituted', 'against', 'the', 'other', 'party', 'under', 'any', 'provision', 'any', 'bankruptcy', 'laws', 'which', 'not', 'dismissed', 'within', 'ninety', 'days', 'the', 'other', 'party', 'adjudged', 'bankrupt', 'court', 'assumes', 'jurisdiction', 'all', 'substantial', 'portion', 'the', 'assets', 'the', 'other', 'party', 'under', 'reorganization', 'law', 'trustee', 'receiver', 'appointed', 'court', 'for', 'all', 'substantial', 'portion', 'the', 'assets', 'the', 'other', 'party', 'the', 'other', 'party', 'becomes', 'insolvent', 'ceases', 'suspends', 'all', 'substantially', 'all', 'its', 'business', 'the', 'other', 'party', 'makes', 'assignment', 'the', 'majority', 'its', 'assets', 'for', 'the', 'benefit', 'its', 'creditors', 'effects', 'termination', 'upon', 'expiration', 'termination', 'this', 'agreement', 'for', 'any', 'reason', 'all', 'rights', 'granted', 'herein', 'shall', 'terminate', 'escrow', 'shall', 'pay', 'all', 'amounts', 'owed', 'themart', 'within', 'six', 'weeks', 'termination', 'and', 'each', 'party', 'shall', 'remove', 'the', 'other', 'party', 'content', 'and', 'marks', 'from', 'their', 'servers', 'notwithstanding', 'the', 'foregoing', 'unless', 'this', 'agreement', 'was', 'terminated', 'for', 'material', 'breach', 'all', 'provisions', 'this', 'agreement', 'shall', 'survive', 'the', 'extent', 'necessary', 'for', 'escrow', 'complete', 'any', 'customer', 'transactions', 'which', 'are', 'pending', 'the', 'time', 'expiration', 'termination', 'sections', 'effects', 'termination', 'and', 'shall', 'survive', 'expiration', 'termination', 'this', 'agreement', 'indemnity', 'each', 'party', 'the', 'indemnifying', 'party', 'shall', 'indemnify', 'the', 'other', 'party', 'the', 'indemnified', 'party', 'against', 'any', 'and', 'all', 'claims', 'losses', 'costs', 'and', 'expenses', 'including', 'reasonable', 'attorneys', 'fees', 'which', 'the', 'indemnified', 'party', 'may', 'incur', 'result', 'claims', 'any', 'form', 'third', 'parties', 'arising', 'from', 'the', 'indemnifying', 'party', 'acts', 'omissions', 'misrepresentations', 'the', 'extent', 'that', 'the', 'indemnified', 'party', 'deemed', 'principal', 'the', 'indemnifying', 'party', 'addition', 'themart', 'shall', 'indemnify', 'escrow', 'against', 'any', 'and', 'all', 'claims', 'losses', 'costs', 'and', 'expenses', 'including', 'reasonable', 'attorneys', 'fees', 'which', 'escrow', 'may', 'incur', 'result', 'claims', 'any', 'form', 'third', 'parties', 'arising', 'from', 'themart', 'content', 'addition', 'escrow', 'shall', 'indemnify', 'themart', 'against', 'any', 'and', 'all', 'claims', 'losses', 'costs', 'and', 'expenses', 'including', 'reasonable', 'attorneys', 'fees', 'which', 'themart', 'may', 'incur', 'result', 'claims', 'any', 'form', 'third', 'parties', 'arising', 'from', 'escrow', 'source', 'themart', 'com', 'inc', 'content', 'and', 'the', 'services', 'provided', 'customers', 'the', 'foregoing', 'obligations', 'are', 'conditioned', 'the', 'indemnified', 'party', 'giving', 'the', 'indemnifying', 'party', 'notice', 'the', 'relevant', 'claim', 'cooperating', 'with', 'the', 'indemnifying', 'party', 'the', 'indemnifying', 'party', 'expense', 'the', 'defense', 'such', 'claim', 'and', 'iii', 'giving', 'the', 'indemnifying', 'party', 'the', 'right', 'control', 'the', 'defense', 'and', 'settlement', 'any', 'such', 'claim', 'except', 'that', 'the', 'indemnifying', 'party', 'shall', 'not', 'enter', 'into', 'any', 'settlement', 'that', 'affects', 'the', 'indemnified', 'party', 'rights', 'interest', 'without', 'the', 'indemnified', 'party', 'prior', 'written', 'approval', 'the', 'indemnified', 'party', 'shall', 'have', 'the', 'right', 'participate', 'the', 'defense', 'its', 'expense', 'limitation', 'liability', 'except', 'the', 'event', 'breach', 'section', 'neither', 'party', 'shall', 'liable', 'for', 'special', 'incidental', 'consequential', 'damages', 'lost', 'profits', 'however', 'arising', 'including', 'negligence', 'arising', 'out', 'connection', 'with', 'this', 'agreement', 'even', 'the', 'parties', 'are', 'aware', 'the', 'possibility', 'such', 'damages', 'confidential', 'information', 'party', 'confidential', 'information', 'defined', 'any', 'confidential', 'proprietary', 'information', 'party', 'which', 'disclosed', 'the', 'other', 'party', 'writing', 'marked', 'confidential', 'disclosed', 'orally', 'identified', 'confidential', 'the', 'time', 'disclosure', 'and', 'subsequently', 'reduced', 'writing', 'marked', 'confidential', 'and', 'delivered', 'the', 'other', 'party', 'within', 'ten', 'days', 'disclosure', 'each', 'party', 'shall', 'hold', 'the', 'other', 'party', 'confidential', 'information', 'confidence', 'and', 'shall', 'not', 'disclose', 'such', 'confidential', 'information', 'third', 'parties', 'nor', 'use', 'the', 'other', 'party', 'confidential', 'information', 'for', 'any', 'purpose', 'other', 'than', 'required', 'perform', 'under', 'this', 'agreement', 'such', 'restrictions', 'shall', 'not', 'apply', 'confidential', 'information', 'which', 'already', 'known', 'the', 'recipient', 'becomes', 'through', 'act', 'fault', 'the', 'recipient', 'publicly', 'known', 'received', 'recipient', 'from', 'third', 'party', 'without', 'restriction', 'disclosure', 'use', 'independently', 'developed', 'recipient', 'without', 'reference', 'the', 'confidential', 'information', 'the', 'restriction', 'disclosure', 'shall', 'not', 'apply', 'confidential', 'information', 'which', 'required', 'disclosed', 'court', 'government', 'agency', 'upon', 'expiration', 'termination', 'this', 'agreement', 'within', 'fourteen', 'days', 'the', 'other', 'party', 'request', 'each', 'party', 'will', 'return', 'all', 'confidential', 'information', 'and', 'other', 'deliverables', 'the', 'requesting', 'party', 'general', 'provisions', 'governing', 'law', 'this', 'agreement', 'will', 'governed', 'and', 'construed', 'accordance', 'with', 'the', 'laws', 'the', 'state', 'california', 'without', 'giving', 'effect', 'conflict', 'laws', 'principles', 'both', 'parties', 'submit', 'personal', 'jurisdiction', 'california', 'and', 'further', 'agree', 'that', 'any', 'cause', 'action', 'arising', 'under', 'this', 'agreement', 'shall', 'brought', 'court', 'orange', 'county', 'california', 'severability', 'headings', 'any', 'provision', 'herein', 'held', 'invalid', 'unenforceable', 'for', 'any', 'reason', 'the', 'remaining', 'provisions', 'will', 'continue', 'full', 'force', 'without', 'being', 'impaired', 'invalidated', 'any', 'way', 'the', 'parties', 'agree', 'replace', 'any', 'invalid', 'provision', 'with', 'valid', 'provision', 'that', 'most', 'closely', 'approximates', 'the', 'intent', 'and', 'economic', 'effect', 'the', 'invalid', 'provision', 'headings', 'are', 'for', 'reference', 'purposes', 'only', 'and', 'way', 'define', 'limit', 'construe', 'describe', 'the', 'scope', 'extent', 'such', 'section', 'publicity', 'prior', 'the', 'release', 'any', 'press', 'releases', 'other', 'similar', 'promotional', 'materials', 'related', 'this', 'agreement', 'the', 'releasing', 'party', 'shall', 'submit', 'written', 'request', 'for', 'approval', 'the', 'other', 'party', 'with', 'copy', 'the', 'materials', 'released', 'which', 'source', 'themart', 'com', 'inc', 'request', 'shall', 'made', 'less', 'than', 'three', 'business', 'days', 'prior', 'the', 'requested', 'release', 'date', 'party', 'shall', 'not', 'unreasonably', 'withhold', 'delay', 'the', 'granting', 'its', 'approval', 'such', 'materials', 'and', 'such', 'approval', 'shall', 'provided', 'the', 'other', 'party', 'within', 'one', 'business', 'day', 'receipt', 'force', 'majeure', 'except', 'otherwise', 'provided', 'performance', 'hereunder', 'other', 'than', 'payment', 'prevented', 'restricted', 'interfered', 'with', 'any', 'act', 'condition', 'whatsoever', 'beyond', 'the', 'reasonable', 'control', 'party', 'force', 'majeure', 'event', 'the', 'party', 'affected', 'upon', 'giving', 'prompt', 'notice', 'the', 'other', 'party', 'shall', 'excused', 'from', 'such', 'performance', 'the', 'extent', 'such', 'prevention', 'restriction', 'interference', 'however', 'force', 'majeure', 'event', 'interferes', 'with', 'the', 'operation', 'this', 'agreement', 'for', 'sixty', 'days', 'more', 'either', 'party', 'can', 'terminate', 'this', 'agreement', 'without', 'penalty', 'notwithstanding', 'the', 'foregoing', 'the', 'occurrence', 'any', 'force', 'majeure', 'event', 'shall', 'not', 'limit', 'either', 'party', 'obligations', 'under', 'section', 'with', 'respect', 'any', 'third', 'party', 'claim', 'which', 'the', 'other', 'party', 'seeks', 'indemnification', 'independent', 'contractors', 'the', 'parties', 'are', 'independent', 'contractors', 'and', 'agency', 'partnership', 'joint', 'venture', 'employee', 'employer', 'franchisor', 'franchisee', 'relationship', 'intended', 'created', 'this', 'agreement', 'neither', 'party', 'shall', 'make', 'any', 'warranties', 'representations', 'behalf', 'the', 'other', 'party', 'notice', 'any', 'notices', 'hereunder', 'shall', 'given', 'the', 'appropriate', 'party', 'the', 'address', 'specified', 'below', 'such', 'other', 'address', 'the', 'party', 'shall', 'specify', 'writing', 'notice', 'shall', 'deemed', 'given', 'upon', 'personal', 'delivery', 'sent', 'fax', 'upon', 'confirmation', 'receipt', 'sent', 'reputable', 'overnight', 'courier', 'with', 'tracking', 'capabilities', 'one', 'day', 'after', 'the', 'date', 'mailing', 'escrow', 'escrow', 'inc', 'south', 'amphlett', 'blvd', 'san', 'mateo', 'fax', 'attention', 'president', 'with', 'copy', 'fred', 'greguras', 'esq', 'legal', 'counsel', 'escrow', 'fenwick', 'west', 'llp', 'two', 'palo', 'alto', 'square', 'palo', 'alto', 'themart', 'dominic', 'magliarditi', 'president', 'von', 'karman', 'avenue', 'floor', 'irvine', 'fax', 'counterparts', 'this', 'agreement', 'may', 'executed', 'one', 'more', 'counterparts', 'each', 'which', 'shall', 'deemed', 'original', 'and', 'all', 'which', 'shall', 'taken', 'together', 'and', 'deemed', 'one', 'instrument', 'good', 'faith', 'the', 'parties', 'agree', 'act', 'good', 'faith', 'with', 'respect', 'each', 'provision', 'this', 'agreement', 'and', 'any', 'dispute', 'that', 'may', 'arise', 'related', 'hereto', 'additional', 'documents', 'information', 'the', 'parties', 'agree', 'sign', 'and', 'provide', 'such', 'additional', 'documents', 'and', 'information', 'may', 'reasonably', 'required', 'carry', 'out', 'the', 'intent', 'this', 'agreement', 'and', 'effectuate', 'its', 'purposes', 'rights', 'and', 'remedies', 'cumulative', 'the', 'rights', 'and', 'remedies', 'provided', 'herein', 'will', 'cumulative', 'and', 'not', 'exclusive', 'any', 'other', 'rights', 'remedies', 'provided', 'law', 'otherwise', 'nonwaiver', 'failure', 'forbearance', 'either', 'party', 'exercise', 'any', 'right', 'insist', 'upon', 'enforce', 'performance', 'any', 'obligation', 'hereunder', 'shall', 'deemed', 'waiver', 'relinquishment', 'any', 'extent', 'that', 'any', 'other', 'right', 'obligation', 'that', 'any', 'other', 'instance', 'rather', 'the', 'source', 'themart', 'com', 'inc', 'same', 'shall', 'and', 'shall', 'remain', 'full', 'force', 'and', 'effect', 'any', 'waiver', 'any', 'right', 'party', 'any', 'obligation', 'the', 'other', 'party', 'hereunder', 'must', 'made', 'writing', 'signed', 'the', 'arty', 'waiving', 'such', 'right', 'obligation', 'entire', 'agreement', 'this', 'agreement', 'contains', 'the', 'entire', 'understanding', 'the', 'parties', 'hereto', 'with', 'respect', 'the', 'transactions', 'and', 'matters', 'contemplated', 'hereby', 'supersedes', 'all', 'previous', 'agreements', 'between', 'escrow', 'and', 'themart', 'concerning', 'the', 'subject', 'matter', 'except', 'for', 'the', 'confidential', 'agreement', 'dated', 'january', 'which', 'shall', 'survive', 'this', 'agreement', 'amendments', 'supplements', 'this', 'agreement', 'will', 'effective', 'for', 'any', 'purpose', 'except', 'written', 'agreement', 'signed', 'the', 'parties', 'party', 'hereto', 'has', 'relied', 'any', 'statement', 'representation', 'promise', 'any', 'party', 'with', 'any', 'other', 'officer', 'agent', 'employee', 'attorney', 'for', 'the', 'other', 'party', 'executing', 'this', 'agreement', 'except', 'expressly', 'stated', 'herein', 'themart', 'com', 'inc', 'escrow', 'inc', 'dominic', 'magliarditi', 'sanjay', 'bajaj', 'name', 'dominic', 'magliarditi', 'name', 'sanjay', 'bajaj', 'title', 'president', 'title', 'business', 'development', 'date', 'date', 'exhibit', 'escrow', 'services', 'description', 'successful', 'completion', 'transaction', 'involves', 'exchange', 'merchandise', 'with', 'payment', 'the', 'buyer', 'has', 'satisfied', 'she', 'received', 'what', 'they', 'thought', 'they', 'were', 'getting', 'and', 'the', 'seller', 'has', 'sure', 'she', 'gets', 'paid', 'escrow', 'holds', 'payment', 'from', 'the', 'buyer', 'trust', 'until', 'the', 'seller', 'sends', 'the', 'merchandise', 'the', 'buyer', 'once', 'the', 'buyer', 'accepts', 'the', 'merchandise', 'escrow', 'forwards', 'the', 'payment', 'the', 'seller', 'writing', 'check', 'typical', 'escrow', 'transaction', 'when', 'auction', 'ends', 'your', 'end', 'auction', 'email', 'contains', 'links', 'escrow', 'once', 'you', 'have', 'signed', 'with', 'escrow', 'you', 'through', 'the', 'following', 'steps', 'complete', 'your', 'transaction', 'start', 'transaction', 'entering', 'the', 'description', 'and', 'price', 'the', 'merchandise', 'along', 'with', 'email', 'address', 'the', 'other', 'party', 'the', 'other', 'party', 'receives', 'email', 'from', 'escrow', 'requesting', 'acknowledgement', 'the', 'terms', 'the', 'transaction', 'once', 'the', 'transaction', 'acknowledged', 'the', 'other', 'party', 'the', 'buyer', 'pays', 'escrow', 'the', 'agreed', 'upon', 'price', 'credit', 'card', 'other', 'means', 'escrow', 'informs', 'the', 'seller', 'that', 'payment', 'has', 'been', 'received', 'requesting', 'them', 'ship', 'the', 'merchandise', 'directly', 'the', 'buyer', 'the', 'seller', 'provides', 'escrow', 'with', 'the', 'tracking', 'number', 'the', 'shipment', 'the', 'buyer', 'receives', 'and', 'accepts', 'the', 'merchandise', 'escrow', 'sends', 'the', 'check', 'the', 'seller', 'for', 'more', 'information', 'about', 'escrow', 'visit', 'their', 'web', 'site', 'www', 'iescrow', 'com', 'source', 'themart', 'com', 'inc']\n"
          ]
        }
      ],
      "source": [
        "word_tokens = better_tokenizer.tokenize(lower_text)\n",
        "print(word_tokens)"
      ]
    },
    {
      "cell_type": "markdown",
      "metadata": {
        "id": "EUvyYiX6_7j6"
      },
      "source": [
        "## Remove stop words\n",
        "\n",
        "Remove irrelevant words using nltk stop words like is,the,a etc from the sentences as they don’t carry any information."
      ]
    },
    {
      "cell_type": "code",
      "execution_count": 10,
      "metadata": {
        "id": "nIymk1QOlAZw",
        "colab": {
          "base_uri": "https://localhost:8080/"
        },
        "outputId": "e15aa452-694e-4538-9649-207bc5c859b9"
      },
      "outputs": [
        {
          "output_type": "stream",
          "name": "stdout",
          "text": [
            "['i', 'me', 'my', 'myself', 'we', 'our', 'ours', 'ourselves', 'you', \"you're\", \"you've\", \"you'll\", \"you'd\", 'your', 'yours', 'yourself', 'yourselves', 'he', 'him', 'his', 'himself', 'she', \"she's\", 'her', 'hers', 'herself', 'it', \"it's\", 'its', 'itself', 'they', 'them', 'their', 'theirs', 'themselves', 'what', 'which', 'who', 'whom', 'this', 'that', \"that'll\", 'these', 'those', 'am', 'is', 'are', 'was', 'were', 'be', 'been', 'being', 'have', 'has', 'had', 'having', 'do', 'does', 'did', 'doing', 'a', 'an', 'the', 'and', 'but', 'if', 'or', 'because', 'as', 'until', 'while', 'of', 'at', 'by', 'for', 'with', 'about', 'against', 'between', 'into', 'through', 'during', 'before', 'after', 'above', 'below', 'to', 'from', 'up', 'down', 'in', 'out', 'on', 'off', 'over', 'under', 'again', 'further', 'then', 'once', 'here', 'there', 'when', 'where', 'why', 'how', 'all', 'any', 'both', 'each', 'few', 'more', 'most', 'other', 'some', 'such', 'no', 'nor', 'not', 'only', 'own', 'same', 'so', 'than', 'too', 'very', 's', 't', 'can', 'will', 'just', 'don', \"don't\", 'should', \"should've\", 'now', 'd', 'll', 'm', 'o', 're', 've', 'y', 'ain', 'aren', \"aren't\", 'couldn', \"couldn't\", 'didn', \"didn't\", 'doesn', \"doesn't\", 'hadn', \"hadn't\", 'hasn', \"hasn't\", 'haven', \"haven't\", 'isn', \"isn't\", 'ma', 'mightn', \"mightn't\", 'mustn', \"mustn't\", 'needn', \"needn't\", 'shan', \"shan't\", 'shouldn', \"shouldn't\", 'wasn', \"wasn't\", 'weren', \"weren't\", 'won', \"won't\", 'wouldn', \"wouldn't\"]\n"
          ]
        }
      ],
      "source": [
        "stopword = stopwords.words('english')\n",
        "print(stopword)"
      ]
    },
    {
      "cell_type": "markdown",
      "metadata": {
        "id": "yZOlPzevlAZw"
      },
      "source": [
        "For getting rid of stopwords, we must compare each token against the words in the stop words list. With can be easily done in a list comprehension."
      ]
    },
    {
      "cell_type": "markdown",
      "metadata": {
        "id": "ixyraaB6lAZx"
      },
      "source": [
        "Reformulating the for loop as a list comprehension. List comprehensions are considered to be very understandable and are thus used very frequently by pythonistas."
      ]
    },
    {
      "cell_type": "code",
      "execution_count": 11,
      "metadata": {
        "id": "2_kUc5Ge_7j7",
        "colab": {
          "base_uri": "https://localhost:8080/"
        },
        "outputId": "0e126ee4-ba97-47e6-bece-135c2ed096ea"
      },
      "outputs": [
        {
          "output_type": "stream",
          "name": "stdout",
          "text": [
            "['branding', 'advertising', 'agreement', 'branding', 'advertising', 'agreement', 'agreement', 'made', 'june', 'effective', 'date', 'escrow', 'inc', 'principal', 'place', 'business', 'amphlett', 'blvd', 'suite', 'san', 'mateo', 'california', 'escrow', 'themart', 'com', 'inc', 'principal', 'place', 'business', 'von', 'karman', 'avenue', 'floor', 'irvine', 'california', 'themart', 'definitions', 'content', 'means', 'content', 'information', 'medium', 'provided', 'party', 'party', 'use', 'conjunction', 'performance', 'obligations', 'hereunder', 'including', 'without', 'limitation', 'text', 'music', 'sound', 'photographs', 'video', 'graphics', 'data', 'software', 'content', 'provided', 'themart', 'referred', 'herein', 'themart', 'content', 'content', 'provided', 'escrow', 'referred', 'herein', 'escrow', 'content', 'branded', 'site', 'means', 'web', 'site', 'accessible', 'domain', 'name', 'services', 'implemented', 'escrow', 'homepage', 'web', 'site', 'visibly', 'display', 'themart', 'marks', 'escrow', 'marks', 'customers', 'means', 'users', 'access', 'branded', 'site', 'domain', 'name', 'means', 'www', 'iescrow', 'com', 'themart', 'escrow', 'services', 'means', 'services', 'auction', 'sellers', 'high', 'bidders', 'whereby', 'agent', 'holds', 'buyer', 'money', 'trust', 'buyer', 'approves', 'applicable', 'item', 'physically', 'delivered', 'time', 'agent', 'releases', 'buyer', 'money', 'seller', 'subtracting', 'escrow', 'fees', 'information', 'transfer', 'mechanism', 'means', 'mechanism', 'themart', 'transfers', 'escrow', 'information', 'populate', 'applicable', 'escrow', 'transaction', 'user', 'registration', 'forms', 'launch', 'date', 'means', 'first', 'date', 'branded', 'site', 'pointed', 'references', 'escrow', 'themart', 'auction', 'site', 'information', 'transfer', 'mechanism', 'publicly', 'deployed', 'post', 'beta', 'marks', 'means', 'domain', 'names', 'trademarks', 'logos', 'designated', 'party', 'party', 'use', 'conjunction', 'party', 'performance', 'agreement', 'marks', 'designated', 'themart', 'escrow', 'use', 'referred', 'herein', 'themart', 'marks', 'marks', 'designated', 'escrow', 'themart', 'use', 'referred', 'herein', 'escrow', 'marks', 'services', 'means', 'escrow', 'implementation', 'performance', 'escrow', 'services', 'effective', 'date', 'modified', 'time', 'shadow', 'site', 'means', 'site', 'branded', 'site', 'made', 'available', 'themart', 'testing', 'information', 'transfer', 'mechanism', 'prior', 'made', 'publicly', 'available', 'transaction', 'means', 'transaction', 'utilizing', 'services', 'actually', 'closes', 'initiated', 'transaction', 'inquiry', 'customer', 'transaction', 'inquiry', 'means', 'customer', 'submission', 'escrow', 'standard', 'new', 'transaction', 'inquiry', 'form', 'successor', 'branded', 'pages', 'currently', 'means', 'entry', 'description', 'price', 'merchandise', 'user', 'buyer', 'seller', 'agrees', 'abide', 'terms', 'conditions', 'services', 'together', 'email', 'address', 'party', 'regardless', 'whether', 'transaction', 'completed', 'source', 'themart', 'com', 'inc', 'development', 'implementation', 'overview', 'set', 'forth', 'herein', 'themart', 'promote', 'services', 'auction', 'users', 'buyers', 'sellers', 'escrow', 'shall', 'develop', 'branded', 'site', 'develop', 'information', 'transfer', 'mechanism', 'working', 'themart', 'make', 'services', 'available', 'seamlessly', 'customers', 'unless', 'otherwise', 'specified', 'party', 'shall', 'responsible', 'development', 'hosting', 'costs', 'associated', 'pages', 'resident', 'servers', 'emails', 'users', 'send', 'initial', 'information', 'transfer', 'mechanism', 'development', 'parties', 'shall', 'negotiate', 'good', 'faith', 'determine', 'initial', 'operation', 'information', 'transfer', 'mechanism', 'describe', 'operation', 'development', 'fees', 'statement', 'work', 'sow', 'party', 'shall', 'make', 'available', 'sufficient', 'qualified', 'engineers', 'negotiate', 'sow', 'sow', 'shall', 'binding', 'parties', 'unless', 'mutually', 'approved', 'parties', 'event', 'parties', 'unable', 'agree', 'sow', 'within', 'months', 'following', 'effective', 'date', 'either', 'party', 'may', 'sole', 'discretion', 'terminate', 'agreement', 'providing', 'written', 'notice', 'approved', 'parties', 'shall', 'use', 'commercially', 'reasonable', 'efforts', 'diligently', 'implement', 'respective', 'obligations', 'sow', 'upon', 'completion', 'duties', 'sow', 'party', 'shall', 'notify', 'party', 'provide', 'party', 'opportunity', 'test', 'evaluate', 'work', 'escrow', 'shall', 'make', 'available', 'shadow', 'site', 'testing', 'timely', 'manner', 'party', 'shall', 'reasonably', 'cooperate', 'party', 'effectuating', 'respective', 'duties', 'sow', 'information', 'transfer', 'mechanism', 'shall', 'live', 'operation', 'approved', 'approval', 'date', 'parties', 'approval', 'unreasonably', 'withheld', 'launch', 'timing', 'party', 'shall', 'use', 'good', 'faith', 'reasonable', 'efforts', 'expeditiously', 'develop', 'branded', 'pages', 'information', 'transfer', 'mechanism', 'event', 'using', 'efforts', 'launch', 'date', 'occurred', 'within', 'months', 'following', 'effective', 'date', 'either', 'party', 'may', 'terminate', 'agreement', 'providing', 'written', 'notice', 'one', 'party', 'used', 'good', 'faith', 'reasonable', 'development', 'efforts', 'party', 'may', 'exercise', 'foregoing', 'right', 'terminate', 'restrictions', 'communications', 'escrow', 'may', 'place', 'banner', 'advertising', 'branded', 'site', 'upon', 'prior', 'written', 'approval', 'themart', 'shall', 'discretion', 'themart', 'advertising', 'revenue', 'arising', 'banner', 'ads', 'shall', 'solely', 'escrow', 'escrow', 'shall', 'run', 'banner', 'advertisements', 'branded', 'site', 'themart', 'competitors', 'themart', 'shall', 'provide', 'writing', 'list', 'companies', 'would', 'like', 'exclude', 'including', 'every', 'time', 'wish', 'change', 'list', 'service', 'performance', 'information', 'transfer', 'mechanism', 'parties', 'shall', 'good', 'faith', 'work', 'provide', 'reasonable', 'service', 'levels', 'respect', 'operation', 'portions', 'information', 'transfer', 'mechanism', 'control', 'source', 'themart', 'com', 'inc', 'program', 'review', 'meetings', 'parties', 'shall', 'meet', 'least', 'per', 'month', 'either', 'person', 'telephone', 'coordinate', 'implementation', 'agreement', 'time', 'promotion', 'launch', 'date', 'themart', 'widely', 'promote', 'services', 'every', 'seller', 'high', 'bidder', 'means', 'including', 'limited', 'end', 'auction', 'emails', 'containing', 'links', 'shall', 'possible', 'buyer', 'seller', 'initiate', 'transaction', 'inquiry', 'escrow', 'without', 'enter', 'personal', 'transaction', 'related', 'information', 'adding', 'links', 'branded', 'site', 'faq', 'section', 'themart', 'auctions', 'adding', 'links', 'branded', 'site', 'seller', 'listing', 'pages', 'themart', 'auctions', 'displaying', 'text', 'graphic', 'link', 'page', 'containing', 'information', 'services', 'auction', 'item', 'pages', 'bidding', 'pages', 'educate', 'bidders', 'escrow', 'themart', 'may', 'use', 'escrow', 'services', 'description', 'attached', 'exhibit', 'creating', 'page', 'payment', 'advertising', 'fees', 'launch', 'date', 'escrow', 'shall', 'pay', 'themart', 'advertising', 'fees', 'based', 'number', 'transaction', 'inquiries', 'advertising', 'fees', 'shall', 'consist', 'per', 'transaction', 'inquiry', 'amount', 'calculated', 'multiplying', 'amount', 'average', 'transaction', 'customers', 'preceding', 'quarter', 'formula', 'arriving', 'per', 'transaction', 'inquiry', 'amount', 'may', 'revised', 'time', 'time', 'term', 'agreement', 'reflect', 'present', 'market', 'conditions', 'adjusted', 'rate', 'mutual', 'consent', 'parties', 'good', 'faith', 'discussions', 'adjusted', 'rate', 'shall', 'added', 'addendum', 'agreement', 'reporting', 'within', 'two', 'weeks', 'following', 'end', 'calendar', 'quarter', 'escrow', 'shall', 'provide', 'themart', 'report', 'describing', 'quarter', 'number', 'new', 'registrations', 'branded', 'pages', 'number', 'transaction', 'inquiries', 'customers', 'total', 'number', 'transactions', 'inquiries', 'total', 'dollar', 'value', 'transactions', 'audit', 'rights', 'escrow', 'shall', 'keep', 'one', 'year', 'proper', 'records', 'books', 'account', 'relating', 'computation', 'advertising', 'payments', 'owed', 'themart', 'including', 'appropriate', 'computation', 'size', 'average', 'transaction', 'every', 'twelve', 'months', 'themart', 'cpa', 'may', 'inspect', 'audit', 'records', 'verify', 'reports', 'inspection', 'conducted', 'manner', 'unreasonably', 'interfere', 'escrow', 'business', 'activities', 'less', 'fifteen', 'days', 'notice', 'escrow', 'shall', 'within', 'two', 'weeks', 'make', 'overdue', 'payments', 'disclosed', 'audit', 'inspection', 'shall', 'themart', 'expense', 'however', 'audit', 'reveals', 'overdue', 'payments', 'excess', 'ten', 'percent', 'payments', 'owed', 'date', 'escrow', 'shall', 'immediately', 'pay', 'cost', 'audit', 'rights', 'standards', 'source', 'themart', 'com', 'inc', 'content', 'themart', 'hereby', 'grants', 'escrow', 'worldwide', 'non', 'exclusive', 'right', 'use', 'reproduce', 'distribute', 'publicly', 'perform', 'publicly', 'display', 'digitally', 'perform', 'themart', 'content', 'soley', 'respect', 'conjunction', 'branded', 'site', 'prior', 'written', 'consent', 'themart', 'term', 'agreement', 'escrow', 'hereby', 'grants', 'themart', 'worldwide', 'non', 'exclusive', 'right', 'use', 'reproduce', 'distribute', 'publicly', 'perform', 'publicly', 'display', 'digitally', 'perform', 'escrow', 'content', 'conjunction', 'themart', 'auctions', 'content', 'ownership', 'except', 'otherwise', 'provided', 'agreement', 'themart', 'escrow', 'themart', 'suppliers', 'retain', 'rights', 'title', 'interest', 'intellectual', 'property', 'rights', 'embodied', 'associated', 'themart', 'content', 'escrow', 'suppliers', 'retain', 'rights', 'title', 'interest', 'intellectual', 'property', 'rights', 'embodied', 'associated', 'escrow', 'content', 'branded', 'site', 'implied', 'licenses', 'agreement', 'rights', 'expressly', 'granted', 'reserved', 'neither', 'party', 'shall', 'exceed', 'scope', 'rights', 'granted', 'hereunder', 'trademarks', 'subject', 'terms', 'conditions', 'agreement', 'escrow', 'hereby', 'grants', 'themart', 'non', 'exclusive', 'nontransferable', 'right', 'use', 'escrow', 'marks', 'including', 'without', 'limitation', 'domain', 'name', 'links', 'advertisements', 'promotions', 'branded', 'pages', 'services', 'themart', 'hereby', 'grants', 'escrow', 'non', 'exclusive', 'nontransferable', 'right', 'use', 'themart', 'marks', 'including', 'without', 'limitation', 'domain', 'name', 'branded', 'pages', 'performance', 'services', 'trademark', 'restrictions', 'mark', 'owner', 'may', 'terminate', 'foregoing', 'rights', 'reasonable', 'discretion', 'party', 'use', 'marks', 'tarnishes', 'blurs', 'dilutes', 'quality', 'associated', 'marks', 'associated', 'goodwill', 'problem', 'cured', 'within', 'ten', 'days', 'notice', 'breach', 'alternatively', 'instead', 'terminating', 'right', 'total', 'owner', 'may', 'specify', 'certain', 'pages', 'party', 'web', 'site', 'may', 'contain', 'marks', 'title', 'ownership', 'owner', 'marks', 'shall', 'remain', 'owner', 'receiving', 'party', 'shall', 'use', 'marks', 'exactly', 'form', 'provided', 'conformance', 'trademark', 'usage', 'policies', 'party', 'shall', 'take', 'action', 'inconsistent', 'owner', 'ownership', 'marks', 'benefits', 'accruing', 'use', 'marks', 'shall', 'automatically', 'vest', 'owner', 'party', 'shall', 'form', 'combination', 'marks', 'party', 'marks', 'notwithstanding', 'foregoing', 'extent', 'domain', 'name', 'deemed', 'combination', 'mark', 'neither', 'party', 'shall', 'use', 'domain', 'name', 'purpose', 'except', 'expressly', 'provided', 'herein', 'attempt', 'register', 'domain', 'name', 'parties', 'jointly', 'cooperate', 'enforcement', 'action', 'infringement', 'domain', 'name', 'limits', 'sublicensing', 'rights', 'applicable', 'intellectual', 'property', 'right', 'granted', 'herein', 'sublicenseable', 'source', 'themart', 'com', 'inc', 'transferable', 'assignable', 'notwithstanding', 'foregoing', 'either', 'party', 'may', 'use', 'third', 'party', 'web', 'host', 'actions', 'failures', 'act', 'web', 'host', 'would', 'breach', 'agreement', 'actions', 'failures', 'act', 'taken', 'applicable', 'party', 'shall', 'deemed', 'breach', 'agreement', 'addition', 'themart', 'may', 'grant', 'sublicenses', 'companies', 'themart', 'business', 'relationship', 'extent', 'themart', 'content', 'visible', 'company', 'web', 'site', 'link', 'means', 'content', 'standards', 'themart', 'shall', 'provide', 'themart', 'content', 'escrow', 'shall', 'provide', 'escrow', 'content', 'infringes', 'third', 'party', 'copyright', 'patent', 'trademark', 'trade', 'secret', 'proprietary', 'rights', 'rights', 'publicity', 'privacy', 'violates', 'law', 'statute', 'ordinance', 'regulation', 'including', 'without', 'limitation', 'laws', 'regulations', 'governing', 'export', 'control', 'unfair', 'competition', 'antidiscrimination', 'false', 'advertising', 'defamatory', 'trade', 'libelous', 'unlawfully', 'threatening', 'unlawfully', 'harassing', 'obscene', 'harmful', 'minors', 'child', 'pornographic', 'contains', 'viruses', 'trojan', 'horses', 'worms', 'time', 'bombs', 'cancelbots', 'computer', 'programming', 'routines', 'intended', 'damage', 'detrimentally', 'interfere', 'surreptitiously', 'intercept', 'expropriate', 'system', 'data', 'personal', 'information', 'materially', 'false', 'misleading', 'inaccurate', 'service', 'standards', 'escrow', 'comply', 'laws', 'regulations', 'act', 'independent', 'escrow', 'agent', 'per', 'guidelines', 'california', 'escrow', 'law', 'california', 'financial', 'code', 'section', 'seq', 'successor', 'terms', 'conditions', 'provisions', 'agreement', 'conflict', 'california', 'escrow', 'law', 'rules', 'regulations', 'govern', 'escrow', 'business', 'practices', 'california', 'escrow', 'law', 'shall', 'prevail', 'notwithstanding', 'foregoing', 'time', 'escrow', 'reasonably', 'believes', 'conflict', 'exists', 'escrow', 'give', 'themart', 'written', 'notice', 'conflict', 'parties', 'use', 'best', 'efforts', 'resolve', 'conflict', 'disclaimer', 'warranties', 'party', 'provides', 'materials', 'services', 'party', 'party', 'disclaims', 'warranties', 'conditions', 'express', 'implied', 'statutory', 'including', 'without', 'limitation', 'implied', 'warranties', 'title', 'non', 'infringement', 'merchantability', 'andfitness', 'particular', 'purpose', 'party', 'acknowledges', 'entered', 'agreement', 'reliance', 'upon', 'warranty', 'representation', 'except', 'specifically', 'set', 'forth', 'herein', 'term', 'termination', 'term', 'term', 'agreement', 'shall', 'continue', 'one', 'year', 'following', 'launch', 'date', 'unless', 'earlier', 'terminated', 'provided', 'herein', 'agreement', 'may', 'renewed', 'number', 'successive', 'one', 'year', 'terms', 'mutual', 'written', 'agreement', 'parties', 'prior', 'conclusion', 'term', 'agreement', 'party', 'wishing', 'renew', 'agreement', 'shall', 'give', 'party', 'notice', 'thereof', 'less', 'thirty', 'days', 'expiration', 'term', 'effect', 'event', 'either', 'party', 'give', 'notice', 'term', 'agreement', 'shall', 'automatically', 'renewed', 'another', 'one', 'year', 'source', 'themart', 'com', 'inc', 'termination', 'breach', 'addition', 'remedies', 'may', 'available', 'providing', 'written', 'notice', 'party', 'may', 'immediately', 'terminate', 'agreement', 'party', 'materially', 'breaches', 'agreement', 'fails', 'cure', 'breach', 'within', 'sixty', 'days', 'receiving', 'written', 'notice', 'breach', 'provided', 'sections', 'initial', 'information', 'transfer', 'mechanism', 'development', 'restrictions', 'communications', 'termination', 'change', 'company', 'structure', 'majority', 'equity', 'securities', 'either', 'themart', 'escrow', 'inc', 'except', 'escrow', 'may', 'sell', 'majority', 'equity', 'securities', 'voting', 'interests', 'escrow', 'com', 'escrow', 'com', 'may', 'sell', 'majority', 'equity', 'securities', 'voting', 'interests', 'escrow', 'existing', 'shareholders', 'without', 'triggering', 'foregoing', 'acquired', 'another', 'company', 'term', 'agreement', 'either', 'company', 'may', 'terminate', 'agreement', 'without', 'liability', 'giving', 'thirty', 'days', 'written', 'notice', 'party', 'termination', 'bankruptcy', 'either', 'party', 'may', 'terminate', 'suspend', 'agreement', 'effective', 'immediately', 'without', 'liability', 'upon', 'written', 'notice', 'party', 'one', 'following', 'events', 'occurs', 'party', 'files', 'voluntary', 'petition', 'bankruptcy', 'otherwise', 'seeks', 'protection', 'law', 'protection', 'debtors', 'proceeding', 'instituted', 'party', 'provision', 'bankruptcy', 'laws', 'dismissed', 'within', 'ninety', 'days', 'party', 'adjudged', 'bankrupt', 'court', 'assumes', 'jurisdiction', 'substantial', 'portion', 'assets', 'party', 'reorganization', 'law', 'trustee', 'receiver', 'appointed', 'court', 'substantial', 'portion', 'assets', 'party', 'party', 'becomes', 'insolvent', 'ceases', 'suspends', 'substantially', 'business', 'party', 'makes', 'assignment', 'majority', 'assets', 'benefit', 'creditors', 'effects', 'termination', 'upon', 'expiration', 'termination', 'agreement', 'reason', 'rights', 'granted', 'herein', 'shall', 'terminate', 'escrow', 'shall', 'pay', 'amounts', 'owed', 'themart', 'within', 'six', 'weeks', 'termination', 'party', 'shall', 'remove', 'party', 'content', 'marks', 'servers', 'notwithstanding', 'foregoing', 'unless', 'agreement', 'terminated', 'material', 'breach', 'provisions', 'agreement', 'shall', 'survive', 'extent', 'necessary', 'escrow', 'complete', 'customer', 'transactions', 'pending', 'time', 'expiration', 'termination', 'sections', 'effects', 'termination', 'shall', 'survive', 'expiration', 'termination', 'agreement', 'indemnity', 'party', 'indemnifying', 'party', 'shall', 'indemnify', 'party', 'indemnified', 'party', 'claims', 'losses', 'costs', 'expenses', 'including', 'reasonable', 'attorneys', 'fees', 'indemnified', 'party', 'may', 'incur', 'result', 'claims', 'form', 'third', 'parties', 'arising', 'indemnifying', 'party', 'acts', 'omissions', 'misrepresentations', 'extent', 'indemnified', 'party', 'deemed', 'principal', 'indemnifying', 'party', 'addition', 'themart', 'shall', 'indemnify', 'escrow', 'claims', 'losses', 'costs', 'expenses', 'including', 'reasonable', 'attorneys', 'fees', 'escrow', 'may', 'incur', 'result', 'claims', 'form', 'third', 'parties', 'arising', 'themart', 'content', 'addition', 'escrow', 'shall', 'indemnify', 'themart', 'claims', 'losses', 'costs', 'expenses', 'including', 'reasonable', 'attorneys', 'fees', 'themart', 'may', 'incur', 'result', 'claims', 'form', 'third', 'parties', 'arising', 'escrow', 'source', 'themart', 'com', 'inc', 'content', 'services', 'provided', 'customers', 'foregoing', 'obligations', 'conditioned', 'indemnified', 'party', 'giving', 'indemnifying', 'party', 'notice', 'relevant', 'claim', 'cooperating', 'indemnifying', 'party', 'indemnifying', 'party', 'expense', 'defense', 'claim', 'iii', 'giving', 'indemnifying', 'party', 'right', 'control', 'defense', 'settlement', 'claim', 'except', 'indemnifying', 'party', 'shall', 'enter', 'settlement', 'affects', 'indemnified', 'party', 'rights', 'interest', 'without', 'indemnified', 'party', 'prior', 'written', 'approval', 'indemnified', 'party', 'shall', 'right', 'participate', 'defense', 'expense', 'limitation', 'liability', 'except', 'event', 'breach', 'section', 'neither', 'party', 'shall', 'liable', 'special', 'incidental', 'consequential', 'damages', 'lost', 'profits', 'however', 'arising', 'including', 'negligence', 'arising', 'connection', 'agreement', 'even', 'parties', 'aware', 'possibility', 'damages', 'confidential', 'information', 'party', 'confidential', 'information', 'defined', 'confidential', 'proprietary', 'information', 'party', 'disclosed', 'party', 'writing', 'marked', 'confidential', 'disclosed', 'orally', 'identified', 'confidential', 'time', 'disclosure', 'subsequently', 'reduced', 'writing', 'marked', 'confidential', 'delivered', 'party', 'within', 'ten', 'days', 'disclosure', 'party', 'shall', 'hold', 'party', 'confidential', 'information', 'confidence', 'shall', 'disclose', 'confidential', 'information', 'third', 'parties', 'use', 'party', 'confidential', 'information', 'purpose', 'required', 'perform', 'agreement', 'restrictions', 'shall', 'apply', 'confidential', 'information', 'already', 'known', 'recipient', 'becomes', 'act', 'fault', 'recipient', 'publicly', 'known', 'received', 'recipient', 'third', 'party', 'without', 'restriction', 'disclosure', 'use', 'independently', 'developed', 'recipient', 'without', 'reference', 'confidential', 'information', 'restriction', 'disclosure', 'shall', 'apply', 'confidential', 'information', 'required', 'disclosed', 'court', 'government', 'agency', 'upon', 'expiration', 'termination', 'agreement', 'within', 'fourteen', 'days', 'party', 'request', 'party', 'return', 'confidential', 'information', 'deliverables', 'requesting', 'party', 'general', 'provisions', 'governing', 'law', 'agreement', 'governed', 'construed', 'accordance', 'laws', 'state', 'california', 'without', 'giving', 'effect', 'conflict', 'laws', 'principles', 'parties', 'submit', 'personal', 'jurisdiction', 'california', 'agree', 'cause', 'action', 'arising', 'agreement', 'shall', 'brought', 'court', 'orange', 'county', 'california', 'severability', 'headings', 'provision', 'herein', 'held', 'invalid', 'unenforceable', 'reason', 'remaining', 'provisions', 'continue', 'full', 'force', 'without', 'impaired', 'invalidated', 'way', 'parties', 'agree', 'replace', 'invalid', 'provision', 'valid', 'provision', 'closely', 'approximates', 'intent', 'economic', 'effect', 'invalid', 'provision', 'headings', 'reference', 'purposes', 'way', 'define', 'limit', 'construe', 'describe', 'scope', 'extent', 'section', 'publicity', 'prior', 'release', 'press', 'releases', 'similar', 'promotional', 'materials', 'related', 'agreement', 'releasing', 'party', 'shall', 'submit', 'written', 'request', 'approval', 'party', 'copy', 'materials', 'released', 'source', 'themart', 'com', 'inc', 'request', 'shall', 'made', 'less', 'three', 'business', 'days', 'prior', 'requested', 'release', 'date', 'party', 'shall', 'unreasonably', 'withhold', 'delay', 'granting', 'approval', 'materials', 'approval', 'shall', 'provided', 'party', 'within', 'one', 'business', 'day', 'receipt', 'force', 'majeure', 'except', 'otherwise', 'provided', 'performance', 'hereunder', 'payment', 'prevented', 'restricted', 'interfered', 'act', 'condition', 'whatsoever', 'beyond', 'reasonable', 'control', 'party', 'force', 'majeure', 'event', 'party', 'affected', 'upon', 'giving', 'prompt', 'notice', 'party', 'shall', 'excused', 'performance', 'extent', 'prevention', 'restriction', 'interference', 'however', 'force', 'majeure', 'event', 'interferes', 'operation', 'agreement', 'sixty', 'days', 'either', 'party', 'terminate', 'agreement', 'without', 'penalty', 'notwithstanding', 'foregoing', 'occurrence', 'force', 'majeure', 'event', 'shall', 'limit', 'either', 'party', 'obligations', 'section', 'respect', 'third', 'party', 'claim', 'party', 'seeks', 'indemnification', 'independent', 'contractors', 'parties', 'independent', 'contractors', 'agency', 'partnership', 'joint', 'venture', 'employee', 'employer', 'franchisor', 'franchisee', 'relationship', 'intended', 'created', 'agreement', 'neither', 'party', 'shall', 'make', 'warranties', 'representations', 'behalf', 'party', 'notice', 'notices', 'hereunder', 'shall', 'given', 'appropriate', 'party', 'address', 'specified', 'address', 'party', 'shall', 'specify', 'writing', 'notice', 'shall', 'deemed', 'given', 'upon', 'personal', 'delivery', 'sent', 'fax', 'upon', 'confirmation', 'receipt', 'sent', 'reputable', 'overnight', 'courier', 'tracking', 'capabilities', 'one', 'day', 'date', 'mailing', 'escrow', 'escrow', 'inc', 'south', 'amphlett', 'blvd', 'san', 'mateo', 'fax', 'attention', 'president', 'copy', 'fred', 'greguras', 'esq', 'legal', 'counsel', 'escrow', 'fenwick', 'west', 'llp', 'two', 'palo', 'alto', 'square', 'palo', 'alto', 'themart', 'dominic', 'magliarditi', 'president', 'von', 'karman', 'avenue', 'floor', 'irvine', 'fax', 'counterparts', 'agreement', 'may', 'executed', 'one', 'counterparts', 'shall', 'deemed', 'original', 'shall', 'taken', 'together', 'deemed', 'one', 'instrument', 'good', 'faith', 'parties', 'agree', 'act', 'good', 'faith', 'respect', 'provision', 'agreement', 'dispute', 'may', 'arise', 'related', 'hereto', 'additional', 'documents', 'information', 'parties', 'agree', 'sign', 'provide', 'additional', 'documents', 'information', 'may', 'reasonably', 'required', 'carry', 'intent', 'agreement', 'effectuate', 'purposes', 'rights', 'remedies', 'cumulative', 'rights', 'remedies', 'provided', 'herein', 'cumulative', 'exclusive', 'rights', 'remedies', 'provided', 'law', 'otherwise', 'nonwaiver', 'failure', 'forbearance', 'either', 'party', 'exercise', 'right', 'insist', 'upon', 'enforce', 'performance', 'obligation', 'hereunder', 'shall', 'deemed', 'waiver', 'relinquishment', 'extent', 'right', 'obligation', 'instance', 'rather', 'source', 'themart', 'com', 'inc', 'shall', 'shall', 'remain', 'full', 'force', 'effect', 'waiver', 'right', 'party', 'obligation', 'party', 'hereunder', 'must', 'made', 'writing', 'signed', 'arty', 'waiving', 'right', 'obligation', 'entire', 'agreement', 'agreement', 'contains', 'entire', 'understanding', 'parties', 'hereto', 'respect', 'transactions', 'matters', 'contemplated', 'hereby', 'supersedes', 'previous', 'agreements', 'escrow', 'themart', 'concerning', 'subject', 'matter', 'except', 'confidential', 'agreement', 'dated', 'january', 'shall', 'survive', 'agreement', 'amendments', 'supplements', 'agreement', 'effective', 'purpose', 'except', 'written', 'agreement', 'signed', 'parties', 'party', 'hereto', 'relied', 'statement', 'representation', 'promise', 'party', 'officer', 'agent', 'employee', 'attorney', 'party', 'executing', 'agreement', 'except', 'expressly', 'stated', 'herein', 'themart', 'com', 'inc', 'escrow', 'inc', 'dominic', 'magliarditi', 'sanjay', 'bajaj', 'name', 'dominic', 'magliarditi', 'name', 'sanjay', 'bajaj', 'title', 'president', 'title', 'business', 'development', 'date', 'date', 'exhibit', 'escrow', 'services', 'description', 'successful', 'completion', 'transaction', 'involves', 'exchange', 'merchandise', 'payment', 'buyer', 'satisfied', 'received', 'thought', 'getting', 'seller', 'sure', 'gets', 'paid', 'escrow', 'holds', 'payment', 'buyer', 'trust', 'seller', 'sends', 'merchandise', 'buyer', 'buyer', 'accepts', 'merchandise', 'escrow', 'forwards', 'payment', 'seller', 'writing', 'check', 'typical', 'escrow', 'transaction', 'auction', 'ends', 'end', 'auction', 'email', 'contains', 'links', 'escrow', 'signed', 'escrow', 'following', 'steps', 'complete', 'transaction', 'start', 'transaction', 'entering', 'description', 'price', 'merchandise', 'along', 'email', 'address', 'party', 'party', 'receives', 'email', 'escrow', 'requesting', 'acknowledgement', 'terms', 'transaction', 'transaction', 'acknowledged', 'party', 'buyer', 'pays', 'escrow', 'agreed', 'upon', 'price', 'credit', 'card', 'means', 'escrow', 'informs', 'seller', 'payment', 'received', 'requesting', 'ship', 'merchandise', 'directly', 'buyer', 'seller', 'provides', 'escrow', 'tracking', 'number', 'shipment', 'buyer', 'receives', 'accepts', 'merchandise', 'escrow', 'sends', 'check', 'seller', 'information', 'escrow', 'visit', 'web', 'site', 'www', 'iescrow', 'com', 'source', 'themart', 'com', 'inc']\n"
          ]
        }
      ],
      "source": [
        "clean_tokens = [word for word in word_tokens if word not in stopword]\n",
        "print (clean_tokens)"
      ]
    },
    {
      "cell_type": "markdown",
      "metadata": {
        "id": "YWv-4wbB_7j9"
      },
      "source": [
        "## Stemming\n",
        "\n",
        "Often we want to map the different forms of the same word to the same root word, e.g. \"walks\", \"walking\", \"walked\" should all be the same as \"walk\"."
      ]
    },
    {
      "cell_type": "code",
      "source": [
        "print(clean_tokens)"
      ],
      "metadata": {
        "colab": {
          "base_uri": "https://localhost:8080/"
        },
        "id": "Gc8scBbupZte",
        "outputId": "463a99ae-47ff-402f-e04e-764f4a648a21"
      },
      "execution_count": 12,
      "outputs": [
        {
          "output_type": "stream",
          "name": "stdout",
          "text": [
            "['branding', 'advertising', 'agreement', 'branding', 'advertising', 'agreement', 'agreement', 'made', 'june', 'effective', 'date', 'escrow', 'inc', 'principal', 'place', 'business', 'amphlett', 'blvd', 'suite', 'san', 'mateo', 'california', 'escrow', 'themart', 'com', 'inc', 'principal', 'place', 'business', 'von', 'karman', 'avenue', 'floor', 'irvine', 'california', 'themart', 'definitions', 'content', 'means', 'content', 'information', 'medium', 'provided', 'party', 'party', 'use', 'conjunction', 'performance', 'obligations', 'hereunder', 'including', 'without', 'limitation', 'text', 'music', 'sound', 'photographs', 'video', 'graphics', 'data', 'software', 'content', 'provided', 'themart', 'referred', 'herein', 'themart', 'content', 'content', 'provided', 'escrow', 'referred', 'herein', 'escrow', 'content', 'branded', 'site', 'means', 'web', 'site', 'accessible', 'domain', 'name', 'services', 'implemented', 'escrow', 'homepage', 'web', 'site', 'visibly', 'display', 'themart', 'marks', 'escrow', 'marks', 'customers', 'means', 'users', 'access', 'branded', 'site', 'domain', 'name', 'means', 'www', 'iescrow', 'com', 'themart', 'escrow', 'services', 'means', 'services', 'auction', 'sellers', 'high', 'bidders', 'whereby', 'agent', 'holds', 'buyer', 'money', 'trust', 'buyer', 'approves', 'applicable', 'item', 'physically', 'delivered', 'time', 'agent', 'releases', 'buyer', 'money', 'seller', 'subtracting', 'escrow', 'fees', 'information', 'transfer', 'mechanism', 'means', 'mechanism', 'themart', 'transfers', 'escrow', 'information', 'populate', 'applicable', 'escrow', 'transaction', 'user', 'registration', 'forms', 'launch', 'date', 'means', 'first', 'date', 'branded', 'site', 'pointed', 'references', 'escrow', 'themart', 'auction', 'site', 'information', 'transfer', 'mechanism', 'publicly', 'deployed', 'post', 'beta', 'marks', 'means', 'domain', 'names', 'trademarks', 'logos', 'designated', 'party', 'party', 'use', 'conjunction', 'party', 'performance', 'agreement', 'marks', 'designated', 'themart', 'escrow', 'use', 'referred', 'herein', 'themart', 'marks', 'marks', 'designated', 'escrow', 'themart', 'use', 'referred', 'herein', 'escrow', 'marks', 'services', 'means', 'escrow', 'implementation', 'performance', 'escrow', 'services', 'effective', 'date', 'modified', 'time', 'shadow', 'site', 'means', 'site', 'branded', 'site', 'made', 'available', 'themart', 'testing', 'information', 'transfer', 'mechanism', 'prior', 'made', 'publicly', 'available', 'transaction', 'means', 'transaction', 'utilizing', 'services', 'actually', 'closes', 'initiated', 'transaction', 'inquiry', 'customer', 'transaction', 'inquiry', 'means', 'customer', 'submission', 'escrow', 'standard', 'new', 'transaction', 'inquiry', 'form', 'successor', 'branded', 'pages', 'currently', 'means', 'entry', 'description', 'price', 'merchandise', 'user', 'buyer', 'seller', 'agrees', 'abide', 'terms', 'conditions', 'services', 'together', 'email', 'address', 'party', 'regardless', 'whether', 'transaction', 'completed', 'source', 'themart', 'com', 'inc', 'development', 'implementation', 'overview', 'set', 'forth', 'herein', 'themart', 'promote', 'services', 'auction', 'users', 'buyers', 'sellers', 'escrow', 'shall', 'develop', 'branded', 'site', 'develop', 'information', 'transfer', 'mechanism', 'working', 'themart', 'make', 'services', 'available', 'seamlessly', 'customers', 'unless', 'otherwise', 'specified', 'party', 'shall', 'responsible', 'development', 'hosting', 'costs', 'associated', 'pages', 'resident', 'servers', 'emails', 'users', 'send', 'initial', 'information', 'transfer', 'mechanism', 'development', 'parties', 'shall', 'negotiate', 'good', 'faith', 'determine', 'initial', 'operation', 'information', 'transfer', 'mechanism', 'describe', 'operation', 'development', 'fees', 'statement', 'work', 'sow', 'party', 'shall', 'make', 'available', 'sufficient', 'qualified', 'engineers', 'negotiate', 'sow', 'sow', 'shall', 'binding', 'parties', 'unless', 'mutually', 'approved', 'parties', 'event', 'parties', 'unable', 'agree', 'sow', 'within', 'months', 'following', 'effective', 'date', 'either', 'party', 'may', 'sole', 'discretion', 'terminate', 'agreement', 'providing', 'written', 'notice', 'approved', 'parties', 'shall', 'use', 'commercially', 'reasonable', 'efforts', 'diligently', 'implement', 'respective', 'obligations', 'sow', 'upon', 'completion', 'duties', 'sow', 'party', 'shall', 'notify', 'party', 'provide', 'party', 'opportunity', 'test', 'evaluate', 'work', 'escrow', 'shall', 'make', 'available', 'shadow', 'site', 'testing', 'timely', 'manner', 'party', 'shall', 'reasonably', 'cooperate', 'party', 'effectuating', 'respective', 'duties', 'sow', 'information', 'transfer', 'mechanism', 'shall', 'live', 'operation', 'approved', 'approval', 'date', 'parties', 'approval', 'unreasonably', 'withheld', 'launch', 'timing', 'party', 'shall', 'use', 'good', 'faith', 'reasonable', 'efforts', 'expeditiously', 'develop', 'branded', 'pages', 'information', 'transfer', 'mechanism', 'event', 'using', 'efforts', 'launch', 'date', 'occurred', 'within', 'months', 'following', 'effective', 'date', 'either', 'party', 'may', 'terminate', 'agreement', 'providing', 'written', 'notice', 'one', 'party', 'used', 'good', 'faith', 'reasonable', 'development', 'efforts', 'party', 'may', 'exercise', 'foregoing', 'right', 'terminate', 'restrictions', 'communications', 'escrow', 'may', 'place', 'banner', 'advertising', 'branded', 'site', 'upon', 'prior', 'written', 'approval', 'themart', 'shall', 'discretion', 'themart', 'advertising', 'revenue', 'arising', 'banner', 'ads', 'shall', 'solely', 'escrow', 'escrow', 'shall', 'run', 'banner', 'advertisements', 'branded', 'site', 'themart', 'competitors', 'themart', 'shall', 'provide', 'writing', 'list', 'companies', 'would', 'like', 'exclude', 'including', 'every', 'time', 'wish', 'change', 'list', 'service', 'performance', 'information', 'transfer', 'mechanism', 'parties', 'shall', 'good', 'faith', 'work', 'provide', 'reasonable', 'service', 'levels', 'respect', 'operation', 'portions', 'information', 'transfer', 'mechanism', 'control', 'source', 'themart', 'com', 'inc', 'program', 'review', 'meetings', 'parties', 'shall', 'meet', 'least', 'per', 'month', 'either', 'person', 'telephone', 'coordinate', 'implementation', 'agreement', 'time', 'promotion', 'launch', 'date', 'themart', 'widely', 'promote', 'services', 'every', 'seller', 'high', 'bidder', 'means', 'including', 'limited', 'end', 'auction', 'emails', 'containing', 'links', 'shall', 'possible', 'buyer', 'seller', 'initiate', 'transaction', 'inquiry', 'escrow', 'without', 'enter', 'personal', 'transaction', 'related', 'information', 'adding', 'links', 'branded', 'site', 'faq', 'section', 'themart', 'auctions', 'adding', 'links', 'branded', 'site', 'seller', 'listing', 'pages', 'themart', 'auctions', 'displaying', 'text', 'graphic', 'link', 'page', 'containing', 'information', 'services', 'auction', 'item', 'pages', 'bidding', 'pages', 'educate', 'bidders', 'escrow', 'themart', 'may', 'use', 'escrow', 'services', 'description', 'attached', 'exhibit', 'creating', 'page', 'payment', 'advertising', 'fees', 'launch', 'date', 'escrow', 'shall', 'pay', 'themart', 'advertising', 'fees', 'based', 'number', 'transaction', 'inquiries', 'advertising', 'fees', 'shall', 'consist', 'per', 'transaction', 'inquiry', 'amount', 'calculated', 'multiplying', 'amount', 'average', 'transaction', 'customers', 'preceding', 'quarter', 'formula', 'arriving', 'per', 'transaction', 'inquiry', 'amount', 'may', 'revised', 'time', 'time', 'term', 'agreement', 'reflect', 'present', 'market', 'conditions', 'adjusted', 'rate', 'mutual', 'consent', 'parties', 'good', 'faith', 'discussions', 'adjusted', 'rate', 'shall', 'added', 'addendum', 'agreement', 'reporting', 'within', 'two', 'weeks', 'following', 'end', 'calendar', 'quarter', 'escrow', 'shall', 'provide', 'themart', 'report', 'describing', 'quarter', 'number', 'new', 'registrations', 'branded', 'pages', 'number', 'transaction', 'inquiries', 'customers', 'total', 'number', 'transactions', 'inquiries', 'total', 'dollar', 'value', 'transactions', 'audit', 'rights', 'escrow', 'shall', 'keep', 'one', 'year', 'proper', 'records', 'books', 'account', 'relating', 'computation', 'advertising', 'payments', 'owed', 'themart', 'including', 'appropriate', 'computation', 'size', 'average', 'transaction', 'every', 'twelve', 'months', 'themart', 'cpa', 'may', 'inspect', 'audit', 'records', 'verify', 'reports', 'inspection', 'conducted', 'manner', 'unreasonably', 'interfere', 'escrow', 'business', 'activities', 'less', 'fifteen', 'days', 'notice', 'escrow', 'shall', 'within', 'two', 'weeks', 'make', 'overdue', 'payments', 'disclosed', 'audit', 'inspection', 'shall', 'themart', 'expense', 'however', 'audit', 'reveals', 'overdue', 'payments', 'excess', 'ten', 'percent', 'payments', 'owed', 'date', 'escrow', 'shall', 'immediately', 'pay', 'cost', 'audit', 'rights', 'standards', 'source', 'themart', 'com', 'inc', 'content', 'themart', 'hereby', 'grants', 'escrow', 'worldwide', 'non', 'exclusive', 'right', 'use', 'reproduce', 'distribute', 'publicly', 'perform', 'publicly', 'display', 'digitally', 'perform', 'themart', 'content', 'soley', 'respect', 'conjunction', 'branded', 'site', 'prior', 'written', 'consent', 'themart', 'term', 'agreement', 'escrow', 'hereby', 'grants', 'themart', 'worldwide', 'non', 'exclusive', 'right', 'use', 'reproduce', 'distribute', 'publicly', 'perform', 'publicly', 'display', 'digitally', 'perform', 'escrow', 'content', 'conjunction', 'themart', 'auctions', 'content', 'ownership', 'except', 'otherwise', 'provided', 'agreement', 'themart', 'escrow', 'themart', 'suppliers', 'retain', 'rights', 'title', 'interest', 'intellectual', 'property', 'rights', 'embodied', 'associated', 'themart', 'content', 'escrow', 'suppliers', 'retain', 'rights', 'title', 'interest', 'intellectual', 'property', 'rights', 'embodied', 'associated', 'escrow', 'content', 'branded', 'site', 'implied', 'licenses', 'agreement', 'rights', 'expressly', 'granted', 'reserved', 'neither', 'party', 'shall', 'exceed', 'scope', 'rights', 'granted', 'hereunder', 'trademarks', 'subject', 'terms', 'conditions', 'agreement', 'escrow', 'hereby', 'grants', 'themart', 'non', 'exclusive', 'nontransferable', 'right', 'use', 'escrow', 'marks', 'including', 'without', 'limitation', 'domain', 'name', 'links', 'advertisements', 'promotions', 'branded', 'pages', 'services', 'themart', 'hereby', 'grants', 'escrow', 'non', 'exclusive', 'nontransferable', 'right', 'use', 'themart', 'marks', 'including', 'without', 'limitation', 'domain', 'name', 'branded', 'pages', 'performance', 'services', 'trademark', 'restrictions', 'mark', 'owner', 'may', 'terminate', 'foregoing', 'rights', 'reasonable', 'discretion', 'party', 'use', 'marks', 'tarnishes', 'blurs', 'dilutes', 'quality', 'associated', 'marks', 'associated', 'goodwill', 'problem', 'cured', 'within', 'ten', 'days', 'notice', 'breach', 'alternatively', 'instead', 'terminating', 'right', 'total', 'owner', 'may', 'specify', 'certain', 'pages', 'party', 'web', 'site', 'may', 'contain', 'marks', 'title', 'ownership', 'owner', 'marks', 'shall', 'remain', 'owner', 'receiving', 'party', 'shall', 'use', 'marks', 'exactly', 'form', 'provided', 'conformance', 'trademark', 'usage', 'policies', 'party', 'shall', 'take', 'action', 'inconsistent', 'owner', 'ownership', 'marks', 'benefits', 'accruing', 'use', 'marks', 'shall', 'automatically', 'vest', 'owner', 'party', 'shall', 'form', 'combination', 'marks', 'party', 'marks', 'notwithstanding', 'foregoing', 'extent', 'domain', 'name', 'deemed', 'combination', 'mark', 'neither', 'party', 'shall', 'use', 'domain', 'name', 'purpose', 'except', 'expressly', 'provided', 'herein', 'attempt', 'register', 'domain', 'name', 'parties', 'jointly', 'cooperate', 'enforcement', 'action', 'infringement', 'domain', 'name', 'limits', 'sublicensing', 'rights', 'applicable', 'intellectual', 'property', 'right', 'granted', 'herein', 'sublicenseable', 'source', 'themart', 'com', 'inc', 'transferable', 'assignable', 'notwithstanding', 'foregoing', 'either', 'party', 'may', 'use', 'third', 'party', 'web', 'host', 'actions', 'failures', 'act', 'web', 'host', 'would', 'breach', 'agreement', 'actions', 'failures', 'act', 'taken', 'applicable', 'party', 'shall', 'deemed', 'breach', 'agreement', 'addition', 'themart', 'may', 'grant', 'sublicenses', 'companies', 'themart', 'business', 'relationship', 'extent', 'themart', 'content', 'visible', 'company', 'web', 'site', 'link', 'means', 'content', 'standards', 'themart', 'shall', 'provide', 'themart', 'content', 'escrow', 'shall', 'provide', 'escrow', 'content', 'infringes', 'third', 'party', 'copyright', 'patent', 'trademark', 'trade', 'secret', 'proprietary', 'rights', 'rights', 'publicity', 'privacy', 'violates', 'law', 'statute', 'ordinance', 'regulation', 'including', 'without', 'limitation', 'laws', 'regulations', 'governing', 'export', 'control', 'unfair', 'competition', 'antidiscrimination', 'false', 'advertising', 'defamatory', 'trade', 'libelous', 'unlawfully', 'threatening', 'unlawfully', 'harassing', 'obscene', 'harmful', 'minors', 'child', 'pornographic', 'contains', 'viruses', 'trojan', 'horses', 'worms', 'time', 'bombs', 'cancelbots', 'computer', 'programming', 'routines', 'intended', 'damage', 'detrimentally', 'interfere', 'surreptitiously', 'intercept', 'expropriate', 'system', 'data', 'personal', 'information', 'materially', 'false', 'misleading', 'inaccurate', 'service', 'standards', 'escrow', 'comply', 'laws', 'regulations', 'act', 'independent', 'escrow', 'agent', 'per', 'guidelines', 'california', 'escrow', 'law', 'california', 'financial', 'code', 'section', 'seq', 'successor', 'terms', 'conditions', 'provisions', 'agreement', 'conflict', 'california', 'escrow', 'law', 'rules', 'regulations', 'govern', 'escrow', 'business', 'practices', 'california', 'escrow', 'law', 'shall', 'prevail', 'notwithstanding', 'foregoing', 'time', 'escrow', 'reasonably', 'believes', 'conflict', 'exists', 'escrow', 'give', 'themart', 'written', 'notice', 'conflict', 'parties', 'use', 'best', 'efforts', 'resolve', 'conflict', 'disclaimer', 'warranties', 'party', 'provides', 'materials', 'services', 'party', 'party', 'disclaims', 'warranties', 'conditions', 'express', 'implied', 'statutory', 'including', 'without', 'limitation', 'implied', 'warranties', 'title', 'non', 'infringement', 'merchantability', 'andfitness', 'particular', 'purpose', 'party', 'acknowledges', 'entered', 'agreement', 'reliance', 'upon', 'warranty', 'representation', 'except', 'specifically', 'set', 'forth', 'herein', 'term', 'termination', 'term', 'term', 'agreement', 'shall', 'continue', 'one', 'year', 'following', 'launch', 'date', 'unless', 'earlier', 'terminated', 'provided', 'herein', 'agreement', 'may', 'renewed', 'number', 'successive', 'one', 'year', 'terms', 'mutual', 'written', 'agreement', 'parties', 'prior', 'conclusion', 'term', 'agreement', 'party', 'wishing', 'renew', 'agreement', 'shall', 'give', 'party', 'notice', 'thereof', 'less', 'thirty', 'days', 'expiration', 'term', 'effect', 'event', 'either', 'party', 'give', 'notice', 'term', 'agreement', 'shall', 'automatically', 'renewed', 'another', 'one', 'year', 'source', 'themart', 'com', 'inc', 'termination', 'breach', 'addition', 'remedies', 'may', 'available', 'providing', 'written', 'notice', 'party', 'may', 'immediately', 'terminate', 'agreement', 'party', 'materially', 'breaches', 'agreement', 'fails', 'cure', 'breach', 'within', 'sixty', 'days', 'receiving', 'written', 'notice', 'breach', 'provided', 'sections', 'initial', 'information', 'transfer', 'mechanism', 'development', 'restrictions', 'communications', 'termination', 'change', 'company', 'structure', 'majority', 'equity', 'securities', 'either', 'themart', 'escrow', 'inc', 'except', 'escrow', 'may', 'sell', 'majority', 'equity', 'securities', 'voting', 'interests', 'escrow', 'com', 'escrow', 'com', 'may', 'sell', 'majority', 'equity', 'securities', 'voting', 'interests', 'escrow', 'existing', 'shareholders', 'without', 'triggering', 'foregoing', 'acquired', 'another', 'company', 'term', 'agreement', 'either', 'company', 'may', 'terminate', 'agreement', 'without', 'liability', 'giving', 'thirty', 'days', 'written', 'notice', 'party', 'termination', 'bankruptcy', 'either', 'party', 'may', 'terminate', 'suspend', 'agreement', 'effective', 'immediately', 'without', 'liability', 'upon', 'written', 'notice', 'party', 'one', 'following', 'events', 'occurs', 'party', 'files', 'voluntary', 'petition', 'bankruptcy', 'otherwise', 'seeks', 'protection', 'law', 'protection', 'debtors', 'proceeding', 'instituted', 'party', 'provision', 'bankruptcy', 'laws', 'dismissed', 'within', 'ninety', 'days', 'party', 'adjudged', 'bankrupt', 'court', 'assumes', 'jurisdiction', 'substantial', 'portion', 'assets', 'party', 'reorganization', 'law', 'trustee', 'receiver', 'appointed', 'court', 'substantial', 'portion', 'assets', 'party', 'party', 'becomes', 'insolvent', 'ceases', 'suspends', 'substantially', 'business', 'party', 'makes', 'assignment', 'majority', 'assets', 'benefit', 'creditors', 'effects', 'termination', 'upon', 'expiration', 'termination', 'agreement', 'reason', 'rights', 'granted', 'herein', 'shall', 'terminate', 'escrow', 'shall', 'pay', 'amounts', 'owed', 'themart', 'within', 'six', 'weeks', 'termination', 'party', 'shall', 'remove', 'party', 'content', 'marks', 'servers', 'notwithstanding', 'foregoing', 'unless', 'agreement', 'terminated', 'material', 'breach', 'provisions', 'agreement', 'shall', 'survive', 'extent', 'necessary', 'escrow', 'complete', 'customer', 'transactions', 'pending', 'time', 'expiration', 'termination', 'sections', 'effects', 'termination', 'shall', 'survive', 'expiration', 'termination', 'agreement', 'indemnity', 'party', 'indemnifying', 'party', 'shall', 'indemnify', 'party', 'indemnified', 'party', 'claims', 'losses', 'costs', 'expenses', 'including', 'reasonable', 'attorneys', 'fees', 'indemnified', 'party', 'may', 'incur', 'result', 'claims', 'form', 'third', 'parties', 'arising', 'indemnifying', 'party', 'acts', 'omissions', 'misrepresentations', 'extent', 'indemnified', 'party', 'deemed', 'principal', 'indemnifying', 'party', 'addition', 'themart', 'shall', 'indemnify', 'escrow', 'claims', 'losses', 'costs', 'expenses', 'including', 'reasonable', 'attorneys', 'fees', 'escrow', 'may', 'incur', 'result', 'claims', 'form', 'third', 'parties', 'arising', 'themart', 'content', 'addition', 'escrow', 'shall', 'indemnify', 'themart', 'claims', 'losses', 'costs', 'expenses', 'including', 'reasonable', 'attorneys', 'fees', 'themart', 'may', 'incur', 'result', 'claims', 'form', 'third', 'parties', 'arising', 'escrow', 'source', 'themart', 'com', 'inc', 'content', 'services', 'provided', 'customers', 'foregoing', 'obligations', 'conditioned', 'indemnified', 'party', 'giving', 'indemnifying', 'party', 'notice', 'relevant', 'claim', 'cooperating', 'indemnifying', 'party', 'indemnifying', 'party', 'expense', 'defense', 'claim', 'iii', 'giving', 'indemnifying', 'party', 'right', 'control', 'defense', 'settlement', 'claim', 'except', 'indemnifying', 'party', 'shall', 'enter', 'settlement', 'affects', 'indemnified', 'party', 'rights', 'interest', 'without', 'indemnified', 'party', 'prior', 'written', 'approval', 'indemnified', 'party', 'shall', 'right', 'participate', 'defense', 'expense', 'limitation', 'liability', 'except', 'event', 'breach', 'section', 'neither', 'party', 'shall', 'liable', 'special', 'incidental', 'consequential', 'damages', 'lost', 'profits', 'however', 'arising', 'including', 'negligence', 'arising', 'connection', 'agreement', 'even', 'parties', 'aware', 'possibility', 'damages', 'confidential', 'information', 'party', 'confidential', 'information', 'defined', 'confidential', 'proprietary', 'information', 'party', 'disclosed', 'party', 'writing', 'marked', 'confidential', 'disclosed', 'orally', 'identified', 'confidential', 'time', 'disclosure', 'subsequently', 'reduced', 'writing', 'marked', 'confidential', 'delivered', 'party', 'within', 'ten', 'days', 'disclosure', 'party', 'shall', 'hold', 'party', 'confidential', 'information', 'confidence', 'shall', 'disclose', 'confidential', 'information', 'third', 'parties', 'use', 'party', 'confidential', 'information', 'purpose', 'required', 'perform', 'agreement', 'restrictions', 'shall', 'apply', 'confidential', 'information', 'already', 'known', 'recipient', 'becomes', 'act', 'fault', 'recipient', 'publicly', 'known', 'received', 'recipient', 'third', 'party', 'without', 'restriction', 'disclosure', 'use', 'independently', 'developed', 'recipient', 'without', 'reference', 'confidential', 'information', 'restriction', 'disclosure', 'shall', 'apply', 'confidential', 'information', 'required', 'disclosed', 'court', 'government', 'agency', 'upon', 'expiration', 'termination', 'agreement', 'within', 'fourteen', 'days', 'party', 'request', 'party', 'return', 'confidential', 'information', 'deliverables', 'requesting', 'party', 'general', 'provisions', 'governing', 'law', 'agreement', 'governed', 'construed', 'accordance', 'laws', 'state', 'california', 'without', 'giving', 'effect', 'conflict', 'laws', 'principles', 'parties', 'submit', 'personal', 'jurisdiction', 'california', 'agree', 'cause', 'action', 'arising', 'agreement', 'shall', 'brought', 'court', 'orange', 'county', 'california', 'severability', 'headings', 'provision', 'herein', 'held', 'invalid', 'unenforceable', 'reason', 'remaining', 'provisions', 'continue', 'full', 'force', 'without', 'impaired', 'invalidated', 'way', 'parties', 'agree', 'replace', 'invalid', 'provision', 'valid', 'provision', 'closely', 'approximates', 'intent', 'economic', 'effect', 'invalid', 'provision', 'headings', 'reference', 'purposes', 'way', 'define', 'limit', 'construe', 'describe', 'scope', 'extent', 'section', 'publicity', 'prior', 'release', 'press', 'releases', 'similar', 'promotional', 'materials', 'related', 'agreement', 'releasing', 'party', 'shall', 'submit', 'written', 'request', 'approval', 'party', 'copy', 'materials', 'released', 'source', 'themart', 'com', 'inc', 'request', 'shall', 'made', 'less', 'three', 'business', 'days', 'prior', 'requested', 'release', 'date', 'party', 'shall', 'unreasonably', 'withhold', 'delay', 'granting', 'approval', 'materials', 'approval', 'shall', 'provided', 'party', 'within', 'one', 'business', 'day', 'receipt', 'force', 'majeure', 'except', 'otherwise', 'provided', 'performance', 'hereunder', 'payment', 'prevented', 'restricted', 'interfered', 'act', 'condition', 'whatsoever', 'beyond', 'reasonable', 'control', 'party', 'force', 'majeure', 'event', 'party', 'affected', 'upon', 'giving', 'prompt', 'notice', 'party', 'shall', 'excused', 'performance', 'extent', 'prevention', 'restriction', 'interference', 'however', 'force', 'majeure', 'event', 'interferes', 'operation', 'agreement', 'sixty', 'days', 'either', 'party', 'terminate', 'agreement', 'without', 'penalty', 'notwithstanding', 'foregoing', 'occurrence', 'force', 'majeure', 'event', 'shall', 'limit', 'either', 'party', 'obligations', 'section', 'respect', 'third', 'party', 'claim', 'party', 'seeks', 'indemnification', 'independent', 'contractors', 'parties', 'independent', 'contractors', 'agency', 'partnership', 'joint', 'venture', 'employee', 'employer', 'franchisor', 'franchisee', 'relationship', 'intended', 'created', 'agreement', 'neither', 'party', 'shall', 'make', 'warranties', 'representations', 'behalf', 'party', 'notice', 'notices', 'hereunder', 'shall', 'given', 'appropriate', 'party', 'address', 'specified', 'address', 'party', 'shall', 'specify', 'writing', 'notice', 'shall', 'deemed', 'given', 'upon', 'personal', 'delivery', 'sent', 'fax', 'upon', 'confirmation', 'receipt', 'sent', 'reputable', 'overnight', 'courier', 'tracking', 'capabilities', 'one', 'day', 'date', 'mailing', 'escrow', 'escrow', 'inc', 'south', 'amphlett', 'blvd', 'san', 'mateo', 'fax', 'attention', 'president', 'copy', 'fred', 'greguras', 'esq', 'legal', 'counsel', 'escrow', 'fenwick', 'west', 'llp', 'two', 'palo', 'alto', 'square', 'palo', 'alto', 'themart', 'dominic', 'magliarditi', 'president', 'von', 'karman', 'avenue', 'floor', 'irvine', 'fax', 'counterparts', 'agreement', 'may', 'executed', 'one', 'counterparts', 'shall', 'deemed', 'original', 'shall', 'taken', 'together', 'deemed', 'one', 'instrument', 'good', 'faith', 'parties', 'agree', 'act', 'good', 'faith', 'respect', 'provision', 'agreement', 'dispute', 'may', 'arise', 'related', 'hereto', 'additional', 'documents', 'information', 'parties', 'agree', 'sign', 'provide', 'additional', 'documents', 'information', 'may', 'reasonably', 'required', 'carry', 'intent', 'agreement', 'effectuate', 'purposes', 'rights', 'remedies', 'cumulative', 'rights', 'remedies', 'provided', 'herein', 'cumulative', 'exclusive', 'rights', 'remedies', 'provided', 'law', 'otherwise', 'nonwaiver', 'failure', 'forbearance', 'either', 'party', 'exercise', 'right', 'insist', 'upon', 'enforce', 'performance', 'obligation', 'hereunder', 'shall', 'deemed', 'waiver', 'relinquishment', 'extent', 'right', 'obligation', 'instance', 'rather', 'source', 'themart', 'com', 'inc', 'shall', 'shall', 'remain', 'full', 'force', 'effect', 'waiver', 'right', 'party', 'obligation', 'party', 'hereunder', 'must', 'made', 'writing', 'signed', 'arty', 'waiving', 'right', 'obligation', 'entire', 'agreement', 'agreement', 'contains', 'entire', 'understanding', 'parties', 'hereto', 'respect', 'transactions', 'matters', 'contemplated', 'hereby', 'supersedes', 'previous', 'agreements', 'escrow', 'themart', 'concerning', 'subject', 'matter', 'except', 'confidential', 'agreement', 'dated', 'january', 'shall', 'survive', 'agreement', 'amendments', 'supplements', 'agreement', 'effective', 'purpose', 'except', 'written', 'agreement', 'signed', 'parties', 'party', 'hereto', 'relied', 'statement', 'representation', 'promise', 'party', 'officer', 'agent', 'employee', 'attorney', 'party', 'executing', 'agreement', 'except', 'expressly', 'stated', 'herein', 'themart', 'com', 'inc', 'escrow', 'inc', 'dominic', 'magliarditi', 'sanjay', 'bajaj', 'name', 'dominic', 'magliarditi', 'name', 'sanjay', 'bajaj', 'title', 'president', 'title', 'business', 'development', 'date', 'date', 'exhibit', 'escrow', 'services', 'description', 'successful', 'completion', 'transaction', 'involves', 'exchange', 'merchandise', 'payment', 'buyer', 'satisfied', 'received', 'thought', 'getting', 'seller', 'sure', 'gets', 'paid', 'escrow', 'holds', 'payment', 'buyer', 'trust', 'seller', 'sends', 'merchandise', 'buyer', 'buyer', 'accepts', 'merchandise', 'escrow', 'forwards', 'payment', 'seller', 'writing', 'check', 'typical', 'escrow', 'transaction', 'auction', 'ends', 'end', 'auction', 'email', 'contains', 'links', 'escrow', 'signed', 'escrow', 'following', 'steps', 'complete', 'transaction', 'start', 'transaction', 'entering', 'description', 'price', 'merchandise', 'along', 'email', 'address', 'party', 'party', 'receives', 'email', 'escrow', 'requesting', 'acknowledgement', 'terms', 'transaction', 'transaction', 'acknowledged', 'party', 'buyer', 'pays', 'escrow', 'agreed', 'upon', 'price', 'credit', 'card', 'means', 'escrow', 'informs', 'seller', 'payment', 'received', 'requesting', 'ship', 'merchandise', 'directly', 'buyer', 'seller', 'provides', 'escrow', 'tracking', 'number', 'shipment', 'buyer', 'receives', 'accepts', 'merchandise', 'escrow', 'sends', 'check', 'seller', 'information', 'escrow', 'visit', 'web', 'site', 'www', 'iescrow', 'com', 'source', 'themart', 'com', 'inc']\n"
          ]
        }
      ]
    },
    {
      "cell_type": "code",
      "execution_count": 13,
      "metadata": {
        "id": "CNYExNQ0_7kA",
        "colab": {
          "base_uri": "https://localhost:8080/"
        },
        "outputId": "74c3cec5-8104-4355-80ee-c20a7f03a2fd"
      },
      "outputs": [
        {
          "output_type": "stream",
          "name": "stdout",
          "text": [
            "['brand', 'advertis', 'agreement', 'brand', 'advertis', 'agreement', 'agreement', 'made', 'june', 'effect', 'date', 'escrow', 'inc', 'princip', 'place', 'busi', 'amphlett', 'blvd', 'suit', 'san', 'mateo', 'california', 'escrow', 'themart', 'com', 'inc', 'princip', 'place', 'busi', 'von', 'karman', 'avenu', 'floor', 'irvin', 'california', 'themart', 'definit', 'content', 'mean', 'content', 'inform', 'medium', 'provid', 'parti', 'parti', 'use', 'conjunct', 'perform', 'oblig', 'hereund', 'includ', 'without', 'limit', 'text', 'music', 'sound', 'photograph', 'video', 'graphic', 'data', 'softwar', 'content', 'provid', 'themart', 'refer', 'herein', 'themart', 'content', 'content', 'provid', 'escrow', 'refer', 'herein', 'escrow', 'content', 'brand', 'site', 'mean', 'web', 'site', 'access', 'domain', 'name', 'servic', 'implement', 'escrow', 'homepag', 'web', 'site', 'visibl', 'display', 'themart', 'mark', 'escrow', 'mark', 'custom', 'mean', 'user', 'access', 'brand', 'site', 'domain', 'name', 'mean', 'www', 'iescrow', 'com', 'themart', 'escrow', 'servic', 'mean', 'servic', 'auction', 'seller', 'high', 'bidder', 'wherebi', 'agent', 'hold', 'buyer', 'money', 'trust', 'buyer', 'approv', 'applic', 'item', 'physic', 'deliv', 'time', 'agent', 'releas', 'buyer', 'money', 'seller', 'subtract', 'escrow', 'fee', 'inform', 'transfer', 'mechan', 'mean', 'mechan', 'themart', 'transfer', 'escrow', 'inform', 'popul', 'applic', 'escrow', 'transact', 'user', 'registr', 'form', 'launch', 'date', 'mean', 'first', 'date', 'brand', 'site', 'point', 'refer', 'escrow', 'themart', 'auction', 'site', 'inform', 'transfer', 'mechan', 'public', 'deploy', 'post', 'beta', 'mark', 'mean', 'domain', 'name', 'trademark', 'logo', 'design', 'parti', 'parti', 'use', 'conjunct', 'parti', 'perform', 'agreement', 'mark', 'design', 'themart', 'escrow', 'use', 'refer', 'herein', 'themart', 'mark', 'mark', 'design', 'escrow', 'themart', 'use', 'refer', 'herein', 'escrow', 'mark', 'servic', 'mean', 'escrow', 'implement', 'perform', 'escrow', 'servic', 'effect', 'date', 'modifi', 'time', 'shadow', 'site', 'mean', 'site', 'brand', 'site', 'made', 'avail', 'themart', 'test', 'inform', 'transfer', 'mechan', 'prior', 'made', 'public', 'avail', 'transact', 'mean', 'transact', 'util', 'servic', 'actual', 'close', 'initi', 'transact', 'inquiri', 'custom', 'transact', 'inquiri', 'mean', 'custom', 'submiss', 'escrow', 'standard', 'new', 'transact', 'inquiri', 'form', 'successor', 'brand', 'page', 'current', 'mean', 'entri', 'descript', 'price', 'merchandis', 'user', 'buyer', 'seller', 'agre', 'abid', 'term', 'condit', 'servic', 'togeth', 'email', 'address', 'parti', 'regardless', 'whether', 'transact', 'complet', 'sourc', 'themart', 'com', 'inc', 'develop', 'implement', 'overview', 'set', 'forth', 'herein', 'themart', 'promot', 'servic', 'auction', 'user', 'buyer', 'seller', 'escrow', 'shall', 'develop', 'brand', 'site', 'develop', 'inform', 'transfer', 'mechan', 'work', 'themart', 'make', 'servic', 'avail', 'seamless', 'custom', 'unless', 'otherwis', 'specifi', 'parti', 'shall', 'respons', 'develop', 'host', 'cost', 'associ', 'page', 'resid', 'server', 'email', 'user', 'send', 'initi', 'inform', 'transfer', 'mechan', 'develop', 'parti', 'shall', 'negoti', 'good', 'faith', 'determin', 'initi', 'oper', 'inform', 'transfer', 'mechan', 'describ', 'oper', 'develop', 'fee', 'statement', 'work', 'sow', 'parti', 'shall', 'make', 'avail', 'suffici', 'qualifi', 'engin', 'negoti', 'sow', 'sow', 'shall', 'bind', 'parti', 'unless', 'mutual', 'approv', 'parti', 'event', 'parti', 'unabl', 'agre', 'sow', 'within', 'month', 'follow', 'effect', 'date', 'either', 'parti', 'may', 'sole', 'discret', 'termin', 'agreement', 'provid', 'written', 'notic', 'approv', 'parti', 'shall', 'use', 'commerci', 'reason', 'effort', 'dilig', 'implement', 'respect', 'oblig', 'sow', 'upon', 'complet', 'duti', 'sow', 'parti', 'shall', 'notifi', 'parti', 'provid', 'parti', 'opportun', 'test', 'evalu', 'work', 'escrow', 'shall', 'make', 'avail', 'shadow', 'site', 'test', 'time', 'manner', 'parti', 'shall', 'reason', 'cooper', 'parti', 'effectu', 'respect', 'duti', 'sow', 'inform', 'transfer', 'mechan', 'shall', 'live', 'oper', 'approv', 'approv', 'date', 'parti', 'approv', 'unreason', 'withheld', 'launch', 'time', 'parti', 'shall', 'use', 'good', 'faith', 'reason', 'effort', 'expediti', 'develop', 'brand', 'page', 'inform', 'transfer', 'mechan', 'event', 'use', 'effort', 'launch', 'date', 'occur', 'within', 'month', 'follow', 'effect', 'date', 'either', 'parti', 'may', 'termin', 'agreement', 'provid', 'written', 'notic', 'one', 'parti', 'use', 'good', 'faith', 'reason', 'develop', 'effort', 'parti', 'may', 'exercis', 'forego', 'right', 'termin', 'restrict', 'communic', 'escrow', 'may', 'place', 'banner', 'advertis', 'brand', 'site', 'upon', 'prior', 'written', 'approv', 'themart', 'shall', 'discret', 'themart', 'advertis', 'revenu', 'aris', 'banner', 'ad', 'shall', 'sole', 'escrow', 'escrow', 'shall', 'run', 'banner', 'advertis', 'brand', 'site', 'themart', 'competitor', 'themart', 'shall', 'provid', 'write', 'list', 'compani', 'would', 'like', 'exclud', 'includ', 'everi', 'time', 'wish', 'chang', 'list', 'servic', 'perform', 'inform', 'transfer', 'mechan', 'parti', 'shall', 'good', 'faith', 'work', 'provid', 'reason', 'servic', 'level', 'respect', 'oper', 'portion', 'inform', 'transfer', 'mechan', 'control', 'sourc', 'themart', 'com', 'inc', 'program', 'review', 'meet', 'parti', 'shall', 'meet', 'least', 'per', 'month', 'either', 'person', 'telephon', 'coordin', 'implement', 'agreement', 'time', 'promot', 'launch', 'date', 'themart', 'wide', 'promot', 'servic', 'everi', 'seller', 'high', 'bidder', 'mean', 'includ', 'limit', 'end', 'auction', 'email', 'contain', 'link', 'shall', 'possibl', 'buyer', 'seller', 'initi', 'transact', 'inquiri', 'escrow', 'without', 'enter', 'person', 'transact', 'relat', 'inform', 'ad', 'link', 'brand', 'site', 'faq', 'section', 'themart', 'auction', 'ad', 'link', 'brand', 'site', 'seller', 'list', 'page', 'themart', 'auction', 'display', 'text', 'graphic', 'link', 'page', 'contain', 'inform', 'servic', 'auction', 'item', 'page', 'bid', 'page', 'educ', 'bidder', 'escrow', 'themart', 'may', 'use', 'escrow', 'servic', 'descript', 'attach', 'exhibit', 'creat', 'page', 'payment', 'advertis', 'fee', 'launch', 'date', 'escrow', 'shall', 'pay', 'themart', 'advertis', 'fee', 'base', 'number', 'transact', 'inquiri', 'advertis', 'fee', 'shall', 'consist', 'per', 'transact', 'inquiri', 'amount', 'calcul', 'multipli', 'amount', 'averag', 'transact', 'custom', 'preced', 'quarter', 'formula', 'arriv', 'per', 'transact', 'inquiri', 'amount', 'may', 'revis', 'time', 'time', 'term', 'agreement', 'reflect', 'present', 'market', 'condit', 'adjust', 'rate', 'mutual', 'consent', 'parti', 'good', 'faith', 'discuss', 'adjust', 'rate', 'shall', 'ad', 'addendum', 'agreement', 'report', 'within', 'two', 'week', 'follow', 'end', 'calendar', 'quarter', 'escrow', 'shall', 'provid', 'themart', 'report', 'describ', 'quarter', 'number', 'new', 'registr', 'brand', 'page', 'number', 'transact', 'inquiri', 'custom', 'total', 'number', 'transact', 'inquiri', 'total', 'dollar', 'valu', 'transact', 'audit', 'right', 'escrow', 'shall', 'keep', 'one', 'year', 'proper', 'record', 'book', 'account', 'relat', 'comput', 'advertis', 'payment', 'owe', 'themart', 'includ', 'appropri', 'comput', 'size', 'averag', 'transact', 'everi', 'twelv', 'month', 'themart', 'cpa', 'may', 'inspect', 'audit', 'record', 'verifi', 'report', 'inspect', 'conduct', 'manner', 'unreason', 'interfer', 'escrow', 'busi', 'activ', 'less', 'fifteen', 'day', 'notic', 'escrow', 'shall', 'within', 'two', 'week', 'make', 'overdu', 'payment', 'disclos', 'audit', 'inspect', 'shall', 'themart', 'expens', 'howev', 'audit', 'reveal', 'overdu', 'payment', 'excess', 'ten', 'percent', 'payment', 'owe', 'date', 'escrow', 'shall', 'immedi', 'pay', 'cost', 'audit', 'right', 'standard', 'sourc', 'themart', 'com', 'inc', 'content', 'themart', 'herebi', 'grant', 'escrow', 'worldwid', 'non', 'exclus', 'right', 'use', 'reproduc', 'distribut', 'public', 'perform', 'public', 'display', 'digit', 'perform', 'themart', 'content', 'soley', 'respect', 'conjunct', 'brand', 'site', 'prior', 'written', 'consent', 'themart', 'term', 'agreement', 'escrow', 'herebi', 'grant', 'themart', 'worldwid', 'non', 'exclus', 'right', 'use', 'reproduc', 'distribut', 'public', 'perform', 'public', 'display', 'digit', 'perform', 'escrow', 'content', 'conjunct', 'themart', 'auction', 'content', 'ownership', 'except', 'otherwis', 'provid', 'agreement', 'themart', 'escrow', 'themart', 'supplier', 'retain', 'right', 'titl', 'interest', 'intellectu', 'properti', 'right', 'embodi', 'associ', 'themart', 'content', 'escrow', 'supplier', 'retain', 'right', 'titl', 'interest', 'intellectu', 'properti', 'right', 'embodi', 'associ', 'escrow', 'content', 'brand', 'site', 'impli', 'licens', 'agreement', 'right', 'expressli', 'grant', 'reserv', 'neither', 'parti', 'shall', 'exceed', 'scope', 'right', 'grant', 'hereund', 'trademark', 'subject', 'term', 'condit', 'agreement', 'escrow', 'herebi', 'grant', 'themart', 'non', 'exclus', 'nontransfer', 'right', 'use', 'escrow', 'mark', 'includ', 'without', 'limit', 'domain', 'name', 'link', 'advertis', 'promot', 'brand', 'page', 'servic', 'themart', 'herebi', 'grant', 'escrow', 'non', 'exclus', 'nontransfer', 'right', 'use', 'themart', 'mark', 'includ', 'without', 'limit', 'domain', 'name', 'brand', 'page', 'perform', 'servic', 'trademark', 'restrict', 'mark', 'owner', 'may', 'termin', 'forego', 'right', 'reason', 'discret', 'parti', 'use', 'mark', 'tarnish', 'blur', 'dilut', 'qualiti', 'associ', 'mark', 'associ', 'goodwil', 'problem', 'cure', 'within', 'ten', 'day', 'notic', 'breach', 'altern', 'instead', 'termin', 'right', 'total', 'owner', 'may', 'specifi', 'certain', 'page', 'parti', 'web', 'site', 'may', 'contain', 'mark', 'titl', 'ownership', 'owner', 'mark', 'shall', 'remain', 'owner', 'receiv', 'parti', 'shall', 'use', 'mark', 'exact', 'form', 'provid', 'conform', 'trademark', 'usag', 'polici', 'parti', 'shall', 'take', 'action', 'inconsist', 'owner', 'ownership', 'mark', 'benefit', 'accru', 'use', 'mark', 'shall', 'automat', 'vest', 'owner', 'parti', 'shall', 'form', 'combin', 'mark', 'parti', 'mark', 'notwithstand', 'forego', 'extent', 'domain', 'name', 'deem', 'combin', 'mark', 'neither', 'parti', 'shall', 'use', 'domain', 'name', 'purpos', 'except', 'expressli', 'provid', 'herein', 'attempt', 'regist', 'domain', 'name', 'parti', 'joint', 'cooper', 'enforc', 'action', 'infring', 'domain', 'name', 'limit', 'sublicens', 'right', 'applic', 'intellectu', 'properti', 'right', 'grant', 'herein', 'sublicens', 'sourc', 'themart', 'com', 'inc', 'transfer', 'assign', 'notwithstand', 'forego', 'either', 'parti', 'may', 'use', 'third', 'parti', 'web', 'host', 'action', 'failur', 'act', 'web', 'host', 'would', 'breach', 'agreement', 'action', 'failur', 'act', 'taken', 'applic', 'parti', 'shall', 'deem', 'breach', 'agreement', 'addit', 'themart', 'may', 'grant', 'sublicens', 'compani', 'themart', 'busi', 'relationship', 'extent', 'themart', 'content', 'visibl', 'compani', 'web', 'site', 'link', 'mean', 'content', 'standard', 'themart', 'shall', 'provid', 'themart', 'content', 'escrow', 'shall', 'provid', 'escrow', 'content', 'infring', 'third', 'parti', 'copyright', 'patent', 'trademark', 'trade', 'secret', 'proprietari', 'right', 'right', 'public', 'privaci', 'violat', 'law', 'statut', 'ordin', 'regul', 'includ', 'without', 'limit', 'law', 'regul', 'govern', 'export', 'control', 'unfair', 'competit', 'antidiscrimin', 'fals', 'advertis', 'defamatori', 'trade', 'libel', 'unlaw', 'threaten', 'unlaw', 'harass', 'obscen', 'harm', 'minor', 'child', 'pornograph', 'contain', 'virus', 'trojan', 'hors', 'worm', 'time', 'bomb', 'cancelbot', 'comput', 'program', 'routin', 'intend', 'damag', 'detriment', 'interfer', 'surreptiti', 'intercept', 'expropri', 'system', 'data', 'person', 'inform', 'materi', 'fals', 'mislead', 'inaccur', 'servic', 'standard', 'escrow', 'compli', 'law', 'regul', 'act', 'independ', 'escrow', 'agent', 'per', 'guidelin', 'california', 'escrow', 'law', 'california', 'financi', 'code', 'section', 'seq', 'successor', 'term', 'condit', 'provis', 'agreement', 'conflict', 'california', 'escrow', 'law', 'rule', 'regul', 'govern', 'escrow', 'busi', 'practic', 'california', 'escrow', 'law', 'shall', 'prevail', 'notwithstand', 'forego', 'time', 'escrow', 'reason', 'believ', 'conflict', 'exist', 'escrow', 'give', 'themart', 'written', 'notic', 'conflict', 'parti', 'use', 'best', 'effort', 'resolv', 'conflict', 'disclaim', 'warranti', 'parti', 'provid', 'materi', 'servic', 'parti', 'parti', 'disclaim', 'warranti', 'condit', 'express', 'impli', 'statutori', 'includ', 'without', 'limit', 'impli', 'warranti', 'titl', 'non', 'infring', 'merchant', 'andfit', 'particular', 'purpos', 'parti', 'acknowledg', 'enter', 'agreement', 'relianc', 'upon', 'warranti', 'represent', 'except', 'specif', 'set', 'forth', 'herein', 'term', 'termin', 'term', 'term', 'agreement', 'shall', 'continu', 'one', 'year', 'follow', 'launch', 'date', 'unless', 'earlier', 'termin', 'provid', 'herein', 'agreement', 'may', 'renew', 'number', 'success', 'one', 'year', 'term', 'mutual', 'written', 'agreement', 'parti', 'prior', 'conclus', 'term', 'agreement', 'parti', 'wish', 'renew', 'agreement', 'shall', 'give', 'parti', 'notic', 'thereof', 'less', 'thirti', 'day', 'expir', 'term', 'effect', 'event', 'either', 'parti', 'give', 'notic', 'term', 'agreement', 'shall', 'automat', 'renew', 'anoth', 'one', 'year', 'sourc', 'themart', 'com', 'inc', 'termin', 'breach', 'addit', 'remedi', 'may', 'avail', 'provid', 'written', 'notic', 'parti', 'may', 'immedi', 'termin', 'agreement', 'parti', 'materi', 'breach', 'agreement', 'fail', 'cure', 'breach', 'within', 'sixti', 'day', 'receiv', 'written', 'notic', 'breach', 'provid', 'section', 'initi', 'inform', 'transfer', 'mechan', 'develop', 'restrict', 'communic', 'termin', 'chang', 'compani', 'structur', 'major', 'equiti', 'secur', 'either', 'themart', 'escrow', 'inc', 'except', 'escrow', 'may', 'sell', 'major', 'equiti', 'secur', 'vote', 'interest', 'escrow', 'com', 'escrow', 'com', 'may', 'sell', 'major', 'equiti', 'secur', 'vote', 'interest', 'escrow', 'exist', 'sharehold', 'without', 'trigger', 'forego', 'acquir', 'anoth', 'compani', 'term', 'agreement', 'either', 'compani', 'may', 'termin', 'agreement', 'without', 'liabil', 'give', 'thirti', 'day', 'written', 'notic', 'parti', 'termin', 'bankruptci', 'either', 'parti', 'may', 'termin', 'suspend', 'agreement', 'effect', 'immedi', 'without', 'liabil', 'upon', 'written', 'notic', 'parti', 'one', 'follow', 'event', 'occur', 'parti', 'file', 'voluntari', 'petit', 'bankruptci', 'otherwis', 'seek', 'protect', 'law', 'protect', 'debtor', 'proceed', 'institut', 'parti', 'provis', 'bankruptci', 'law', 'dismiss', 'within', 'nineti', 'day', 'parti', 'adjudg', 'bankrupt', 'court', 'assum', 'jurisdict', 'substanti', 'portion', 'asset', 'parti', 'reorgan', 'law', 'truste', 'receiv', 'appoint', 'court', 'substanti', 'portion', 'asset', 'parti', 'parti', 'becom', 'insolv', 'ceas', 'suspend', 'substanti', 'busi', 'parti', 'make', 'assign', 'major', 'asset', 'benefit', 'creditor', 'effect', 'termin', 'upon', 'expir', 'termin', 'agreement', 'reason', 'right', 'grant', 'herein', 'shall', 'termin', 'escrow', 'shall', 'pay', 'amount', 'owe', 'themart', 'within', 'six', 'week', 'termin', 'parti', 'shall', 'remov', 'parti', 'content', 'mark', 'server', 'notwithstand', 'forego', 'unless', 'agreement', 'termin', 'materi', 'breach', 'provis', 'agreement', 'shall', 'surviv', 'extent', 'necessari', 'escrow', 'complet', 'custom', 'transact', 'pend', 'time', 'expir', 'termin', 'section', 'effect', 'termin', 'shall', 'surviv', 'expir', 'termin', 'agreement', 'indemn', 'parti', 'indemnifi', 'parti', 'shall', 'indemnifi', 'parti', 'indemnifi', 'parti', 'claim', 'loss', 'cost', 'expens', 'includ', 'reason', 'attorney', 'fee', 'indemnifi', 'parti', 'may', 'incur', 'result', 'claim', 'form', 'third', 'parti', 'aris', 'indemnifi', 'parti', 'act', 'omiss', 'misrepresent', 'extent', 'indemnifi', 'parti', 'deem', 'princip', 'indemnifi', 'parti', 'addit', 'themart', 'shall', 'indemnifi', 'escrow', 'claim', 'loss', 'cost', 'expens', 'includ', 'reason', 'attorney', 'fee', 'escrow', 'may', 'incur', 'result', 'claim', 'form', 'third', 'parti', 'aris', 'themart', 'content', 'addit', 'escrow', 'shall', 'indemnifi', 'themart', 'claim', 'loss', 'cost', 'expens', 'includ', 'reason', 'attorney', 'fee', 'themart', 'may', 'incur', 'result', 'claim', 'form', 'third', 'parti', 'aris', 'escrow', 'sourc', 'themart', 'com', 'inc', 'content', 'servic', 'provid', 'custom', 'forego', 'oblig', 'condit', 'indemnifi', 'parti', 'give', 'indemnifi', 'parti', 'notic', 'relev', 'claim', 'cooper', 'indemnifi', 'parti', 'indemnifi', 'parti', 'expens', 'defens', 'claim', 'iii', 'give', 'indemnifi', 'parti', 'right', 'control', 'defens', 'settlement', 'claim', 'except', 'indemnifi', 'parti', 'shall', 'enter', 'settlement', 'affect', 'indemnifi', 'parti', 'right', 'interest', 'without', 'indemnifi', 'parti', 'prior', 'written', 'approv', 'indemnifi', 'parti', 'shall', 'right', 'particip', 'defens', 'expens', 'limit', 'liabil', 'except', 'event', 'breach', 'section', 'neither', 'parti', 'shall', 'liabl', 'special', 'incident', 'consequenti', 'damag', 'lost', 'profit', 'howev', 'aris', 'includ', 'neglig', 'aris', 'connect', 'agreement', 'even', 'parti', 'awar', 'possibl', 'damag', 'confidenti', 'inform', 'parti', 'confidenti', 'inform', 'defin', 'confidenti', 'proprietari', 'inform', 'parti', 'disclos', 'parti', 'write', 'mark', 'confidenti', 'disclos', 'oral', 'identifi', 'confidenti', 'time', 'disclosur', 'subsequ', 'reduc', 'write', 'mark', 'confidenti', 'deliv', 'parti', 'within', 'ten', 'day', 'disclosur', 'parti', 'shall', 'hold', 'parti', 'confidenti', 'inform', 'confid', 'shall', 'disclos', 'confidenti', 'inform', 'third', 'parti', 'use', 'parti', 'confidenti', 'inform', 'purpos', 'requir', 'perform', 'agreement', 'restrict', 'shall', 'appli', 'confidenti', 'inform', 'alreadi', 'known', 'recipi', 'becom', 'act', 'fault', 'recipi', 'public', 'known', 'receiv', 'recipi', 'third', 'parti', 'without', 'restrict', 'disclosur', 'use', 'independ', 'develop', 'recipi', 'without', 'refer', 'confidenti', 'inform', 'restrict', 'disclosur', 'shall', 'appli', 'confidenti', 'inform', 'requir', 'disclos', 'court', 'govern', 'agenc', 'upon', 'expir', 'termin', 'agreement', 'within', 'fourteen', 'day', 'parti', 'request', 'parti', 'return', 'confidenti', 'inform', 'deliver', 'request', 'parti', 'general', 'provis', 'govern', 'law', 'agreement', 'govern', 'constru', 'accord', 'law', 'state', 'california', 'without', 'give', 'effect', 'conflict', 'law', 'principl', 'parti', 'submit', 'person', 'jurisdict', 'california', 'agre', 'caus', 'action', 'aris', 'agreement', 'shall', 'brought', 'court', 'orang', 'counti', 'california', 'sever', 'head', 'provis', 'herein', 'held', 'invalid', 'unenforc', 'reason', 'remain', 'provis', 'continu', 'full', 'forc', 'without', 'impair', 'invalid', 'way', 'parti', 'agre', 'replac', 'invalid', 'provis', 'valid', 'provis', 'close', 'approxim', 'intent', 'econom', 'effect', 'invalid', 'provis', 'head', 'refer', 'purpos', 'way', 'defin', 'limit', 'constru', 'describ', 'scope', 'extent', 'section', 'public', 'prior', 'releas', 'press', 'releas', 'similar', 'promot', 'materi', 'relat', 'agreement', 'releas', 'parti', 'shall', 'submit', 'written', 'request', 'approv', 'parti', 'copi', 'materi', 'releas', 'sourc', 'themart', 'com', 'inc', 'request', 'shall', 'made', 'less', 'three', 'busi', 'day', 'prior', 'request', 'releas', 'date', 'parti', 'shall', 'unreason', 'withhold', 'delay', 'grant', 'approv', 'materi', 'approv', 'shall', 'provid', 'parti', 'within', 'one', 'busi', 'day', 'receipt', 'forc', 'majeur', 'except', 'otherwis', 'provid', 'perform', 'hereund', 'payment', 'prevent', 'restrict', 'interf', 'act', 'condit', 'whatsoev', 'beyond', 'reason', 'control', 'parti', 'forc', 'majeur', 'event', 'parti', 'affect', 'upon', 'give', 'prompt', 'notic', 'parti', 'shall', 'excus', 'perform', 'extent', 'prevent', 'restrict', 'interfer', 'howev', 'forc', 'majeur', 'event', 'interfer', 'oper', 'agreement', 'sixti', 'day', 'either', 'parti', 'termin', 'agreement', 'without', 'penalti', 'notwithstand', 'forego', 'occurr', 'forc', 'majeur', 'event', 'shall', 'limit', 'either', 'parti', 'oblig', 'section', 'respect', 'third', 'parti', 'claim', 'parti', 'seek', 'indemnif', 'independ', 'contractor', 'parti', 'independ', 'contractor', 'agenc', 'partnership', 'joint', 'ventur', 'employe', 'employ', 'franchisor', 'franchise', 'relationship', 'intend', 'creat', 'agreement', 'neither', 'parti', 'shall', 'make', 'warranti', 'represent', 'behalf', 'parti', 'notic', 'notic', 'hereund', 'shall', 'given', 'appropri', 'parti', 'address', 'specifi', 'address', 'parti', 'shall', 'specifi', 'write', 'notic', 'shall', 'deem', 'given', 'upon', 'person', 'deliveri', 'sent', 'fax', 'upon', 'confirm', 'receipt', 'sent', 'reput', 'overnight', 'courier', 'track', 'capabl', 'one', 'day', 'date', 'mail', 'escrow', 'escrow', 'inc', 'south', 'amphlett', 'blvd', 'san', 'mateo', 'fax', 'attent', 'presid', 'copi', 'fred', 'gregura', 'esq', 'legal', 'counsel', 'escrow', 'fenwick', 'west', 'llp', 'two', 'palo', 'alto', 'squar', 'palo', 'alto', 'themart', 'domin', 'magliard', 'presid', 'von', 'karman', 'avenu', 'floor', 'irvin', 'fax', 'counterpart', 'agreement', 'may', 'execut', 'one', 'counterpart', 'shall', 'deem', 'origin', 'shall', 'taken', 'togeth', 'deem', 'one', 'instrument', 'good', 'faith', 'parti', 'agre', 'act', 'good', 'faith', 'respect', 'provis', 'agreement', 'disput', 'may', 'aris', 'relat', 'hereto', 'addit', 'document', 'inform', 'parti', 'agre', 'sign', 'provid', 'addit', 'document', 'inform', 'may', 'reason', 'requir', 'carri', 'intent', 'agreement', 'effectu', 'purpos', 'right', 'remedi', 'cumul', 'right', 'remedi', 'provid', 'herein', 'cumul', 'exclus', 'right', 'remedi', 'provid', 'law', 'otherwis', 'nonwaiv', 'failur', 'forbear', 'either', 'parti', 'exercis', 'right', 'insist', 'upon', 'enforc', 'perform', 'oblig', 'hereund', 'shall', 'deem', 'waiver', 'relinquish', 'extent', 'right', 'oblig', 'instanc', 'rather', 'sourc', 'themart', 'com', 'inc', 'shall', 'shall', 'remain', 'full', 'forc', 'effect', 'waiver', 'right', 'parti', 'oblig', 'parti', 'hereund', 'must', 'made', 'write', 'sign', 'arti', 'waiv', 'right', 'oblig', 'entir', 'agreement', 'agreement', 'contain', 'entir', 'understand', 'parti', 'hereto', 'respect', 'transact', 'matter', 'contempl', 'herebi', 'supersed', 'previous', 'agreement', 'escrow', 'themart', 'concern', 'subject', 'matter', 'except', 'confidenti', 'agreement', 'date', 'januari', 'shall', 'surviv', 'agreement', 'amend', 'supplement', 'agreement', 'effect', 'purpos', 'except', 'written', 'agreement', 'sign', 'parti', 'parti', 'hereto', 'reli', 'statement', 'represent', 'promis', 'parti', 'offic', 'agent', 'employe', 'attorney', 'parti', 'execut', 'agreement', 'except', 'expressli', 'state', 'herein', 'themart', 'com', 'inc', 'escrow', 'inc', 'domin', 'magliard', 'sanjay', 'bajaj', 'name', 'domin', 'magliard', 'name', 'sanjay', 'bajaj', 'titl', 'presid', 'titl', 'busi', 'develop', 'date', 'date', 'exhibit', 'escrow', 'servic', 'descript', 'success', 'complet', 'transact', 'involv', 'exchang', 'merchandis', 'payment', 'buyer', 'satisfi', 'receiv', 'thought', 'get', 'seller', 'sure', 'get', 'paid', 'escrow', 'hold', 'payment', 'buyer', 'trust', 'seller', 'send', 'merchandis', 'buyer', 'buyer', 'accept', 'merchandis', 'escrow', 'forward', 'payment', 'seller', 'write', 'check', 'typic', 'escrow', 'transact', 'auction', 'end', 'end', 'auction', 'email', 'contain', 'link', 'escrow', 'sign', 'escrow', 'follow', 'step', 'complet', 'transact', 'start', 'transact', 'enter', 'descript', 'price', 'merchandis', 'along', 'email', 'address', 'parti', 'parti', 'receiv', 'email', 'escrow', 'request', 'acknowledg', 'term', 'transact', 'transact', 'acknowledg', 'parti', 'buyer', 'pay', 'escrow', 'agre', 'upon', 'price', 'credit', 'card', 'mean', 'escrow', 'inform', 'seller', 'payment', 'receiv', 'request', 'ship', 'merchandis', 'direct', 'buyer', 'seller', 'provid', 'escrow', 'track', 'number', 'shipment', 'buyer', 'receiv', 'accept', 'merchandis', 'escrow', 'send', 'check', 'seller', 'inform', 'escrow', 'visit', 'web', 'site', 'www', 'iescrow', 'com', 'sourc', 'themart', 'com', 'inc']\n"
          ]
        }
      ],
      "source": [
        "snowball_stemmer = SnowballStemmer('english')\n",
        "stemmed_token = [snowball_stemmer.stem(word) for word in clean_tokens]\n",
        "print(stemmed_token)"
      ]
    },
    {
      "cell_type": "markdown",
      "metadata": {
        "id": "M6VoToo9lAZ1"
      },
      "source": [
        "# Lab Session 1: Building A Contract Analyzer"
      ]
    },
    {
      "cell_type": "markdown",
      "source": [
        "## Import Model Functions"
      ],
      "metadata": {
        "id": "3MmXcMOv8lL1"
      }
    },
    {
      "cell_type": "code",
      "source": [
        "from sklearn.feature_extraction.text import CountVectorizer\n",
        "from sklearn.model_selection import train_test_split\n",
        "from sklearn.naive_bayes import MultinomialNB\n",
        "from sklearn.metrics import classification_report, accuracy_score"
      ],
      "metadata": {
        "id": "Uk_IHsle8kT4"
      },
      "execution_count": 14,
      "outputs": []
    },
    {
      "cell_type": "markdown",
      "source": [
        "## Preprocessing in Sklearn\n",
        "\n",
        "Sklearn can do the precesssing for us with the functions CountVectorizer or TfIDF Vectorizer; But it provides no stemming for us."
      ],
      "metadata": {
        "id": "dincxGri8xVH"
      }
    },
    {
      "cell_type": "code",
      "source": [
        "# Defining a CountVectorizer with our preprocessing Steps\n",
        "vectorizer = CountVectorizer(lowercase=True, stop_words=\"english\", token_pattern=r'[a-zA-Z]{3,}',  min_df=5)\n",
        "\n",
        "# Loooking at the TDM Matrix\n",
        "X = vectorizer.fit_transform(corpus[\"content\"])\n",
        "TDM = pd.DataFrame(X.toarray(), columns=vectorizer.get_feature_names_out())\n",
        "TDM"
      ],
      "metadata": {
        "id": "SNgAL1VBpHeh",
        "colab": {
          "base_uri": "https://localhost:8080/",
          "height": 423
        },
        "outputId": "f0a3e6b9-2e37-425f-8b0c-8858e1b17fee"
      },
      "execution_count": 15,
      "outputs": [
        {
          "output_type": "execute_result",
          "data": {
            "text/plain": [
              "     aaa  aba  abandon  abandoned  abandonment  abbreviation  abide  \\\n",
              "0      0    0        0          0            0             0      1   \n",
              "1      0    0        0          0            0             0      0   \n",
              "2      0    0        0          0            0             0      0   \n",
              "3      0    0        0          0            0             0      0   \n",
              "4      0    0        0          0            0             0      0   \n",
              "..   ...  ...      ...        ...          ...           ...    ...   \n",
              "493    1    0        0          0            0             0      0   \n",
              "494    0    0        0          0            0             0      0   \n",
              "495    0    0        0          0            0             0      0   \n",
              "496    0    0        0          0            0             0      0   \n",
              "497    0    0        0          0            0             0      0   \n",
              "\n",
              "     abilities  ability  able  ...  xxiii  year  yearly  years  yield  york  \\\n",
              "0            0        0     0  ...      0     4       0      0      0     0   \n",
              "1            0        2     0  ...      0     0       0      0      0     1   \n",
              "2            0        0     1  ...      0     3       0      0      0     0   \n",
              "3            0        3     0  ...      0     3       0      2      0     0   \n",
              "4            0        0     0  ...      0    17       0      1      0     0   \n",
              "..         ...      ...   ...  ...    ...   ...     ...    ...    ...   ...   \n",
              "493          0        0     0  ...      0     1       0      0      0     0   \n",
              "494          0        2     0  ...      0     6       0      0      0     0   \n",
              "495          0        0     0  ...      0     0       0      0      0     0   \n",
              "496          0        0     0  ...      0     1       0      1      0     0   \n",
              "497          0        0     0  ...      0     0       0      1      0     0   \n",
              "\n",
              "     zero  zip  zone  zoning  \n",
              "0       0    0     0       0  \n",
              "1       0    0     0       0  \n",
              "2       0    0     0       0  \n",
              "3       0    0     0       0  \n",
              "4       0    0     0       0  \n",
              "..    ...  ...   ...     ...  \n",
              "493     0    0     0       0  \n",
              "494     0    0     0       0  \n",
              "495     0    0     0       0  \n",
              "496     0    0     0       0  \n",
              "497     0    0     0       0  \n",
              "\n",
              "[498 rows x 5773 columns]"
            ],
            "text/html": [
              "\n",
              "  <div id=\"df-e86581d4-0471-45d0-91d2-a8ff94c8f21a\" class=\"colab-df-container\">\n",
              "    <div>\n",
              "<style scoped>\n",
              "    .dataframe tbody tr th:only-of-type {\n",
              "        vertical-align: middle;\n",
              "    }\n",
              "\n",
              "    .dataframe tbody tr th {\n",
              "        vertical-align: top;\n",
              "    }\n",
              "\n",
              "    .dataframe thead th {\n",
              "        text-align: right;\n",
              "    }\n",
              "</style>\n",
              "<table border=\"1\" class=\"dataframe\">\n",
              "  <thead>\n",
              "    <tr style=\"text-align: right;\">\n",
              "      <th></th>\n",
              "      <th>aaa</th>\n",
              "      <th>aba</th>\n",
              "      <th>abandon</th>\n",
              "      <th>abandoned</th>\n",
              "      <th>abandonment</th>\n",
              "      <th>abbreviation</th>\n",
              "      <th>abide</th>\n",
              "      <th>abilities</th>\n",
              "      <th>ability</th>\n",
              "      <th>able</th>\n",
              "      <th>...</th>\n",
              "      <th>xxiii</th>\n",
              "      <th>year</th>\n",
              "      <th>yearly</th>\n",
              "      <th>years</th>\n",
              "      <th>yield</th>\n",
              "      <th>york</th>\n",
              "      <th>zero</th>\n",
              "      <th>zip</th>\n",
              "      <th>zone</th>\n",
              "      <th>zoning</th>\n",
              "    </tr>\n",
              "  </thead>\n",
              "  <tbody>\n",
              "    <tr>\n",
              "      <th>0</th>\n",
              "      <td>0</td>\n",
              "      <td>0</td>\n",
              "      <td>0</td>\n",
              "      <td>0</td>\n",
              "      <td>0</td>\n",
              "      <td>0</td>\n",
              "      <td>1</td>\n",
              "      <td>0</td>\n",
              "      <td>0</td>\n",
              "      <td>0</td>\n",
              "      <td>...</td>\n",
              "      <td>0</td>\n",
              "      <td>4</td>\n",
              "      <td>0</td>\n",
              "      <td>0</td>\n",
              "      <td>0</td>\n",
              "      <td>0</td>\n",
              "      <td>0</td>\n",
              "      <td>0</td>\n",
              "      <td>0</td>\n",
              "      <td>0</td>\n",
              "    </tr>\n",
              "    <tr>\n",
              "      <th>1</th>\n",
              "      <td>0</td>\n",
              "      <td>0</td>\n",
              "      <td>0</td>\n",
              "      <td>0</td>\n",
              "      <td>0</td>\n",
              "      <td>0</td>\n",
              "      <td>0</td>\n",
              "      <td>0</td>\n",
              "      <td>2</td>\n",
              "      <td>0</td>\n",
              "      <td>...</td>\n",
              "      <td>0</td>\n",
              "      <td>0</td>\n",
              "      <td>0</td>\n",
              "      <td>0</td>\n",
              "      <td>0</td>\n",
              "      <td>1</td>\n",
              "      <td>0</td>\n",
              "      <td>0</td>\n",
              "      <td>0</td>\n",
              "      <td>0</td>\n",
              "    </tr>\n",
              "    <tr>\n",
              "      <th>2</th>\n",
              "      <td>0</td>\n",
              "      <td>0</td>\n",
              "      <td>0</td>\n",
              "      <td>0</td>\n",
              "      <td>0</td>\n",
              "      <td>0</td>\n",
              "      <td>0</td>\n",
              "      <td>0</td>\n",
              "      <td>0</td>\n",
              "      <td>1</td>\n",
              "      <td>...</td>\n",
              "      <td>0</td>\n",
              "      <td>3</td>\n",
              "      <td>0</td>\n",
              "      <td>0</td>\n",
              "      <td>0</td>\n",
              "      <td>0</td>\n",
              "      <td>0</td>\n",
              "      <td>0</td>\n",
              "      <td>0</td>\n",
              "      <td>0</td>\n",
              "    </tr>\n",
              "    <tr>\n",
              "      <th>3</th>\n",
              "      <td>0</td>\n",
              "      <td>0</td>\n",
              "      <td>0</td>\n",
              "      <td>0</td>\n",
              "      <td>0</td>\n",
              "      <td>0</td>\n",
              "      <td>0</td>\n",
              "      <td>0</td>\n",
              "      <td>3</td>\n",
              "      <td>0</td>\n",
              "      <td>...</td>\n",
              "      <td>0</td>\n",
              "      <td>3</td>\n",
              "      <td>0</td>\n",
              "      <td>2</td>\n",
              "      <td>0</td>\n",
              "      <td>0</td>\n",
              "      <td>0</td>\n",
              "      <td>0</td>\n",
              "      <td>0</td>\n",
              "      <td>0</td>\n",
              "    </tr>\n",
              "    <tr>\n",
              "      <th>4</th>\n",
              "      <td>0</td>\n",
              "      <td>0</td>\n",
              "      <td>0</td>\n",
              "      <td>0</td>\n",
              "      <td>0</td>\n",
              "      <td>0</td>\n",
              "      <td>0</td>\n",
              "      <td>0</td>\n",
              "      <td>0</td>\n",
              "      <td>0</td>\n",
              "      <td>...</td>\n",
              "      <td>0</td>\n",
              "      <td>17</td>\n",
              "      <td>0</td>\n",
              "      <td>1</td>\n",
              "      <td>0</td>\n",
              "      <td>0</td>\n",
              "      <td>0</td>\n",
              "      <td>0</td>\n",
              "      <td>0</td>\n",
              "      <td>0</td>\n",
              "    </tr>\n",
              "    <tr>\n",
              "      <th>...</th>\n",
              "      <td>...</td>\n",
              "      <td>...</td>\n",
              "      <td>...</td>\n",
              "      <td>...</td>\n",
              "      <td>...</td>\n",
              "      <td>...</td>\n",
              "      <td>...</td>\n",
              "      <td>...</td>\n",
              "      <td>...</td>\n",
              "      <td>...</td>\n",
              "      <td>...</td>\n",
              "      <td>...</td>\n",
              "      <td>...</td>\n",
              "      <td>...</td>\n",
              "      <td>...</td>\n",
              "      <td>...</td>\n",
              "      <td>...</td>\n",
              "      <td>...</td>\n",
              "      <td>...</td>\n",
              "      <td>...</td>\n",
              "      <td>...</td>\n",
              "    </tr>\n",
              "    <tr>\n",
              "      <th>493</th>\n",
              "      <td>1</td>\n",
              "      <td>0</td>\n",
              "      <td>0</td>\n",
              "      <td>0</td>\n",
              "      <td>0</td>\n",
              "      <td>0</td>\n",
              "      <td>0</td>\n",
              "      <td>0</td>\n",
              "      <td>0</td>\n",
              "      <td>0</td>\n",
              "      <td>...</td>\n",
              "      <td>0</td>\n",
              "      <td>1</td>\n",
              "      <td>0</td>\n",
              "      <td>0</td>\n",
              "      <td>0</td>\n",
              "      <td>0</td>\n",
              "      <td>0</td>\n",
              "      <td>0</td>\n",
              "      <td>0</td>\n",
              "      <td>0</td>\n",
              "    </tr>\n",
              "    <tr>\n",
              "      <th>494</th>\n",
              "      <td>0</td>\n",
              "      <td>0</td>\n",
              "      <td>0</td>\n",
              "      <td>0</td>\n",
              "      <td>0</td>\n",
              "      <td>0</td>\n",
              "      <td>0</td>\n",
              "      <td>0</td>\n",
              "      <td>2</td>\n",
              "      <td>0</td>\n",
              "      <td>...</td>\n",
              "      <td>0</td>\n",
              "      <td>6</td>\n",
              "      <td>0</td>\n",
              "      <td>0</td>\n",
              "      <td>0</td>\n",
              "      <td>0</td>\n",
              "      <td>0</td>\n",
              "      <td>0</td>\n",
              "      <td>0</td>\n",
              "      <td>0</td>\n",
              "    </tr>\n",
              "    <tr>\n",
              "      <th>495</th>\n",
              "      <td>0</td>\n",
              "      <td>0</td>\n",
              "      <td>0</td>\n",
              "      <td>0</td>\n",
              "      <td>0</td>\n",
              "      <td>0</td>\n",
              "      <td>0</td>\n",
              "      <td>0</td>\n",
              "      <td>0</td>\n",
              "      <td>0</td>\n",
              "      <td>...</td>\n",
              "      <td>0</td>\n",
              "      <td>0</td>\n",
              "      <td>0</td>\n",
              "      <td>0</td>\n",
              "      <td>0</td>\n",
              "      <td>0</td>\n",
              "      <td>0</td>\n",
              "      <td>0</td>\n",
              "      <td>0</td>\n",
              "      <td>0</td>\n",
              "    </tr>\n",
              "    <tr>\n",
              "      <th>496</th>\n",
              "      <td>0</td>\n",
              "      <td>0</td>\n",
              "      <td>0</td>\n",
              "      <td>0</td>\n",
              "      <td>0</td>\n",
              "      <td>0</td>\n",
              "      <td>0</td>\n",
              "      <td>0</td>\n",
              "      <td>0</td>\n",
              "      <td>0</td>\n",
              "      <td>...</td>\n",
              "      <td>0</td>\n",
              "      <td>1</td>\n",
              "      <td>0</td>\n",
              "      <td>1</td>\n",
              "      <td>0</td>\n",
              "      <td>0</td>\n",
              "      <td>0</td>\n",
              "      <td>0</td>\n",
              "      <td>0</td>\n",
              "      <td>0</td>\n",
              "    </tr>\n",
              "    <tr>\n",
              "      <th>497</th>\n",
              "      <td>0</td>\n",
              "      <td>0</td>\n",
              "      <td>0</td>\n",
              "      <td>0</td>\n",
              "      <td>0</td>\n",
              "      <td>0</td>\n",
              "      <td>0</td>\n",
              "      <td>0</td>\n",
              "      <td>0</td>\n",
              "      <td>0</td>\n",
              "      <td>...</td>\n",
              "      <td>0</td>\n",
              "      <td>0</td>\n",
              "      <td>0</td>\n",
              "      <td>1</td>\n",
              "      <td>0</td>\n",
              "      <td>0</td>\n",
              "      <td>0</td>\n",
              "      <td>0</td>\n",
              "      <td>0</td>\n",
              "      <td>0</td>\n",
              "    </tr>\n",
              "  </tbody>\n",
              "</table>\n",
              "<p>498 rows × 5773 columns</p>\n",
              "</div>\n",
              "    <div class=\"colab-df-buttons\">\n",
              "\n",
              "  <div class=\"colab-df-container\">\n",
              "    <button class=\"colab-df-convert\" onclick=\"convertToInteractive('df-e86581d4-0471-45d0-91d2-a8ff94c8f21a')\"\n",
              "            title=\"Convert this dataframe to an interactive table.\"\n",
              "            style=\"display:none;\">\n",
              "\n",
              "  <svg xmlns=\"http://www.w3.org/2000/svg\" height=\"24px\" viewBox=\"0 -960 960 960\">\n",
              "    <path d=\"M120-120v-720h720v720H120Zm60-500h600v-160H180v160Zm220 220h160v-160H400v160Zm0 220h160v-160H400v160ZM180-400h160v-160H180v160Zm440 0h160v-160H620v160ZM180-180h160v-160H180v160Zm440 0h160v-160H620v160Z\"/>\n",
              "  </svg>\n",
              "    </button>\n",
              "\n",
              "  <style>\n",
              "    .colab-df-container {\n",
              "      display:flex;\n",
              "      gap: 12px;\n",
              "    }\n",
              "\n",
              "    .colab-df-convert {\n",
              "      background-color: #E8F0FE;\n",
              "      border: none;\n",
              "      border-radius: 50%;\n",
              "      cursor: pointer;\n",
              "      display: none;\n",
              "      fill: #1967D2;\n",
              "      height: 32px;\n",
              "      padding: 0 0 0 0;\n",
              "      width: 32px;\n",
              "    }\n",
              "\n",
              "    .colab-df-convert:hover {\n",
              "      background-color: #E2EBFA;\n",
              "      box-shadow: 0px 1px 2px rgba(60, 64, 67, 0.3), 0px 1px 3px 1px rgba(60, 64, 67, 0.15);\n",
              "      fill: #174EA6;\n",
              "    }\n",
              "\n",
              "    .colab-df-buttons div {\n",
              "      margin-bottom: 4px;\n",
              "    }\n",
              "\n",
              "    [theme=dark] .colab-df-convert {\n",
              "      background-color: #3B4455;\n",
              "      fill: #D2E3FC;\n",
              "    }\n",
              "\n",
              "    [theme=dark] .colab-df-convert:hover {\n",
              "      background-color: #434B5C;\n",
              "      box-shadow: 0px 1px 3px 1px rgba(0, 0, 0, 0.15);\n",
              "      filter: drop-shadow(0px 1px 2px rgba(0, 0, 0, 0.3));\n",
              "      fill: #FFFFFF;\n",
              "    }\n",
              "  </style>\n",
              "\n",
              "    <script>\n",
              "      const buttonEl =\n",
              "        document.querySelector('#df-e86581d4-0471-45d0-91d2-a8ff94c8f21a button.colab-df-convert');\n",
              "      buttonEl.style.display =\n",
              "        google.colab.kernel.accessAllowed ? 'block' : 'none';\n",
              "\n",
              "      async function convertToInteractive(key) {\n",
              "        const element = document.querySelector('#df-e86581d4-0471-45d0-91d2-a8ff94c8f21a');\n",
              "        const dataTable =\n",
              "          await google.colab.kernel.invokeFunction('convertToInteractive',\n",
              "                                                    [key], {});\n",
              "        if (!dataTable) return;\n",
              "\n",
              "        const docLinkHtml = 'Like what you see? Visit the ' +\n",
              "          '<a target=\"_blank\" href=https://colab.research.google.com/notebooks/data_table.ipynb>data table notebook</a>'\n",
              "          + ' to learn more about interactive tables.';\n",
              "        element.innerHTML = '';\n",
              "        dataTable['output_type'] = 'display_data';\n",
              "        await google.colab.output.renderOutput(dataTable, element);\n",
              "        const docLink = document.createElement('div');\n",
              "        docLink.innerHTML = docLinkHtml;\n",
              "        element.appendChild(docLink);\n",
              "      }\n",
              "    </script>\n",
              "  </div>\n",
              "\n",
              "\n",
              "<div id=\"df-52f6fe0a-a5ec-43ca-a931-914eec7594a1\">\n",
              "  <button class=\"colab-df-quickchart\" onclick=\"quickchart('df-52f6fe0a-a5ec-43ca-a931-914eec7594a1')\"\n",
              "            title=\"Suggest charts\"\n",
              "            style=\"display:none;\">\n",
              "\n",
              "<svg xmlns=\"http://www.w3.org/2000/svg\" height=\"24px\"viewBox=\"0 0 24 24\"\n",
              "     width=\"24px\">\n",
              "    <g>\n",
              "        <path d=\"M19 3H5c-1.1 0-2 .9-2 2v14c0 1.1.9 2 2 2h14c1.1 0 2-.9 2-2V5c0-1.1-.9-2-2-2zM9 17H7v-7h2v7zm4 0h-2V7h2v10zm4 0h-2v-4h2v4z\"/>\n",
              "    </g>\n",
              "</svg>\n",
              "  </button>\n",
              "\n",
              "<style>\n",
              "  .colab-df-quickchart {\n",
              "      --bg-color: #E8F0FE;\n",
              "      --fill-color: #1967D2;\n",
              "      --hover-bg-color: #E2EBFA;\n",
              "      --hover-fill-color: #174EA6;\n",
              "      --disabled-fill-color: #AAA;\n",
              "      --disabled-bg-color: #DDD;\n",
              "  }\n",
              "\n",
              "  [theme=dark] .colab-df-quickchart {\n",
              "      --bg-color: #3B4455;\n",
              "      --fill-color: #D2E3FC;\n",
              "      --hover-bg-color: #434B5C;\n",
              "      --hover-fill-color: #FFFFFF;\n",
              "      --disabled-bg-color: #3B4455;\n",
              "      --disabled-fill-color: #666;\n",
              "  }\n",
              "\n",
              "  .colab-df-quickchart {\n",
              "    background-color: var(--bg-color);\n",
              "    border: none;\n",
              "    border-radius: 50%;\n",
              "    cursor: pointer;\n",
              "    display: none;\n",
              "    fill: var(--fill-color);\n",
              "    height: 32px;\n",
              "    padding: 0;\n",
              "    width: 32px;\n",
              "  }\n",
              "\n",
              "  .colab-df-quickchart:hover {\n",
              "    background-color: var(--hover-bg-color);\n",
              "    box-shadow: 0 1px 2px rgba(60, 64, 67, 0.3), 0 1px 3px 1px rgba(60, 64, 67, 0.15);\n",
              "    fill: var(--button-hover-fill-color);\n",
              "  }\n",
              "\n",
              "  .colab-df-quickchart-complete:disabled,\n",
              "  .colab-df-quickchart-complete:disabled:hover {\n",
              "    background-color: var(--disabled-bg-color);\n",
              "    fill: var(--disabled-fill-color);\n",
              "    box-shadow: none;\n",
              "  }\n",
              "\n",
              "  .colab-df-spinner {\n",
              "    border: 2px solid var(--fill-color);\n",
              "    border-color: transparent;\n",
              "    border-bottom-color: var(--fill-color);\n",
              "    animation:\n",
              "      spin 1s steps(1) infinite;\n",
              "  }\n",
              "\n",
              "  @keyframes spin {\n",
              "    0% {\n",
              "      border-color: transparent;\n",
              "      border-bottom-color: var(--fill-color);\n",
              "      border-left-color: var(--fill-color);\n",
              "    }\n",
              "    20% {\n",
              "      border-color: transparent;\n",
              "      border-left-color: var(--fill-color);\n",
              "      border-top-color: var(--fill-color);\n",
              "    }\n",
              "    30% {\n",
              "      border-color: transparent;\n",
              "      border-left-color: var(--fill-color);\n",
              "      border-top-color: var(--fill-color);\n",
              "      border-right-color: var(--fill-color);\n",
              "    }\n",
              "    40% {\n",
              "      border-color: transparent;\n",
              "      border-right-color: var(--fill-color);\n",
              "      border-top-color: var(--fill-color);\n",
              "    }\n",
              "    60% {\n",
              "      border-color: transparent;\n",
              "      border-right-color: var(--fill-color);\n",
              "    }\n",
              "    80% {\n",
              "      border-color: transparent;\n",
              "      border-right-color: var(--fill-color);\n",
              "      border-bottom-color: var(--fill-color);\n",
              "    }\n",
              "    90% {\n",
              "      border-color: transparent;\n",
              "      border-bottom-color: var(--fill-color);\n",
              "    }\n",
              "  }\n",
              "</style>\n",
              "\n",
              "  <script>\n",
              "    async function quickchart(key) {\n",
              "      const quickchartButtonEl =\n",
              "        document.querySelector('#' + key + ' button');\n",
              "      quickchartButtonEl.disabled = true;  // To prevent multiple clicks.\n",
              "      quickchartButtonEl.classList.add('colab-df-spinner');\n",
              "      try {\n",
              "        const charts = await google.colab.kernel.invokeFunction(\n",
              "            'suggestCharts', [key], {});\n",
              "      } catch (error) {\n",
              "        console.error('Error during call to suggestCharts:', error);\n",
              "      }\n",
              "      quickchartButtonEl.classList.remove('colab-df-spinner');\n",
              "      quickchartButtonEl.classList.add('colab-df-quickchart-complete');\n",
              "    }\n",
              "    (() => {\n",
              "      let quickchartButtonEl =\n",
              "        document.querySelector('#df-52f6fe0a-a5ec-43ca-a931-914eec7594a1 button');\n",
              "      quickchartButtonEl.style.display =\n",
              "        google.colab.kernel.accessAllowed ? 'block' : 'none';\n",
              "    })();\n",
              "  </script>\n",
              "</div>\n",
              "\n",
              "  <div id=\"id_c5ad5c7a-d2e7-463c-a0e6-9e6531ab6806\">\n",
              "    <style>\n",
              "      .colab-df-generate {\n",
              "        background-color: #E8F0FE;\n",
              "        border: none;\n",
              "        border-radius: 50%;\n",
              "        cursor: pointer;\n",
              "        display: none;\n",
              "        fill: #1967D2;\n",
              "        height: 32px;\n",
              "        padding: 0 0 0 0;\n",
              "        width: 32px;\n",
              "      }\n",
              "\n",
              "      .colab-df-generate:hover {\n",
              "        background-color: #E2EBFA;\n",
              "        box-shadow: 0px 1px 2px rgba(60, 64, 67, 0.3), 0px 1px 3px 1px rgba(60, 64, 67, 0.15);\n",
              "        fill: #174EA6;\n",
              "      }\n",
              "\n",
              "      [theme=dark] .colab-df-generate {\n",
              "        background-color: #3B4455;\n",
              "        fill: #D2E3FC;\n",
              "      }\n",
              "\n",
              "      [theme=dark] .colab-df-generate:hover {\n",
              "        background-color: #434B5C;\n",
              "        box-shadow: 0px 1px 3px 1px rgba(0, 0, 0, 0.15);\n",
              "        filter: drop-shadow(0px 1px 2px rgba(0, 0, 0, 0.3));\n",
              "        fill: #FFFFFF;\n",
              "      }\n",
              "    </style>\n",
              "    <button class=\"colab-df-generate\" onclick=\"generateWithVariable('TDM')\"\n",
              "            title=\"Generate code using this dataframe.\"\n",
              "            style=\"display:none;\">\n",
              "\n",
              "  <svg xmlns=\"http://www.w3.org/2000/svg\" height=\"24px\"viewBox=\"0 0 24 24\"\n",
              "       width=\"24px\">\n",
              "    <path d=\"M7,19H8.4L18.45,9,17,7.55,7,17.6ZM5,21V16.75L18.45,3.32a2,2,0,0,1,2.83,0l1.4,1.43a1.91,1.91,0,0,1,.58,1.4,1.91,1.91,0,0,1-.58,1.4L9.25,21ZM18.45,9,17,7.55Zm-12,3A5.31,5.31,0,0,0,4.9,8.1,5.31,5.31,0,0,0,1,6.5,5.31,5.31,0,0,0,4.9,4.9,5.31,5.31,0,0,0,6.5,1,5.31,5.31,0,0,0,8.1,4.9,5.31,5.31,0,0,0,12,6.5,5.46,5.46,0,0,0,6.5,12Z\"/>\n",
              "  </svg>\n",
              "    </button>\n",
              "    <script>\n",
              "      (() => {\n",
              "      const buttonEl =\n",
              "        document.querySelector('#id_c5ad5c7a-d2e7-463c-a0e6-9e6531ab6806 button.colab-df-generate');\n",
              "      buttonEl.style.display =\n",
              "        google.colab.kernel.accessAllowed ? 'block' : 'none';\n",
              "\n",
              "      buttonEl.onclick = () => {\n",
              "        google.colab.notebook.generateWithVariable('TDM');\n",
              "      }\n",
              "      })();\n",
              "    </script>\n",
              "  </div>\n",
              "\n",
              "    </div>\n",
              "  </div>\n"
            ],
            "application/vnd.google.colaboratory.intrinsic+json": {
              "type": "dataframe",
              "variable_name": "TDM"
            }
          },
          "metadata": {},
          "execution_count": 15
        }
      ]
    },
    {
      "cell_type": "markdown",
      "metadata": {
        "id": "hxhUrrW3fJxD"
      },
      "source": [
        "## Preprocess Train and Test sets"
      ]
    },
    {
      "cell_type": "code",
      "source": [
        "X = corpus[\"content\"]\n",
        "X"
      ],
      "metadata": {
        "colab": {
          "base_uri": "https://localhost:8080/",
          "height": 458
        },
        "id": "QqzOoWP3Lc8f",
        "outputId": "0f18943b-9bf3-4826-f08f-9648a3c18d79"
      },
      "execution_count": 16,
      "outputs": [
        {
          "output_type": "execute_result",
          "data": {
            "text/plain": [
              "0      CO-BRANDING AND ADVERTISING AGREEMENT  THIS CO...\n",
              "1      EXHIBIT 4.25 INFORMATION IN THIS EXHIBIT IDENT...\n",
              "2      EXHIBIT 10.13                               JO...\n",
              "3      Exhibit 10.31    PURSUANT TO 17 C.F.R. § 240.2...\n",
              "4      REDACTED COPY  CONFIDENTIAL TREATMENT REQUESTE...\n",
              "                             ...                        \n",
              "493    Exhibit 10.1  INTELLECTUAL PROPERTY AGREEMENT ...\n",
              "494    Exhibit 10.2  CERTAIN INFORMATION (INDICATED B...\n",
              "495    Exhibit 10.17(b)                              ...\n",
              "496    Exhibit 10.1 MANUFACTURING, DESIGN AND MARKETI...\n",
              "497    Exhibit 10.10   Road Transportation Agreement ...\n",
              "Name: content, Length: 498, dtype: object"
            ],
            "text/html": [
              "<div>\n",
              "<style scoped>\n",
              "    .dataframe tbody tr th:only-of-type {\n",
              "        vertical-align: middle;\n",
              "    }\n",
              "\n",
              "    .dataframe tbody tr th {\n",
              "        vertical-align: top;\n",
              "    }\n",
              "\n",
              "    .dataframe thead th {\n",
              "        text-align: right;\n",
              "    }\n",
              "</style>\n",
              "<table border=\"1\" class=\"dataframe\">\n",
              "  <thead>\n",
              "    <tr style=\"text-align: right;\">\n",
              "      <th></th>\n",
              "      <th>content</th>\n",
              "    </tr>\n",
              "  </thead>\n",
              "  <tbody>\n",
              "    <tr>\n",
              "      <th>0</th>\n",
              "      <td>CO-BRANDING AND ADVERTISING AGREEMENT  THIS CO...</td>\n",
              "    </tr>\n",
              "    <tr>\n",
              "      <th>1</th>\n",
              "      <td>EXHIBIT 4.25 INFORMATION IN THIS EXHIBIT IDENT...</td>\n",
              "    </tr>\n",
              "    <tr>\n",
              "      <th>2</th>\n",
              "      <td>EXHIBIT 10.13                               JO...</td>\n",
              "    </tr>\n",
              "    <tr>\n",
              "      <th>3</th>\n",
              "      <td>Exhibit 10.31    PURSUANT TO 17 C.F.R. § 240.2...</td>\n",
              "    </tr>\n",
              "    <tr>\n",
              "      <th>4</th>\n",
              "      <td>REDACTED COPY  CONFIDENTIAL TREATMENT REQUESTE...</td>\n",
              "    </tr>\n",
              "    <tr>\n",
              "      <th>...</th>\n",
              "      <td>...</td>\n",
              "    </tr>\n",
              "    <tr>\n",
              "      <th>493</th>\n",
              "      <td>Exhibit 10.1  INTELLECTUAL PROPERTY AGREEMENT ...</td>\n",
              "    </tr>\n",
              "    <tr>\n",
              "      <th>494</th>\n",
              "      <td>Exhibit 10.2  CERTAIN INFORMATION (INDICATED B...</td>\n",
              "    </tr>\n",
              "    <tr>\n",
              "      <th>495</th>\n",
              "      <td>Exhibit 10.17(b)                              ...</td>\n",
              "    </tr>\n",
              "    <tr>\n",
              "      <th>496</th>\n",
              "      <td>Exhibit 10.1 MANUFACTURING, DESIGN AND MARKETI...</td>\n",
              "    </tr>\n",
              "    <tr>\n",
              "      <th>497</th>\n",
              "      <td>Exhibit 10.10   Road Transportation Agreement ...</td>\n",
              "    </tr>\n",
              "  </tbody>\n",
              "</table>\n",
              "<p>498 rows × 1 columns</p>\n",
              "</div><br><label><b>dtype:</b> object</label>"
            ]
          },
          "metadata": {},
          "execution_count": 16
        }
      ]
    },
    {
      "cell_type": "code",
      "source": [
        "X_vectorized = vectorizer.fit_transform(X)"
      ],
      "metadata": {
        "id": "j6i7t3CwMXZP"
      },
      "execution_count": 17,
      "outputs": []
    },
    {
      "cell_type": "code",
      "source": [
        "y = corpus[\"Third Party Beneficiary\"]\n",
        "y"
      ],
      "metadata": {
        "colab": {
          "base_uri": "https://localhost:8080/",
          "height": 458
        },
        "id": "y55hCCWrLjvc",
        "outputId": "42870ed0-528f-4475-f704-473afe93ce55"
      },
      "execution_count": 18,
      "outputs": [
        {
          "output_type": "execute_result",
          "data": {
            "text/plain": [
              "0      0\n",
              "1      0\n",
              "2      0\n",
              "3      0\n",
              "4      0\n",
              "      ..\n",
              "493    0\n",
              "494    0\n",
              "495    0\n",
              "496    0\n",
              "497    0\n",
              "Name: Third Party Beneficiary, Length: 498, dtype: int64"
            ],
            "text/html": [
              "<div>\n",
              "<style scoped>\n",
              "    .dataframe tbody tr th:only-of-type {\n",
              "        vertical-align: middle;\n",
              "    }\n",
              "\n",
              "    .dataframe tbody tr th {\n",
              "        vertical-align: top;\n",
              "    }\n",
              "\n",
              "    .dataframe thead th {\n",
              "        text-align: right;\n",
              "    }\n",
              "</style>\n",
              "<table border=\"1\" class=\"dataframe\">\n",
              "  <thead>\n",
              "    <tr style=\"text-align: right;\">\n",
              "      <th></th>\n",
              "      <th>Third Party Beneficiary</th>\n",
              "    </tr>\n",
              "  </thead>\n",
              "  <tbody>\n",
              "    <tr>\n",
              "      <th>0</th>\n",
              "      <td>0</td>\n",
              "    </tr>\n",
              "    <tr>\n",
              "      <th>1</th>\n",
              "      <td>0</td>\n",
              "    </tr>\n",
              "    <tr>\n",
              "      <th>2</th>\n",
              "      <td>0</td>\n",
              "    </tr>\n",
              "    <tr>\n",
              "      <th>3</th>\n",
              "      <td>0</td>\n",
              "    </tr>\n",
              "    <tr>\n",
              "      <th>4</th>\n",
              "      <td>0</td>\n",
              "    </tr>\n",
              "    <tr>\n",
              "      <th>...</th>\n",
              "      <td>...</td>\n",
              "    </tr>\n",
              "    <tr>\n",
              "      <th>493</th>\n",
              "      <td>0</td>\n",
              "    </tr>\n",
              "    <tr>\n",
              "      <th>494</th>\n",
              "      <td>0</td>\n",
              "    </tr>\n",
              "    <tr>\n",
              "      <th>495</th>\n",
              "      <td>0</td>\n",
              "    </tr>\n",
              "    <tr>\n",
              "      <th>496</th>\n",
              "      <td>0</td>\n",
              "    </tr>\n",
              "    <tr>\n",
              "      <th>497</th>\n",
              "      <td>0</td>\n",
              "    </tr>\n",
              "  </tbody>\n",
              "</table>\n",
              "<p>498 rows × 1 columns</p>\n",
              "</div><br><label><b>dtype:</b> int64</label>"
            ]
          },
          "metadata": {},
          "execution_count": 18
        }
      ]
    },
    {
      "cell_type": "code",
      "source": [
        "classifier = MultinomialNB()\n",
        "classifier.fit(X_vectorized, y)"
      ],
      "metadata": {
        "colab": {
          "base_uri": "https://localhost:8080/",
          "height": 74
        },
        "id": "ihp_YpQjL0VF",
        "outputId": "5062addb-3a5e-454a-e80e-322de7a81e3c"
      },
      "execution_count": 19,
      "outputs": [
        {
          "output_type": "execute_result",
          "data": {
            "text/plain": [
              "MultinomialNB()"
            ],
            "text/html": [
              "<style>#sk-container-id-1 {color: black;}#sk-container-id-1 pre{padding: 0;}#sk-container-id-1 div.sk-toggleable {background-color: white;}#sk-container-id-1 label.sk-toggleable__label {cursor: pointer;display: block;width: 100%;margin-bottom: 0;padding: 0.3em;box-sizing: border-box;text-align: center;}#sk-container-id-1 label.sk-toggleable__label-arrow:before {content: \"▸\";float: left;margin-right: 0.25em;color: #696969;}#sk-container-id-1 label.sk-toggleable__label-arrow:hover:before {color: black;}#sk-container-id-1 div.sk-estimator:hover label.sk-toggleable__label-arrow:before {color: black;}#sk-container-id-1 div.sk-toggleable__content {max-height: 0;max-width: 0;overflow: hidden;text-align: left;background-color: #f0f8ff;}#sk-container-id-1 div.sk-toggleable__content pre {margin: 0.2em;color: black;border-radius: 0.25em;background-color: #f0f8ff;}#sk-container-id-1 input.sk-toggleable__control:checked~div.sk-toggleable__content {max-height: 200px;max-width: 100%;overflow: auto;}#sk-container-id-1 input.sk-toggleable__control:checked~label.sk-toggleable__label-arrow:before {content: \"▾\";}#sk-container-id-1 div.sk-estimator input.sk-toggleable__control:checked~label.sk-toggleable__label {background-color: #d4ebff;}#sk-container-id-1 div.sk-label input.sk-toggleable__control:checked~label.sk-toggleable__label {background-color: #d4ebff;}#sk-container-id-1 input.sk-hidden--visually {border: 0;clip: rect(1px 1px 1px 1px);clip: rect(1px, 1px, 1px, 1px);height: 1px;margin: -1px;overflow: hidden;padding: 0;position: absolute;width: 1px;}#sk-container-id-1 div.sk-estimator {font-family: monospace;background-color: #f0f8ff;border: 1px dotted black;border-radius: 0.25em;box-sizing: border-box;margin-bottom: 0.5em;}#sk-container-id-1 div.sk-estimator:hover {background-color: #d4ebff;}#sk-container-id-1 div.sk-parallel-item::after {content: \"\";width: 100%;border-bottom: 1px solid gray;flex-grow: 1;}#sk-container-id-1 div.sk-label:hover label.sk-toggleable__label {background-color: #d4ebff;}#sk-container-id-1 div.sk-serial::before {content: \"\";position: absolute;border-left: 1px solid gray;box-sizing: border-box;top: 0;bottom: 0;left: 50%;z-index: 0;}#sk-container-id-1 div.sk-serial {display: flex;flex-direction: column;align-items: center;background-color: white;padding-right: 0.2em;padding-left: 0.2em;position: relative;}#sk-container-id-1 div.sk-item {position: relative;z-index: 1;}#sk-container-id-1 div.sk-parallel {display: flex;align-items: stretch;justify-content: center;background-color: white;position: relative;}#sk-container-id-1 div.sk-item::before, #sk-container-id-1 div.sk-parallel-item::before {content: \"\";position: absolute;border-left: 1px solid gray;box-sizing: border-box;top: 0;bottom: 0;left: 50%;z-index: -1;}#sk-container-id-1 div.sk-parallel-item {display: flex;flex-direction: column;z-index: 1;position: relative;background-color: white;}#sk-container-id-1 div.sk-parallel-item:first-child::after {align-self: flex-end;width: 50%;}#sk-container-id-1 div.sk-parallel-item:last-child::after {align-self: flex-start;width: 50%;}#sk-container-id-1 div.sk-parallel-item:only-child::after {width: 0;}#sk-container-id-1 div.sk-dashed-wrapped {border: 1px dashed gray;margin: 0 0.4em 0.5em 0.4em;box-sizing: border-box;padding-bottom: 0.4em;background-color: white;}#sk-container-id-1 div.sk-label label {font-family: monospace;font-weight: bold;display: inline-block;line-height: 1.2em;}#sk-container-id-1 div.sk-label-container {text-align: center;}#sk-container-id-1 div.sk-container {/* jupyter's `normalize.less` sets `[hidden] { display: none; }` but bootstrap.min.css set `[hidden] { display: none !important; }` so we also need the `!important` here to be able to override the default hidden behavior on the sphinx rendered scikit-learn.org. See: https://github.com/scikit-learn/scikit-learn/issues/21755 */display: inline-block !important;position: relative;}#sk-container-id-1 div.sk-text-repr-fallback {display: none;}</style><div id=\"sk-container-id-1\" class=\"sk-top-container\"><div class=\"sk-text-repr-fallback\"><pre>MultinomialNB()</pre><b>In a Jupyter environment, please rerun this cell to show the HTML representation or trust the notebook. <br />On GitHub, the HTML representation is unable to render, please try loading this page with nbviewer.org.</b></div><div class=\"sk-container\" hidden><div class=\"sk-item\"><div class=\"sk-estimator sk-toggleable\"><input class=\"sk-toggleable__control sk-hidden--visually\" id=\"sk-estimator-id-1\" type=\"checkbox\" checked><label for=\"sk-estimator-id-1\" class=\"sk-toggleable__label sk-toggleable__label-arrow\">MultinomialNB</label><div class=\"sk-toggleable__content\"><pre>MultinomialNB()</pre></div></div></div></div></div>"
            ]
          },
          "metadata": {},
          "execution_count": 19
        }
      ]
    },
    {
      "cell_type": "code",
      "source": [
        "classifier.predict(X_vectorized)"
      ],
      "metadata": {
        "colab": {
          "base_uri": "https://localhost:8080/"
        },
        "id": "uekMeeZhL2uC",
        "outputId": "423b748d-ca7c-406f-ea4e-8e089cf6da63"
      },
      "execution_count": 20,
      "outputs": [
        {
          "output_type": "execute_result",
          "data": {
            "text/plain": [
              "array([0, 0, 0, 0, 0, 0, 0, 0, 0, 0, 0, 0, 0, 0, 1, 0, 0, 0, 0, 0, 0, 0,\n",
              "       0, 0, 0, 0, 0, 0, 0, 0, 0, 0, 0, 0, 0, 0, 1, 0, 0, 0, 1, 0, 0, 0,\n",
              "       0, 0, 0, 0, 0, 0, 0, 0, 0, 0, 0, 1, 0, 0, 0, 0, 0, 0, 0, 0, 0, 0,\n",
              "       0, 0, 0, 1, 0, 0, 0, 0, 0, 0, 0, 0, 1, 0, 0, 1, 1, 1, 1, 0, 0, 0,\n",
              "       0, 0, 0, 1, 0, 0, 0, 0, 0, 0, 0, 0, 0, 0, 0, 0, 0, 0, 0, 0, 1, 0,\n",
              "       0, 0, 0, 0, 0, 0, 0, 0, 0, 0, 0, 1, 0, 0, 0, 0, 0, 0, 1, 0, 0, 1,\n",
              "       0, 0, 0, 0, 0, 0, 0, 0, 0, 0, 0, 0, 0, 0, 0, 0, 0, 0, 0, 0, 1, 0,\n",
              "       0, 0, 0, 0, 0, 0, 0, 0, 0, 0, 0, 0, 0, 0, 0, 0, 0, 0, 0, 0, 0, 0,\n",
              "       1, 0, 0, 0, 0, 0, 0, 1, 1, 0, 0, 0, 1, 0, 0, 0, 0, 0, 0, 0, 0, 0,\n",
              "       0, 0, 0, 1, 0, 0, 1, 0, 0, 0, 0, 0, 0, 1, 0, 0, 0, 0, 0, 0, 0, 0,\n",
              "       0, 0, 0, 0, 0, 0, 1, 0, 0, 0, 0, 1, 0, 0, 0, 1, 0, 0, 0, 0, 0, 0,\n",
              "       0, 0, 0, 0, 0, 0, 0, 0, 0, 0, 0, 0, 0, 0, 0, 0, 1, 0, 0, 0, 0, 0,\n",
              "       1, 1, 0, 0, 0, 0, 0, 0, 0, 0, 0, 0, 0, 0, 0, 0, 1, 1, 0, 0, 1, 0,\n",
              "       0, 0, 0, 0, 0, 0, 0, 0, 0, 0, 0, 0, 0, 0, 1, 0, 0, 0, 0, 1, 0, 0,\n",
              "       0, 0, 0, 0, 1, 0, 0, 0, 0, 0, 0, 0, 1, 0, 0, 0, 1, 0, 0, 0, 0, 0,\n",
              "       0, 0, 0, 0, 0, 0, 0, 0, 1, 1, 0, 0, 0, 0, 0, 0, 0, 0, 1, 0, 0, 0,\n",
              "       0, 0, 0, 1, 0, 0, 0, 1, 0, 0, 0, 0, 0, 0, 0, 0, 0, 0, 0, 0, 0, 0,\n",
              "       0, 0, 1, 0, 0, 0, 0, 0, 0, 0, 0, 0, 0, 0, 0, 0, 0, 0, 0, 0, 0, 0,\n",
              "       0, 0, 0, 1, 1, 1, 1, 0, 1, 0, 0, 0, 0, 0, 0, 0, 0, 0, 0, 0, 1, 1,\n",
              "       0, 1, 0, 0, 0, 0, 0, 0, 0, 0, 0, 1, 0, 0, 0, 0, 0, 0, 0, 0, 0, 0,\n",
              "       0, 0, 0, 0, 0, 0, 0, 0, 0, 0, 0, 0, 0, 0, 0, 1, 0, 0, 0, 0, 0, 1,\n",
              "       0, 0, 0, 0, 0, 0, 0, 0, 0, 0, 0, 0, 0, 0, 0, 0, 0, 0, 0, 0, 0, 0,\n",
              "       0, 0, 0, 0, 0, 0, 0, 0, 0, 0, 0, 0, 0, 0])"
            ]
          },
          "metadata": {},
          "execution_count": 20
        }
      ]
    },
    {
      "cell_type": "markdown",
      "source": [
        "# Lab Session 2: Evaluating our Contract Analyzer"
      ],
      "metadata": {
        "id": "P5757z77M_AK"
      }
    },
    {
      "cell_type": "markdown",
      "source": [
        "## Pre-Process the Data"
      ],
      "metadata": {
        "id": "obvi11-0NTJB"
      }
    },
    {
      "cell_type": "code",
      "execution_count": 21,
      "metadata": {
        "id": "NQi3LWINfJxE"
      },
      "outputs": [],
      "source": [
        "X_train, X_test, y_train, y_test = train_test_split(X, y, test_size=0.3, random_state = 1)"
      ]
    },
    {
      "cell_type": "markdown",
      "metadata": {
        "id": "9Az8gpklfJxF"
      },
      "source": [
        "*Using* our vectorizer to convert the text to a numeric representation"
      ]
    },
    {
      "cell_type": "code",
      "execution_count": 22,
      "metadata": {
        "id": "GDuKrOM3fJxG"
      },
      "outputs": [],
      "source": [
        "X_train_vectorized = vectorizer.fit_transform(X_train)\n",
        "X_test_vectorized = vectorizer.transform(X_test)"
      ]
    },
    {
      "cell_type": "markdown",
      "metadata": {
        "id": "Xvtv9919fJxH"
      },
      "source": [
        "## Train the model"
      ]
    },
    {
      "cell_type": "code",
      "execution_count": 23,
      "metadata": {
        "id": "hXrE4jJRfJxI",
        "colab": {
          "base_uri": "https://localhost:8080/",
          "height": 74
        },
        "outputId": "9296cc53-55ed-4f84-dc02-3cf18f974536"
      },
      "outputs": [
        {
          "output_type": "execute_result",
          "data": {
            "text/plain": [
              "MultinomialNB()"
            ],
            "text/html": [
              "<style>#sk-container-id-2 {color: black;}#sk-container-id-2 pre{padding: 0;}#sk-container-id-2 div.sk-toggleable {background-color: white;}#sk-container-id-2 label.sk-toggleable__label {cursor: pointer;display: block;width: 100%;margin-bottom: 0;padding: 0.3em;box-sizing: border-box;text-align: center;}#sk-container-id-2 label.sk-toggleable__label-arrow:before {content: \"▸\";float: left;margin-right: 0.25em;color: #696969;}#sk-container-id-2 label.sk-toggleable__label-arrow:hover:before {color: black;}#sk-container-id-2 div.sk-estimator:hover label.sk-toggleable__label-arrow:before {color: black;}#sk-container-id-2 div.sk-toggleable__content {max-height: 0;max-width: 0;overflow: hidden;text-align: left;background-color: #f0f8ff;}#sk-container-id-2 div.sk-toggleable__content pre {margin: 0.2em;color: black;border-radius: 0.25em;background-color: #f0f8ff;}#sk-container-id-2 input.sk-toggleable__control:checked~div.sk-toggleable__content {max-height: 200px;max-width: 100%;overflow: auto;}#sk-container-id-2 input.sk-toggleable__control:checked~label.sk-toggleable__label-arrow:before {content: \"▾\";}#sk-container-id-2 div.sk-estimator input.sk-toggleable__control:checked~label.sk-toggleable__label {background-color: #d4ebff;}#sk-container-id-2 div.sk-label input.sk-toggleable__control:checked~label.sk-toggleable__label {background-color: #d4ebff;}#sk-container-id-2 input.sk-hidden--visually {border: 0;clip: rect(1px 1px 1px 1px);clip: rect(1px, 1px, 1px, 1px);height: 1px;margin: -1px;overflow: hidden;padding: 0;position: absolute;width: 1px;}#sk-container-id-2 div.sk-estimator {font-family: monospace;background-color: #f0f8ff;border: 1px dotted black;border-radius: 0.25em;box-sizing: border-box;margin-bottom: 0.5em;}#sk-container-id-2 div.sk-estimator:hover {background-color: #d4ebff;}#sk-container-id-2 div.sk-parallel-item::after {content: \"\";width: 100%;border-bottom: 1px solid gray;flex-grow: 1;}#sk-container-id-2 div.sk-label:hover label.sk-toggleable__label {background-color: #d4ebff;}#sk-container-id-2 div.sk-serial::before {content: \"\";position: absolute;border-left: 1px solid gray;box-sizing: border-box;top: 0;bottom: 0;left: 50%;z-index: 0;}#sk-container-id-2 div.sk-serial {display: flex;flex-direction: column;align-items: center;background-color: white;padding-right: 0.2em;padding-left: 0.2em;position: relative;}#sk-container-id-2 div.sk-item {position: relative;z-index: 1;}#sk-container-id-2 div.sk-parallel {display: flex;align-items: stretch;justify-content: center;background-color: white;position: relative;}#sk-container-id-2 div.sk-item::before, #sk-container-id-2 div.sk-parallel-item::before {content: \"\";position: absolute;border-left: 1px solid gray;box-sizing: border-box;top: 0;bottom: 0;left: 50%;z-index: -1;}#sk-container-id-2 div.sk-parallel-item {display: flex;flex-direction: column;z-index: 1;position: relative;background-color: white;}#sk-container-id-2 div.sk-parallel-item:first-child::after {align-self: flex-end;width: 50%;}#sk-container-id-2 div.sk-parallel-item:last-child::after {align-self: flex-start;width: 50%;}#sk-container-id-2 div.sk-parallel-item:only-child::after {width: 0;}#sk-container-id-2 div.sk-dashed-wrapped {border: 1px dashed gray;margin: 0 0.4em 0.5em 0.4em;box-sizing: border-box;padding-bottom: 0.4em;background-color: white;}#sk-container-id-2 div.sk-label label {font-family: monospace;font-weight: bold;display: inline-block;line-height: 1.2em;}#sk-container-id-2 div.sk-label-container {text-align: center;}#sk-container-id-2 div.sk-container {/* jupyter's `normalize.less` sets `[hidden] { display: none; }` but bootstrap.min.css set `[hidden] { display: none !important; }` so we also need the `!important` here to be able to override the default hidden behavior on the sphinx rendered scikit-learn.org. See: https://github.com/scikit-learn/scikit-learn/issues/21755 */display: inline-block !important;position: relative;}#sk-container-id-2 div.sk-text-repr-fallback {display: none;}</style><div id=\"sk-container-id-2\" class=\"sk-top-container\"><div class=\"sk-text-repr-fallback\"><pre>MultinomialNB()</pre><b>In a Jupyter environment, please rerun this cell to show the HTML representation or trust the notebook. <br />On GitHub, the HTML representation is unable to render, please try loading this page with nbviewer.org.</b></div><div class=\"sk-container\" hidden><div class=\"sk-item\"><div class=\"sk-estimator sk-toggleable\"><input class=\"sk-toggleable__control sk-hidden--visually\" id=\"sk-estimator-id-2\" type=\"checkbox\" checked><label for=\"sk-estimator-id-2\" class=\"sk-toggleable__label sk-toggleable__label-arrow\">MultinomialNB</label><div class=\"sk-toggleable__content\"><pre>MultinomialNB()</pre></div></div></div></div></div>"
            ]
          },
          "metadata": {},
          "execution_count": 23
        }
      ],
      "source": [
        "classifier = MultinomialNB()\n",
        "classifier.fit(X_train_vectorized, y_train)"
      ]
    },
    {
      "cell_type": "markdown",
      "metadata": {
        "id": "4shx7DMafJxJ"
      },
      "source": [
        "## Evaluate Predictions"
      ]
    },
    {
      "cell_type": "code",
      "execution_count": 24,
      "metadata": {
        "id": "B3tjr-l3fJxK",
        "colab": {
          "base_uri": "https://localhost:8080/"
        },
        "outputId": "d4486007-9f85-4285-ba73-0e7a45035e28"
      },
      "outputs": [
        {
          "output_type": "execute_result",
          "data": {
            "text/plain": [
              "0.9266666666666666"
            ]
          },
          "metadata": {},
          "execution_count": 24
        }
      ],
      "source": [
        "predictions = classifier.predict(X_test_vectorized)\n",
        "accuracy_score(y_test, predictions)"
      ]
    }
  ],
  "metadata": {
    "colab": {
      "provenance": [],
      "include_colab_link": true
    },
    "kernelspec": {
      "display_name": "venv",
      "language": "python",
      "name": "python3"
    },
    "language_info": {
      "codemirror_mode": {
        "name": "ipython",
        "version": 3
      },
      "file_extension": ".py",
      "mimetype": "text/x-python",
      "name": "python",
      "nbconvert_exporter": "python",
      "pygments_lexer": "ipython3",
      "version": "3.9.10"
    },
    "vscode": {
      "interpreter": {
        "hash": "9cfc3c7994f631dfc6a65b56363e87144dd9fa5c38ebff28a3247fb8dab8888e"
      }
    }
  },
  "nbformat": 4,
  "nbformat_minor": 0
}