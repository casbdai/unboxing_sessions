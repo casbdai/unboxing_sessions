{
  "cells": [
    {
      "cell_type": "markdown",
      "metadata": {
        "id": "3LnLggENF54E"
      },
      "source": [
        "# CO2-Prediction in Real Estate"
      ]
    },
    {
      "cell_type": "markdown",
      "metadata": {
        "id": "O2mFGMcVF54H"
      },
      "source": [
        "## Initial Setup"
      ]
    },
    {
      "cell_type": "code",
      "execution_count": null,
      "metadata": {
        "id": "21wmh3ohF54I"
      },
      "outputs": [],
      "source": [
        "# Importing the required algorithms and software libraries\n",
        "import pandas as pd\n",
        "import matplotlib.pyplot as plt\n",
        "import seaborn as sns\n",
        "import numpy as np\n",
        "from sklearn.model_selection import train_test_split\n",
        "from sklearn.tree import DecisionTreeRegressor, plot_tree\n",
        "from sklearn.ensemble import RandomForestRegressor\n",
        "from sklearn.metrics import mean_squared_error, mean_absolute_percentage_error\n",
        "from keras.models import Sequential\n",
        "from keras.layers import Dense\n",
        "from keras.optimizers import Adam"
      ]
    },
    {
      "cell_type": "code",
      "execution_count": null,
      "metadata": {
        "id": "oIfut8jXF54K"
      },
      "outputs": [],
      "source": [
        "# Loading the data\n",
        "df = pd.read_csv(\"https://raw.githubusercontent.com/casbdai/datasets/refs/heads/main/co2_data_eng.csv\")"
      ]
    },
    {
      "cell_type": "markdown",
      "metadata": {
        "id": "XwPTFSLuF54K"
      },
      "source": [
        "## Data Exploration"
      ]
    },
    {
      "cell_type": "code",
      "execution_count": null,
      "metadata": {
        "id": "UC40xVZdF54K"
      },
      "outputs": [],
      "source": [
        "df.head()"
      ]
    },
    {
      "cell_type": "code",
      "execution_count": null,
      "metadata": {
        "id": "cN8pEGOuF54L"
      },
      "outputs": [],
      "source": [
        "df.info()"
      ]
    },
    {
      "cell_type": "markdown",
      "metadata": {
        "id": "P3sD0RK_F54P"
      },
      "source": [
        "## Lab Session 1: Training a decision tree"
      ]
    },
    {
      "cell_type": "code",
      "execution_count": null,
      "metadata": {
        "id": "9V9mmTtiF54P"
      },
      "outputs": [],
      "source": [
        "# Defining the \"outcome\" and the \"features\"\n",
        "X = df.drop('CO2', axis=1)\n",
        "y = df['CO2']"
      ]
    },
    {
      "cell_type": "code",
      "source": [
        "X"
      ],
      "metadata": {
        "id": "NhQoQKENCbdG"
      },
      "execution_count": null,
      "outputs": []
    },
    {
      "cell_type": "code",
      "source": [
        "y"
      ],
      "metadata": {
        "id": "StkRrSChCeGO"
      },
      "execution_count": null,
      "outputs": []
    },
    {
      "cell_type": "code",
      "execution_count": null,
      "metadata": {
        "id": "nwpMX_r_F54P"
      },
      "outputs": [],
      "source": [
        "# Initialialising and training the decision tree\n",
        "tree = DecisionTreeRegressor(max_depth=2)\n",
        "tree.fit(X, y)"
      ]
    },
    {
      "cell_type": "code",
      "execution_count": null,
      "metadata": {
        "id": "zeSiJMBWF54P"
      },
      "outputs": [],
      "source": [
        "# Plotting the model\n",
        "plt.figure(figsize=(12, 8))\n",
        "plot_tree(tree, feature_names=X.columns, filled=True)\n",
        "plt.show()"
      ]
    },
    {
      "cell_type": "code",
      "execution_count": null,
      "metadata": {
        "id": "KP5D7cQEF54P"
      },
      "outputs": [],
      "source": [
        "tree.predict(X)"
      ]
    },
    {
      "cell_type": "markdown",
      "metadata": {
        "id": "M_Su0YhbF54P"
      },
      "source": [
        "### Let's play a little with hyperparameters\n",
        "\n",
        "Hyperparameters to be varied:\n",
        "\n",
        "- **max_depth:** Allowed number of maximum splits\n",
        "- **min_samples_leaf:** The minimum number of customers that must be present in a leaf node."
      ]
    },
    {
      "cell_type": "code",
      "execution_count": null,
      "metadata": {
        "id": "A-mOgteEF54P"
      },
      "outputs": [],
      "source": [
        "# Adapting Hyperparameters\n",
        "tree = DecisionTreeRegressor(max_depth=___, min_samples_leaf=___) #replace \"___\" with a number\n",
        "tree.fit(X, y)"
      ]
    },
    {
      "cell_type": "code",
      "execution_count": null,
      "metadata": {
        "id": "iFQ6SAK3F54Q"
      },
      "outputs": [],
      "source": [
        "# Plotting the model\n",
        "plt.figure(figsize=(20, 15))\n",
        "plot_tree(tree, feature_names=X.columns, filled=True)\n",
        "plt.show()"
      ]
    },
    {
      "cell_type": "markdown",
      "metadata": {
        "id": "AOefusjfF54Q"
      },
      "source": [
        "## Lab Session 2: Evaluating the \"accuracy\" of our prediction model\n",
        "To determine whether the predictions made are accurate, we need to split our data into testing and training data. We have already created two partial data sets in a previous step: y and X. These are now split into a testing and a training part."
      ]
    },
    {
      "cell_type": "code",
      "execution_count": null,
      "metadata": {
        "id": "Lc53_KH9F54Q"
      },
      "outputs": [],
      "source": [
        "# Split the data into training and test sets\n",
        "X_train, X_test, y_train, y_test = train_test_split(X, y, test_size=0.3, random_state=2)"
      ]
    },
    {
      "cell_type": "code",
      "execution_count": null,
      "metadata": {
        "id": "ZKsW34bNF54Q"
      },
      "outputs": [],
      "source": [
        "# Initialize and train the regressor on the training set\n",
        "regressor = DecisionTreeRegressor(max_depth=10, random_state=2)\n",
        "regressor.fit(X_train, y_train)\n",
        "\n",
        "# Predict on the test set\n",
        "y_pred = regressor.predict(X_test)\n",
        "\n",
        "# Calculate RMSE\n",
        "rmse = np.sqrt(mean_squared_error(y_test, y_pred))\n",
        "print(f\"Root Mean Squared Error: {rmse}\")\n",
        "\n",
        "# Calculate MAPE\n",
        "mape = mean_absolute_percentage_error(y_test, y_pred)\n",
        "print(f\"Mean Absolute Percentage Error: {mape}\")"
      ]
    },
    {
      "cell_type": "markdown",
      "source": [
        "## Lab Session 3: Training a Neural Network"
      ],
      "metadata": {
        "id": "-QPqFKQ0z2_2"
      }
    },
    {
      "cell_type": "code",
      "source": [
        "# Defining the Neural Network\n",
        "model = Sequential([\n",
        "    Dense(46, activation='relu', input_shape=(46,)),  # input layer with 46 nodes\n",
        "    Dense(32, activation='relu'),                     # hidden layer with 32 nodes\n",
        "    Dense(16, activation='relu'),                     # hideen layer with 16 nodes\n",
        "    Dense(1)                                          # output layer with 1 node\n",
        "])\n",
        "\n",
        "# Compile the model\n",
        "model.compile(optimizer=Adam(learning_rate=0.001), loss='mean_squared_error')"
      ],
      "metadata": {
        "id": "J9VZfjcn0B2Q"
      },
      "execution_count": null,
      "outputs": []
    },
    {
      "cell_type": "code",
      "source": [
        "# Train the model\n",
        "model.fit(X_train, y_train, epochs=10, batch_size=16, validation_split=0.2)"
      ],
      "metadata": {
        "id": "KUkLURkK0HX5"
      },
      "execution_count": null,
      "outputs": []
    },
    {
      "cell_type": "code",
      "source": [
        "y_pred =model.predict(X_test)\n",
        "\n",
        "# Calculate RMSE\n",
        "rmse = np.sqrt(mean_squared_error(y_test, y_pred))\n",
        "print(f\"Root Mean Squared Error: {rmse}\")\n",
        "\n",
        "# Calculate MAPE\n",
        "mape = mean_absolute_percentage_error(y_test, y_pred)\n",
        "print(f\"Mean Absolute Percentage Error: {mape}\")"
      ],
      "metadata": {
        "id": "Ek8C8hxW0OJX"
      },
      "execution_count": null,
      "outputs": []
    }
  ],
  "metadata": {
    "kernelspec": {
      "display_name": "random-shit-4vF_N0_t-py3.11",
      "language": "python",
      "name": "python3"
    },
    "language_info": {
      "codemirror_mode": {
        "name": "ipython",
        "version": 3
      },
      "file_extension": ".py",
      "mimetype": "text/x-python",
      "name": "python",
      "nbconvert_exporter": "python",
      "pygments_lexer": "ipython3",
      "version": "3.11.7"
    },
    "colab": {
      "provenance": []
    }
  },
  "nbformat": 4,
  "nbformat_minor": 0
}