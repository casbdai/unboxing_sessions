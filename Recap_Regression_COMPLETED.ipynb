{
  "cells": [
    {
      "cell_type": "markdown",
      "metadata": {
        "id": "rd7-GCABt8QU"
      },
      "source": [
        "# Hands On - Predicting The Quality Of Wine - Regression RECAP SESSION (COMPLETED)"
      ]
    },
    {
      "cell_type": "markdown",
      "metadata": {
        "id": "94kjRIcJoy53"
      },
      "source": [
        "# Import & Prepare Data"
      ]
    },
    {
      "cell_type": "code",
      "execution_count": null,
      "metadata": {
        "id": "e3rakrkKpE0m"
      },
      "outputs": [],
      "source": [
        "import pandas as pd\n",
        "wine = pd.read_csv(\"https://raw.githubusercontent.com/casbdai/datasets/main/wine_regression.csv\")"
      ]
    },
    {
      "cell_type": "markdown",
      "metadata": {
        "id": "DAq-97X0uFx2"
      },
      "source": [
        "\n",
        "\n",
        "*   Investigate the structure of the data.\n",
        "*   Delete missing or unnecessary values if required\n",
        "*   Separate features from label (price) in X and y\n"
      ]
    },
    {
      "cell_type": "code",
      "execution_count": null,
      "metadata": {
        "id": "XISUYIOKxbCr"
      },
      "outputs": [],
      "source": [
        "wine.info()"
      ]
    },
    {
      "cell_type": "code",
      "source": [
        "wine.head()"
      ],
      "metadata": {
        "id": "CatyLxg99QKe"
      },
      "execution_count": null,
      "outputs": []
    },
    {
      "cell_type": "markdown",
      "metadata": {
        "id": "t1Jpkkcrulbp"
      },
      "source": [
        "Vintage and age carry the same information. Age is only a mathematical transformation of the vintage year.\n",
        "\n",
        "Taking 2021 as \"reference year\": 2021 - 1952 = 69\n",
        "\n",
        "Thus, we delete the variable \"vintage\":"
      ]
    },
    {
      "cell_type": "code",
      "execution_count": null,
      "metadata": {
        "id": "oHWHGAZIR9p5"
      },
      "outputs": [],
      "source": [
        "wine = wine.drop(\"vintage\", axis = 1)\n",
        "wine.head()"
      ]
    },
    {
      "cell_type": "markdown",
      "metadata": {
        "id": "0pVQSDSXusfb"
      },
      "source": [
        "Separate Features and Target"
      ]
    },
    {
      "cell_type": "code",
      "execution_count": null,
      "metadata": {
        "id": "t9oYgCg2uva5"
      },
      "outputs": [],
      "source": [
        "X = wine.drop(\"price\", axis = 1)\n",
        "y = wine[\"price\"]"
      ]
    },
    {
      "cell_type": "markdown",
      "metadata": {
        "id": "_QtZ2WLybmGX"
      },
      "source": [
        "# Train and a Decision Tree\n"
      ]
    },
    {
      "cell_type": "markdown",
      "metadata": {
        "id": "cQfA34KbcZTf"
      },
      "source": [
        "## 1) Import Model Function"
      ]
    },
    {
      "cell_type": "code",
      "execution_count": null,
      "metadata": {
        "id": "ZlGzuIPxgbks"
      },
      "outputs": [],
      "source": [
        "from sklearn.tree import DecisionTreeRegressor\n",
        "from sklearn.model_selection import train_test_split\n",
        "from sklearn.metrics import root_mean_squared_error, mean_absolute_percentage_error"
      ]
    },
    {
      "cell_type": "markdown",
      "metadata": {
        "id": "WSFI5ktSgnW9"
      },
      "source": [
        "## 2) Instantiate Model"
      ]
    },
    {
      "cell_type": "code",
      "execution_count": null,
      "metadata": {
        "id": "Q7IUHqZvbvDL"
      },
      "outputs": [],
      "source": [
        "tree = DecisionTreeRegressor(random_state=1)"
      ]
    },
    {
      "cell_type": "markdown",
      "metadata": {
        "id": "eVwgo8y0sO_4"
      },
      "source": [
        "## 3) Create Test & Training Data\n"
      ]
    },
    {
      "cell_type": "code",
      "execution_count": null,
      "metadata": {
        "id": "UPhsoSfyr9Ir"
      },
      "outputs": [],
      "source": [
        "X_train, X_test, y_train, y_test = train_test_split(X, y, test_size=0.12, shuffle=False, random_state=1)"
      ]
    },
    {
      "cell_type": "markdown",
      "metadata": {
        "id": "ZZf8IiTJuzyT"
      },
      "source": [
        "## 4) Fit Model to Training Data\n"
      ]
    },
    {
      "cell_type": "code",
      "execution_count": null,
      "metadata": {
        "id": "Hxf43GnPzp9b"
      },
      "outputs": [],
      "source": [
        "tree.fit(X_train, y_train)"
      ]
    },
    {
      "cell_type": "markdown",
      "metadata": {
        "id": "kFU4TkO5tmxI"
      },
      "source": [
        "## 5) Make Predictions on Testing Data\n"
      ]
    },
    {
      "cell_type": "code",
      "execution_count": null,
      "metadata": {
        "id": "hfEvzjmYtmNC"
      },
      "outputs": [],
      "source": [
        "y_pred = tree.predict(X_test)"
      ]
    },
    {
      "cell_type": "markdown",
      "metadata": {
        "id": "UoleGJwBmwmB"
      },
      "source": [
        "## 6) Evaluate Performance"
      ]
    },
    {
      "cell_type": "markdown",
      "metadata": {
        "id": "-hiOPyIzw85k"
      },
      "source": [
        "\n",
        "\n",
        "*   Print RMSE and MAE as error measures\n",
        "\n",
        "---\n",
        "\n",
        "\n",
        "\n"
      ]
    },
    {
      "cell_type": "code",
      "execution_count": null,
      "metadata": {
        "id": "ZTbZiIQkmwOX"
      },
      "outputs": [],
      "source": [
        "root_mean_squared_error(y_test, y_pred)"
      ]
    },
    {
      "cell_type": "code",
      "source": [
        "mean_absolute_percentage_error(y_test, y_pred)"
      ],
      "metadata": {
        "id": "gYxWaCRJ-3ZU"
      },
      "execution_count": null,
      "outputs": []
    },
    {
      "cell_type": "markdown",
      "metadata": {
        "id": "3FSZ-T9Jwv40"
      },
      "source": [
        "Is it good model? Why? Why Not?"
      ]
    },
    {
      "cell_type": "markdown",
      "metadata": {
        "id": "rfxfqx4syOaB"
      },
      "source": [
        "**Answer:**____"
      ]
    },
    {
      "cell_type": "markdown",
      "source": [
        "## 7) Plot Tree"
      ],
      "metadata": {
        "id": "0mp5C2Rj_Tn0"
      }
    },
    {
      "cell_type": "code",
      "source": [
        "def plot_tree_regression(treemodel, X_train):\n",
        "    from sklearn import tree\n",
        "    import matplotlib.pyplot as plt\n",
        "    fig = plt.figure(figsize=(60,20))\n",
        "    _ = tree.plot_tree(treemodel, feature_names=X_train.columns, filled=True, precision=2)"
      ],
      "metadata": {
        "id": "M7bLqlBp_Ptn"
      },
      "execution_count": null,
      "outputs": []
    },
    {
      "cell_type": "code",
      "source": [
        "plot_tree_regression(tree, X_train)"
      ],
      "metadata": {
        "id": "NomHV_0c_b_b"
      },
      "execution_count": null,
      "outputs": []
    },
    {
      "cell_type": "markdown",
      "metadata": {
        "id": "H50r8jaQrmJv"
      },
      "source": [
        "# Build a better model - Apply a Random Forest"
      ]
    },
    {
      "cell_type": "markdown",
      "metadata": {
        "id": "lIc21l16jpww"
      },
      "source": [
        "## 1) Import Model Function"
      ]
    },
    {
      "cell_type": "code",
      "execution_count": null,
      "metadata": {
        "id": "aMKNT981rtp2"
      },
      "outputs": [],
      "source": [
        "from sklearn.ensemble import RandomForestRegressor\n",
        "from sklearn.model_selection import train_test_split\n",
        "from sklearn.metrics import classification_report"
      ]
    },
    {
      "cell_type": "markdown",
      "metadata": {
        "id": "FrfQxOKPx29k"
      },
      "source": [
        "## 2) Instantiate Model\n",
        "\n",
        "Build a random forest with 500 Trees"
      ]
    },
    {
      "cell_type": "code",
      "execution_count": null,
      "metadata": {
        "id": "yEpR_vZzx4es"
      },
      "outputs": [],
      "source": [
        "forest = RandomForestRegressor(n_estimators=500, random_state=1)"
      ]
    },
    {
      "cell_type": "markdown",
      "metadata": {
        "id": "rRnzsB4zyHqs"
      },
      "source": [
        "## 3) Create Test & Training Data"
      ]
    },
    {
      "cell_type": "markdown",
      "source": [
        "To compare the performance between models, make sure to use the identical split (same parameters like `test_size` and `random_state`). Instead of creating a new split, you could alternatively just use the train/test data from above."
      ],
      "metadata": {
        "id": "G-nbS0XsBRFx"
      }
    },
    {
      "cell_type": "code",
      "execution_count": null,
      "metadata": {
        "id": "Ab-dNUxQYU3A"
      },
      "outputs": [],
      "source": [
        "X_train, X_test, y_train, y_test = train_test_split(X, y, test_size=0.12, shuffle=False, random_state=1)"
      ]
    },
    {
      "cell_type": "markdown",
      "metadata": {
        "id": "C9YGJMs0juMf"
      },
      "source": [
        "## 3) Fit Model to Training Data (Using the Same Split as Above)"
      ]
    },
    {
      "cell_type": "code",
      "execution_count": null,
      "metadata": {
        "id": "o9k7Rd8fVTxl"
      },
      "outputs": [],
      "source": [
        "forest.fit(X_train, y_train)"
      ]
    },
    {
      "cell_type": "markdown",
      "metadata": {
        "id": "syXwseN9j2MX"
      },
      "source": [
        "## 5) Make Predictions on Testing Data"
      ]
    },
    {
      "cell_type": "code",
      "execution_count": null,
      "metadata": {
        "id": "3P4C-e80xL_Q"
      },
      "outputs": [],
      "source": [
        "y_pred = forest.predict(X_test)"
      ]
    },
    {
      "cell_type": "markdown",
      "metadata": {
        "id": "5z0tVIMcs7Uj"
      },
      "source": [
        "## 6) Evaluate Performance"
      ]
    },
    {
      "cell_type": "markdown",
      "source": [
        "*   Print RMSE and MAE as error measures\n"
      ],
      "metadata": {
        "id": "h6_G7E2JAI85"
      }
    },
    {
      "cell_type": "code",
      "execution_count": null,
      "metadata": {
        "id": "YIMWZxHVYYP5"
      },
      "outputs": [],
      "source": [
        "root_mean_squared_error(y_test, y_pred)"
      ]
    },
    {
      "cell_type": "code",
      "source": [
        "mean_absolute_percentage_error(y_test, y_pred)"
      ],
      "metadata": {
        "id": "if5goMGxANp7"
      },
      "execution_count": null,
      "outputs": []
    },
    {
      "cell_type": "markdown",
      "metadata": {
        "id": "unSUQzNc6_rq"
      },
      "source": [
        "Compare the RandomForest to the DecisionTree? Which model is better?"
      ]
    },
    {
      "cell_type": "markdown",
      "metadata": {
        "id": "_bkCebOd0XEm"
      },
      "source": [
        "**Answer:** ____"
      ]
    }
  ],
  "metadata": {
    "colab": {
      "name": "Recap Classification",
      "provenance": [],
      "toc_visible": true
    },
    "kernelspec": {
      "display_name": "Python 3 (ipykernel)",
      "language": "python",
      "name": "python3"
    },
    "language_info": {
      "codemirror_mode": {
        "name": "ipython",
        "version": 3
      },
      "file_extension": ".py",
      "mimetype": "text/x-python",
      "name": "python",
      "nbconvert_exporter": "python",
      "pygments_lexer": "ipython3",
      "version": "3.9.10"
    }
  },
  "nbformat": 4,
  "nbformat_minor": 0
}